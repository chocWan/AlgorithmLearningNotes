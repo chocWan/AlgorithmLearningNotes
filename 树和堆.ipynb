{
 "cells": [
  {
   "cell_type": "markdown",
   "metadata": {},
   "source": [
    "1. 什么是树\n",
    "    - 任意两点，只有一条连线，没有回路，即所谓的无向图\n",
    "2. 什么是树\n",
    "    - 每个节点最多只有两个分支\n",
    "3. 什么是完全二叉树\n",
    "    - 叶子节点只出现在最下层或次最下层，且只有左边有分支\n",
    "4. 什么是平衡二叉树\n",
    "    - 空树或左右两个子树的高度差绝对值不超过1，并且左右两个子树均为平衡二叉树\n",
    "5. 使用树的场景\n",
    "    - 数据检索（红黑树，B+数）；DOM解析；决策树；区块链的默克尔树\n",
    "6. 二叉树的前中后遍历以及层次遍历\n",
    "7. 二叉树的构造\n",
    "8. 什么是堆\n",
    "    - 堆是一类特殊的树，堆的通用特点就是父节点会大于或小于所有子节点\n",
    "9. 构造最大最小堆\n",
    "10. 翻转二叉树\n",
    "11. 海量数据topK问题\n",
    "12. 合并排序链表 to-do"
   ]
  },
  {
   "cell_type": "code",
   "execution_count": 4,
   "metadata": {
    "ExecuteTime": {
     "end_time": "2020-03-05T14:37:30.672701Z",
     "start_time": "2020-03-05T14:37:30.666717Z"
    }
   },
   "outputs": [
    {
     "data": {
      "text/html": [
       "<img src=\"./images/tree_category.png\", width=300, heigth=200>\n"
      ],
      "text/plain": [
       "<IPython.core.display.HTML object>"
      ]
     },
     "metadata": {},
     "output_type": "display_data"
    }
   ],
   "source": [
    "%%html\n",
    "<img src=\"./images/tree_category.png\", width=300, heigth=200>"
   ]
  },
  {
   "cell_type": "code",
   "execution_count": 8,
   "metadata": {
    "ExecuteTime": {
     "end_time": "2020-02-29T10:41:39.014122Z",
     "start_time": "2020-02-29T10:41:39.002123Z"
    }
   },
   "outputs": [
    {
     "name": "stdout",
     "output_type": "stream",
     "text": [
      "\t\t\t 0\n",
      "\t\t 1 \t\t 2\n",
      "\t 3 \t\t 4 5 \t\t 6\n",
      "7 \t\t 8 9\n",
      "前序（根左右）遍历结果： 0137849256\n",
      "中序（左根右）遍历结果： 7381940526\n",
      "后序（左右根）遍历结果： 7839415620\n"
     ]
    }
   ],
   "source": [
    "#构造一个二叉树基类\n",
    "class TreeNode:\n",
    "    def __init__(self, x):\n",
    "        self.val = x\n",
    "        self.left = None\n",
    "        self.right = None\n",
    "        \n",
    "class Node():\n",
    "    def __init__(self,data):\n",
    "        self.data = data\n",
    "        self.left = None\n",
    "        self.right = None\n",
    "\n",
    "temp_nodes = [Node(i) for i in range(10)]\n",
    "print('\\t\\t\\t',0)\n",
    "temp_nodes[0].left = temp_nodes[1]\n",
    "temp_nodes[0].right = temp_nodes[2]\n",
    "print('\\t\\t',1,'\\t\\t',2)\n",
    "temp_nodes[1].left = temp_nodes[3]\n",
    "temp_nodes[1].right = temp_nodes[4]\n",
    "temp_nodes[2].left = temp_nodes[5]\n",
    "temp_nodes[2].right = temp_nodes[6]\n",
    "print('\\t',3,'\\t\\t',4,5,'\\t\\t',6)\n",
    "temp_nodes[3].left = temp_nodes[7]\n",
    "# temp_nodes[3].right = temp_nodes[8]\n",
    "temp_nodes[4].left = temp_nodes[9]\n",
    "print(7,'\\t\\t',8,9)\n",
    "print('前序（根左右）遍历结果：','0137849256')\n",
    "print('中序（左根右）遍历结果：','7381940526')\n",
    "print('后序（左右根）遍历结果：','7839415620')\n",
    "test_binary_tree = temp_nodes[0]"
   ]
  },
  {
   "cell_type": "code",
   "execution_count": 24,
   "metadata": {
    "ExecuteTime": {
     "end_time": "2020-02-29T10:53:20.556255Z",
     "start_time": "2020-02-29T10:53:20.548255Z"
    }
   },
   "outputs": [],
   "source": [
    "def prettyPrintTree(node, prefix=\"\", isLeft=True):\n",
    "    if not node:\n",
    "        print(\"Empty Tree\")\n",
    "        return\n",
    "\n",
    "    if node.right:\n",
    "        prettyPrintTree(node.right, prefix + (\"│   \" if isLeft else \"    \"), False)\n",
    "\n",
    "    print(prefix + (\"└── \" if isLeft else \"┌── \") + str(node.data))\n",
    "\n",
    "    if node.left:\n",
    "        prettyPrintTree(node.left, prefix + (\"    \" if isLeft else \"│   \"), True)\n"
   ]
  },
  {
   "cell_type": "code",
   "execution_count": 27,
   "metadata": {
    "ExecuteTime": {
     "end_time": "2020-02-29T10:53:49.372239Z",
     "start_time": "2020-02-29T10:53:49.364239Z"
    }
   },
   "outputs": [
    {
     "name": "stdout",
     "output_type": "stream",
     "text": [
      "│       ┌── 6\n",
      "│   ┌── 2\n",
      "│   │   └── 5\n",
      "└── 0\n",
      "    │   ┌── 4\n",
      "    │   │   └── 9\n",
      "    └── 1\n",
      "        └── 3\n",
      "            └── 7\n"
     ]
    }
   ],
   "source": [
    "prettyPrintTree(test_binary_tree)"
   ]
  },
  {
   "cell_type": "code",
   "execution_count": 3,
   "metadata": {
    "ExecuteTime": {
     "end_time": "2020-02-01T03:14:11.984495Z",
     "start_time": "2020-02-01T03:14:11.972549Z"
    }
   },
   "outputs": [
    {
     "name": "stdout",
     "output_type": "stream",
     "text": [
      "[0, 1, 3, 7, 8, 4, 9, 2, 5, 6]\n"
     ]
    }
   ],
   "source": [
    "#二叉树的前序遍历 根左右 递归方式\n",
    "preorder_traversal_res = []\n",
    "def preorder_traversal(binary_tree):\n",
    "    if not binary_tree:\n",
    "        return\n",
    "    preorder_traversal_res.append(binary_tree.data)\n",
    "    preorder_traversal(binary_tree.left)\n",
    "    preorder_traversal(binary_tree.right)\n",
    "preorder_traversal(test_binary_tree)\n",
    "print(preorder_traversal_res)"
   ]
  },
  {
   "cell_type": "code",
   "execution_count": 33,
   "metadata": {
    "ExecuteTime": {
     "end_time": "2020-01-31T08:16:33.212915Z",
     "start_time": "2020-01-31T08:16:33.201951Z"
    }
   },
   "outputs": [
    {
     "name": "stdout",
     "output_type": "stream",
     "text": [
      "[0, 1, 3, 7, 8, 4, 9, 2, 5, 6]\n"
     ]
    }
   ],
   "source": [
    "#二叉树的前序遍历 根左右 队列方式\n",
    "preorder_traversal_res = []\n",
    "stack = []\n",
    "def preorder_traversal(binary_tree):\n",
    "    if binary_tree is None:\n",
    "        return\n",
    "    node = binary_tree\n",
    "    while node or stack:\n",
    "        while node:\n",
    "            #根节点的值入队\n",
    "            preorder_traversal_res.append(node.data)\n",
    "            #节点入栈\n",
    "            stack.append(node)\n",
    "            #迭代左节点\n",
    "            node = node.left\n",
    "        #弹出栈顶元素\n",
    "        node = stack.pop()\n",
    "        #迭代右节点\n",
    "        node = node.right\n",
    "preorder_traversal(test_binary_tree)\n",
    "print(preorder_traversal_res)"
   ]
  },
  {
   "cell_type": "code",
   "execution_count": 39,
   "metadata": {
    "ExecuteTime": {
     "end_time": "2020-01-31T08:21:20.182768Z",
     "start_time": "2020-01-31T08:21:20.173827Z"
    }
   },
   "outputs": [
    {
     "name": "stdout",
     "output_type": "stream",
     "text": [
      "[7, 3, 8, 1, 9, 4, 0, 5, 2, 6]\n"
     ]
    }
   ],
   "source": [
    "#二叉树的中序遍历 左根右 递归方式\n",
    "inorder_traversal_res = []\n",
    "def inorder_traversal(binary_tree):\n",
    "    if not binary_tree:\n",
    "        return\n",
    "    inorder_traversal(binary_tree.left)\n",
    "    inorder_traversal_res.append(binary_tree.data)\n",
    "    inorder_traversal(binary_tree.right)\n",
    "inorder_traversal(test_binary_tree)\n",
    "print(inorder_traversal_res)"
   ]
  },
  {
   "cell_type": "code",
   "execution_count": 38,
   "metadata": {
    "ExecuteTime": {
     "end_time": "2020-01-31T08:20:41.006005Z",
     "start_time": "2020-01-31T08:20:40.995069Z"
    }
   },
   "outputs": [
    {
     "name": "stdout",
     "output_type": "stream",
     "text": [
      "[7, 3, 8, 1, 9, 4, 0, 5, 2, 6]\n"
     ]
    }
   ],
   "source": [
    "#二叉树的中序遍历 左根右 队列方式\n",
    "inorder_traversal_res = []\n",
    "stack = []\n",
    "def inorder_traversal(binary_tree):\n",
    "    if not binary_tree:\n",
    "        return\n",
    "    node = binary_tree\n",
    "    while node or stack:\n",
    "        #遍历左边节点\n",
    "        while node:\n",
    "            #节点入栈\n",
    "            stack.append(node)\n",
    "            #迭代下一左节点\n",
    "            node = node.left\n",
    "        node = stack.pop()\n",
    "        inorder_traversal_res.append(node.data)\n",
    "        node = node.right\n",
    "            \n",
    "inorder_traversal(test_binary_tree)\n",
    "print(inorder_traversal_res)"
   ]
  },
  {
   "cell_type": "code",
   "execution_count": 89,
   "metadata": {
    "ExecuteTime": {
     "end_time": "2020-01-31T05:04:52.895337Z",
     "start_time": "2020-01-31T05:04:52.887379Z"
    }
   },
   "outputs": [
    {
     "name": "stdout",
     "output_type": "stream",
     "text": [
      "[7, 8, 3, 9, 4, 1, 5, 6, 2, 0]\n"
     ]
    }
   ],
   "source": [
    "#二叉树的后序遍历 左右根 递归方式\n",
    "postorder_traversal_res = []\n",
    "def postorder_traversal(binary_tree):\n",
    "    if not binary_tree:\n",
    "        return\n",
    "    postorder_traversal(binary_tree.left)\n",
    "    postorder_traversal(binary_tree.right)\n",
    "    postorder_traversal_res.append(binary_tree.data)\n",
    "postorder_traversal(test_binary_tree)\n",
    "print(postorder_traversal_res)"
   ]
  },
  {
   "cell_type": "code",
   "execution_count": 36,
   "metadata": {
    "ExecuteTime": {
     "end_time": "2020-02-26T15:32:44.203120Z",
     "start_time": "2020-02-26T15:32:44.195153Z"
    }
   },
   "outputs": [
    {
     "data": {
      "text/plain": [
       "3"
      ]
     },
     "execution_count": 36,
     "metadata": {},
     "output_type": "execute_result"
    }
   ],
   "source": [
    "#树的深度\n",
    "level_traversal_res = []\n",
    "queue = []\n",
    "def depth_traversal(binary_tree):\n",
    "    if not binary_tree:return 0\n",
    "    depth_left = depth_traversal(binary_tree.left)+1\n",
    "    depth_right = depth_traversal(binary_tree.right)+1\n",
    "    return max(depth_left,depth_right)\n",
    "    \n",
    "depth_traversal(test_binary_tree)\n",
    "    \n",
    "    "
   ]
  },
  {
   "cell_type": "code",
   "execution_count": 45,
   "metadata": {
    "ExecuteTime": {
     "end_time": "2020-01-31T08:34:09.861030Z",
     "start_time": "2020-01-31T08:34:09.851055Z"
    }
   },
   "outputs": [
    {
     "name": "stdout",
     "output_type": "stream",
     "text": [
      "[7, 8, 3, 9, 4, 1, 5, 6, 2, 0]\n"
     ]
    }
   ],
   "source": [
    "#二叉树的后序遍历 左右根 队列方式\n",
    "postorder_traversal_res = []\n",
    "#存储左右两个节点\n",
    "stack_lr = []\n",
    "#按左右根的顺序存储树节点\n",
    "stack_root = []\n",
    "def postorder_traversal(binary_tree):\n",
    "    if not binary_tree:\n",
    "        return\n",
    "    node = binary_tree\n",
    "    stack_lr.append(node)\n",
    "    while stack_lr:\n",
    "        node = stack_lr.pop()\n",
    "        if node.left:\n",
    "            stack_lr.append(node.left)\n",
    "        if node.right:\n",
    "            stack_lr.append(node.right)\n",
    "        stack_root.append(node)\n",
    "    while stack_root:\n",
    "        node = stack_root.pop()\n",
    "        postorder_traversal_res.append(node.data)\n",
    "    \n",
    "postorder_traversal(test_binary_tree)\n",
    "print(postorder_traversal_res)"
   ]
  },
  {
   "cell_type": "code",
   "execution_count": 31,
   "metadata": {
    "ExecuteTime": {
     "end_time": "2020-02-26T15:23:39.016901Z",
     "start_time": "2020-02-26T15:23:39.004900Z"
    }
   },
   "outputs": [
    {
     "name": "stdout",
     "output_type": "stream",
     "text": [
      "[0, 1, 2, 3, 4, 5, 6, 7, 9]\n"
     ]
    }
   ],
   "source": [
    "#树的层次遍历\n",
    "level_traversal_res = []\n",
    "queue = []\n",
    "def level_traversal(binary_tree):\n",
    "    if not binary_tree:\n",
    "        return\n",
    "    node = binary_tree\n",
    "    queue.append(node)\n",
    "    while queue:\n",
    "        node = queue.pop(0)\n",
    "        if node:\n",
    "            level_traversal_res.append(node.data)\n",
    "        if node and node.left:queue.append(node.left)\n",
    "        if node and node.right:queue.append(node.right)\n",
    "        \n",
    "        \n",
    "    \n",
    "level_traversal(test_binary_tree)\n",
    "print(level_traversal_res)"
   ]
  },
  {
   "cell_type": "code",
   "execution_count": 37,
   "metadata": {
    "ExecuteTime": {
     "end_time": "2020-02-01T04:17:42.078175Z",
     "start_time": "2020-02-01T04:17:42.066193Z"
    },
    "code_folding": []
   },
   "outputs": [
    {
     "name": "stdout",
     "output_type": "stream",
     "text": [
      "[1, 2, 3, 5, 4, 6, 7, 8, 9, 10]\n"
     ]
    }
   ],
   "source": [
    "#构造最小/最大堆 非递归\n",
    "arr = [7,5,3,9,4,6,1,8,2,10]\n",
    "def heapify_min(arr):\n",
    "    arr_size = len(arr)\n",
    "    #下到上，右到左，每个根元素与左右子元素对比\n",
    "    #遍历每一层\n",
    "    for i in range(arr_size//2,-1,-1):\n",
    "        while i < arr_size:\n",
    "            #当前临时根节点、左节点、右节点的索引\n",
    "            _i , left , right = i , 2*i+1 , 2*i=2\n",
    "            #与当前根节点的做引进行对比，小于则交换\n",
    "            if left < arr_size and arr[left] < arr[_i]:\n",
    "                _i = left\n",
    "            if right < arr_size and arr[right] < arr[_i]:\n",
    "                _i = right\n",
    "            #临时根节点与根节点不一致，则需要调换，并需要重新调整_i所在的节点\n",
    "            if _i != i:\n",
    "                arr[i],arr[_i] = arr[_i],arr[i]\n",
    "                i = _i\n",
    "            else:\n",
    "                break\n",
    "    return arr\n",
    "                \n",
    "print(heapify(arr))                "
   ]
  },
  {
   "cell_type": "code",
   "execution_count": 45,
   "metadata": {
    "ExecuteTime": {
     "end_time": "2020-02-01T04:44:35.344125Z",
     "start_time": "2020-02-01T04:44:35.336138Z"
    }
   },
   "outputs": [
    {
     "name": "stdout",
     "output_type": "stream",
     "text": [
      "[1, 2, 3, 5, 4, 6, 7, 8, 9, 10]\n"
     ]
    }
   ],
   "source": [
    "#构造最小/最大堆 非递归\n",
    "arr = [7,5,3,9,4,6,1,8,2,10]\n",
    "def heap_adjust(arr,arr_size,i):\n",
    "    _i ,left ,right = i ,2*i+1 ,2*i+2\n",
    "    if left < arr_size and arr[left] < arr[_i]:\n",
    "        _i = left\n",
    "    if right < arr_size and arr[right] < arr[_i]:\n",
    "        _i = right\n",
    "    if _i != i:\n",
    "        arr[i] ,arr[_i] = arr[_i] ,arr[i]\n",
    "        heap_adjust(arr,arr_size,_i)\n",
    "\n",
    "def heapify_min(arr):\n",
    "    arr_size = len(arr)\n",
    "    for i in range(arr_size // 2, -1 ,-1):\n",
    "        heap_adjust(arr,arr_size,i)\n",
    "    return arr\n",
    "print(heapify_min(arr))"
   ]
  },
  {
   "cell_type": "code",
   "execution_count": 60,
   "metadata": {
    "ExecuteTime": {
     "end_time": "2020-02-01T07:42:02.059279Z",
     "start_time": "2020-02-01T07:42:02.047294Z"
    }
   },
   "outputs": [
    {
     "name": "stdout",
     "output_type": "stream",
     "text": [
      "[1, 2, 3, 4, 7, 6, 5, 9, 8, 10]\n",
      "1\n",
      "[2, 4, 3, 8, 7, 6, 5, 9, 10]\n",
      "[1, 2, 3, 8, 4, 6, 5, 9, 10, 7]\n"
     ]
    }
   ],
   "source": [
    "#python 自带堆化方法\n",
    "import heapq\n",
    "heap = []\n",
    "arr = [7,5,3,9,4,6,1,8,2,10]\n",
    "#heapq.heappush 生成最小堆\n",
    "for i in arr:\n",
    "    heapq.heappush(heap,i)\n",
    "print(heap)\n",
    "#heapq.heappop()弹出堆中的最小元素，保持堆不变\n",
    "pop_item = heapq.heappop(heap)\n",
    "print(pop_item)\n",
    "print(heap)\n",
    "heapq.heappush(heap,pop_item)\n",
    "print(heap)"
   ]
  },
  {
   "cell_type": "code",
   "execution_count": 50,
   "metadata": {
    "ExecuteTime": {
     "end_time": "2020-02-01T07:12:29.938761Z",
     "start_time": "2020-02-01T07:12:29.930773Z"
    }
   },
   "outputs": [
    {
     "data": {
      "text/plain": [
       "[1, 2, 3, 5, 4, 6, 7, 8, 9, 10]"
      ]
     },
     "execution_count": 50,
     "metadata": {},
     "output_type": "execute_result"
    }
   ],
   "source": [
    "#heapq.heapify\n",
    "heapq.heapify(arr)\n",
    "arr"
   ]
  },
  {
   "cell_type": "code",
   "execution_count": 52,
   "metadata": {
    "ExecuteTime": {
     "end_time": "2020-02-01T07:20:25.819398Z",
     "start_time": "2020-02-01T07:20:25.811409Z"
    }
   },
   "outputs": [],
   "source": [
    "#翻转二叉树\n",
    "def invert_binary_tree(node):\n",
    "    if not node:\n",
    "        return\n",
    "    node.left ,node.right = node.right ,node.left\n",
    "    invert_binary_tree(node.left)\n",
    "    invert_binary_tree(node.right)\n",
    "invert_binary_tree(test_binary_tree)\n"
   ]
  },
  {
   "cell_type": "code",
   "execution_count": 64,
   "metadata": {
    "ExecuteTime": {
     "end_time": "2020-02-01T07:46:05.419977Z",
     "start_time": "2020-02-01T07:46:05.407992Z"
    }
   },
   "outputs": [
    {
     "name": "stdout",
     "output_type": "stream",
     "text": [
      "[7, 5, 3]\n",
      "[3, 5, 7]\n",
      "[8, 9, 10]\n"
     ]
    }
   ],
   "source": [
    "#海量数据topK问题 最小堆方法 算法复杂度O(nlogK)，n为数据量，K为topK的值\n",
    "#快速排序，需要读入所有数据，内存是个问题，复杂度为nlogn\n",
    "#分治法，将n拆分为n//K，每个中取topK\n",
    "import heapq\n",
    "arr = [7,5,3,9,4,6,1,8,2,10]\n",
    "topK = 3\n",
    "arr_topK = arr[:topK]\n",
    "print(arr_topK)\n",
    "#先根据arr_topK建立最小堆 这里使用python内置的函数，同上述的heapify_min\n",
    "heapq.heapify(arr_topK)\n",
    "print(arr_topK)\n",
    "#大于堆顶的元素，入堆进行调整\n",
    "for i in arr[topK:]:\n",
    "    if i > arr_topK[0]:\n",
    "        arr_topK[0] = i\n",
    "    heapq.heapify(arr_topK)\n",
    "print(arr_topK)"
   ]
  },
  {
   "cell_type": "markdown",
   "metadata": {},
   "source": [
    "树系列-leetcode 刷题记录"
   ]
  },
  {
   "cell_type": "code",
   "execution_count": 11,
   "metadata": {
    "ExecuteTime": {
     "end_time": "2020-02-23T06:49:22.091478Z",
     "start_time": "2020-02-23T06:49:22.081504Z"
    }
   },
   "outputs": [
    {
     "name": "stdout",
     "output_type": "stream",
     "text": [
      "2\n",
      "1\n",
      "0\n",
      "1\n",
      "0\n"
     ]
    },
    {
     "data": {
      "text/plain": [
       "<__main__.TreeNode at 0x26c6e76fcc0>"
      ]
     },
     "execution_count": 11,
     "metadata": {},
     "output_type": "execute_result"
    }
   ],
   "source": [
    "class TreeNode:\n",
    "    def __init__(self, x):\n",
    "        self.val = x\n",
    "        self.left = None\n",
    "        self.right = None\n",
    "\n",
    "class Solution:\n",
    "    def sortedArrayToBST(self, nums: List[int]) -> TreeNode:\n",
    "        #取中间；劈开；取中间\n",
    "        def solve(nums):\n",
    "            if not nums:return\n",
    "            split_idx = len(nums)//2\n",
    "            print(split_idx)\n",
    "            tree = TreeNode(nums[split_idx])\n",
    "            tree.left = solve(nums[:split_idx])\n",
    "            tree.right = solve(nums[split_idx+1:])\n",
    "            return tree\n",
    "        return solve(nums)\n",
    "    \n",
    "nums = [-10,-3,0,5,9]\n",
    "solution = Solution()\n",
    "solution.sortedArrayToBST(nums)"
   ]
  },
  {
   "cell_type": "code",
   "execution_count": 38,
   "metadata": {
    "ExecuteTime": {
     "end_time": "2020-02-25T13:41:49.780556Z",
     "start_time": "2020-02-25T13:41:49.766174Z"
    }
   },
   "outputs": [
    {
     "name": "stdout",
     "output_type": "stream",
     "text": [
      "[1, 1, 1, 0, 0, 0]\n"
     ]
    },
    {
     "data": {
      "text/plain": [
       "False"
      ]
     },
     "execution_count": 38,
     "metadata": {},
     "output_type": "execute_result"
    }
   ],
   "source": [
    "def validateBinaryTreeNodes(n: int, leftChild: List[int], rightChild: List[int]) -> bool:\n",
    "    left = leftChild[0]\n",
    "    right = rightChild[0]\n",
    "    queue = []\n",
    "    visited = [0 for i in range(n)]\n",
    "    if left != -1:queue.append(left)\n",
    "    if right != -1:queue.append(right)\n",
    "    #父节点的访问记录\n",
    "    visited[0] = 1\n",
    "    while queue:\n",
    "        item = queue.pop(0)\n",
    "        #已访问过\n",
    "        if visited[item] == 1:\n",
    "            return False\n",
    "        #不为-1，即存在子节点，子节点入队\n",
    "        if item != -1:\n",
    "            visited[item] = 1\n",
    "            left = leftChild[item]\n",
    "            right = rightChild[item]\n",
    "            if left == -1 and right == -1 and not queue:\n",
    "                break\n",
    "            if left != -1:queue.append(left)\n",
    "            if right != -1:queue.append(right)\n",
    "    return False if 0 in visited else True\n",
    "            \n",
    "n = 6\n",
    "leftChild = [1,-1,-1,4,-1,-1]\n",
    "rightChild = [2,-1,-1,5,-1,-1]\n",
    "validateBinaryTreeNodes(n,leftChild,rightChild)"
   ]
  },
  {
   "cell_type": "code",
   "execution_count": 20,
   "metadata": {
    "ExecuteTime": {
     "end_time": "2020-02-29T10:49:10.886328Z",
     "start_time": "2020-02-29T10:49:10.874326Z"
    }
   },
   "outputs": [
    {
     "name": "stdout",
     "output_type": "stream",
     "text": [
      "│       ┌── 7\n",
      "│   ┌── 20\n",
      "│   │   └── 15\n",
      "└── 3\n",
      "    └── 9\n"
     ]
    }
   ],
   "source": [
    "\n",
    "\n",
    "        \n",
    "class Solution:\n",
    "    def buildTree(self, preorder: List[int], inorder: List[int]) -> TreeNode:\n",
    "        def solve(preorder,inorder,root,pre_left,pre_right,in_left,in_right):\n",
    "            if pre_left > pre_right or in_left > in_right:return None\n",
    "            privot = preorder[pre_left]\n",
    "            in_privot_idx = inorder.index(privot)\n",
    "            root = TreeNode(privot)\n",
    "\n",
    "            _pre_left = pre_left + 1\n",
    "            _pre_right = pre_left + (in_privot_idx-in_left)\n",
    "            _in_left = in_left\n",
    "            _in_right = in_privot_idx - 1\n",
    "            root.left = solve(preorder,inorder,root,_pre_left,_pre_right,_in_left,_in_right)\n",
    "            \n",
    "            _pre_left = pre_left + (in_privot_idx-in_left) + 1\n",
    "            _pre_right = pre_right\n",
    "            _in_left = in_privot_idx + 1\n",
    "            _in_right = in_right\n",
    "            root.right = solve(preorder,inorder,root,_pre_left,_pre_right,_in_left,_in_right)\n",
    "            return root\n",
    "\n",
    "        return solve(preorder,inorder,None,0,len(preorder)-1,0,len(inorder)-1)\n",
    "    \n",
    "solution = Solution()\n",
    "preorder = [3,9,20,15,7]\n",
    "inorder = [9,3,15,20,7]\n",
    "tree = solution.buildTree(preorder,inorder)\n",
    "prettyPrintTree(tree)"
   ]
  },
  {
   "cell_type": "code",
   "execution_count": 6,
   "metadata": {
    "ExecuteTime": {
     "end_time": "2020-03-01T06:56:16.452802Z",
     "start_time": "2020-03-01T06:56:16.445820Z"
    }
   },
   "outputs": [
    {
     "data": {
      "text/plain": [
       "3"
      ]
     },
     "execution_count": 6,
     "metadata": {},
     "output_type": "execute_result"
    }
   ],
   "source": [
    "a = [1,2,3]\n",
    "a.pop()"
   ]
  },
  {
   "cell_type": "code",
   "execution_count": 4,
   "metadata": {
    "ExecuteTime": {
     "end_time": "2020-03-01T06:56:11.013938Z",
     "start_time": "2020-03-01T06:56:11.008953Z"
    }
   },
   "outputs": [
    {
     "data": {
      "text/plain": [
       "3"
      ]
     },
     "execution_count": 4,
     "metadata": {},
     "output_type": "execute_result"
    }
   ],
   "source": [
    "a.pop()"
   ]
  },
  {
   "cell_type": "code",
   "execution_count": 44,
   "metadata": {
    "ExecuteTime": {
     "end_time": "2020-03-03T14:19:18.291727Z",
     "start_time": "2020-03-03T14:19:18.284743Z"
    }
   },
   "outputs": [
    {
     "data": {
      "text/plain": [
       "[1]"
      ]
     },
     "execution_count": 44,
     "metadata": {},
     "output_type": "execute_result"
    }
   ],
   "source": [
    "a = [1,2]\n",
    "a.pop()\n",
    "a"
   ]
  },
  {
   "cell_type": "code",
   "execution_count": 11,
   "metadata": {
    "ExecuteTime": {
     "end_time": "2020-03-03T14:01:14.126393Z",
     "start_time": "2020-03-03T14:01:14.121407Z"
    }
   },
   "outputs": [],
   "source": []
  },
  {
   "cell_type": "code",
   "execution_count": 43,
   "metadata": {
    "ExecuteTime": {
     "end_time": "2020-03-03T14:15:33.436606Z",
     "start_time": "2020-03-03T14:15:33.425638Z"
    }
   },
   "outputs": [
    {
     "data": {
      "text/plain": [
       "[1, 2, 2, 3, 5, 6]"
      ]
     },
     "execution_count": 43,
     "metadata": {},
     "output_type": "execute_result"
    }
   ],
   "source": [
    "A = [1,2,3,0,0,0]\n",
    "B = [2,5,6]\n",
    "m = 2+1\n",
    "n = 2+1\n",
    "A = A[:len(A)-n]\n",
    "for i in range(len(B)):\n",
    "    flag = True\n",
    "    if B[i] <= A[0]:\n",
    "        A.insert(0,B[i])\n",
    "        continue\n",
    "    if B[i] >= A[len(A)-1]:\n",
    "        A.append(B[i])\n",
    "        continue\n",
    "    for j in range(len(A)):\n",
    "        if B[i] >= A[j]:\n",
    "            A.insert(j+1,B[i])\n",
    "            break\n",
    "    \n",
    "\n",
    "A"
   ]
  },
  {
   "cell_type": "code",
   "execution_count": null,
   "metadata": {},
   "outputs": [],
   "source": []
  },
  {
   "cell_type": "code",
   "execution_count": null,
   "metadata": {},
   "outputs": [],
   "source": []
  },
  {
   "cell_type": "code",
   "execution_count": 1,
   "metadata": {
    "ExecuteTime": {
     "end_time": "2020-03-04T04:43:56.636653Z",
     "start_time": "2020-03-04T04:43:56.632664Z"
    }
   },
   "outputs": [],
   "source": [
    "from typing import List"
   ]
  },
  {
   "cell_type": "code",
   "execution_count": 9,
   "metadata": {
    "ExecuteTime": {
     "end_time": "2020-03-04T05:38:11.609407Z",
     "start_time": "2020-03-04T05:38:11.580485Z"
    }
   },
   "outputs": [
    {
     "name": "stdout",
     "output_type": "stream",
     "text": [
      "[0, 0, 0]\n",
      "[4, 0, 0]\n",
      "[1, 0, 1]\n",
      "[3, 0, 1]\n",
      "[5, 0, 1]\n",
      "[2, 0, 2]\n",
      "[6, 0, 2]\n"
     ]
    },
    {
     "data": {
      "text/plain": [
       "2"
      ]
     },
     "execution_count": 9,
     "metadata": {},
     "output_type": "execute_result"
    }
   ],
   "source": [
    "'''\n",
    "题目目标：\n",
    "二维数组，值为012\n",
    "为2的位置，找到对应上下左右4个位置是否有1，将1更新为2，耗时一分钟\n",
    "重复步骤二，耗时分钟加1，直到数组中没有1\n",
    "解题思路：\n",
    "BFS\n",
    "全局遍历，找到所有2的点，标记已访问，入队\n",
    "遍历队列\n",
    "找到每个点的4个方向，将1的点更新为2，入队\n",
    "重复上述步骤\n",
    "查询是否还有1的点\n",
    "'''\n",
    "class Solution:\n",
    "\n",
    "    def get_neghbours(self,x,y,z):\n",
    "        res = []\n",
    "        #上\n",
    "        if x > 0 :res.append([x-1,y,z])\n",
    "        #下\n",
    "        if x < self.height-1 :res.append([x+1,y,z])\n",
    "        #左\n",
    "        if y > 0 :res.append([x,y-1,z])\n",
    "        #右\n",
    "        if y < self.width-1 :res.append([x,y+1,z])\n",
    "        return res\n",
    "        \n",
    "\n",
    "    def orangesRotting(self, grid: List[List[int]]) -> int:\n",
    "        curr_flag = 0\n",
    "        count_1 = 0\n",
    "        self.height = len(grid)\n",
    "        self.width = len(grid[0])\n",
    "        self.visited = [[0 for i in range(self.width)] for j in range(self.height)]\n",
    "        q = []\n",
    "        #找到所有腐败的\n",
    "        for i in range(self.height):\n",
    "            for j in range(self.width):\n",
    "                if grid[i][j] == 2:\n",
    "                    q.append([i,j,curr_flag])\n",
    "                if grid[i][j] == 1:\n",
    "                    count_1 += 1\n",
    "        \n",
    "        #没有腐败的\n",
    "        if not q:\n",
    "            #有橘子，返回-1\n",
    "            if count_1 > 0:return -1\n",
    "            #没有橘子，返回0\n",
    "            else:return 0\n",
    "\n",
    "        #有腐败的\n",
    "        while q:\n",
    "            item = q.pop(0)\n",
    "            print(item)\n",
    "            curr_flag = max(item[2],curr_flag)\n",
    "            if self.visited[i][j] == 0:\n",
    "                neghbours = self.get_neghbours(item[0],item[1],item[2])\n",
    "                for r in neghbours:\n",
    "                    if self.visited[r[0]][r[1]] == 0 and grid[r[0]][r[1]] == 1:\n",
    "                        grid[r[0]][r[1]] = 2\n",
    "                        q.append([r[0],r[1],r[2]+1])\n",
    "        \n",
    "        #腐败后，还有没有腐败的\n",
    "        for i in range(self.height):\n",
    "            for j in range(self.width):\n",
    "                if grid[i][j] == 1:\n",
    "                    return -1\n",
    "\n",
    "        return curr_flag\n",
    "    \n",
    "grid = [[2],[1],[1],[1],[2],[1],[1]]\n",
    "s = Solution()\n",
    "s.orangesRotting(grid)"
   ]
  },
  {
   "cell_type": "code",
   "execution_count": 16,
   "metadata": {
    "ExecuteTime": {
     "end_time": "2020-03-05T13:47:42.101418Z",
     "start_time": "2020-03-05T13:47:42.082470Z"
    }
   },
   "outputs": [
    {
     "data": {
      "text/plain": [
       "[3, 2]"
      ]
     },
     "execution_count": 16,
     "metadata": {},
     "output_type": "execute_result"
    }
   ],
   "source": [
    "class Solution:\n",
    "    def distributeCandies(self, candies: int, num_people: int) -> List[int]:\n",
    "        #最多可以发多少轮\n",
    "        max_round = 10**9\n",
    "        for i in range(1,max_round):\n",
    "            if (1+i*num_people)*i*num_people/2 >= candies:\n",
    "                max_round = i\n",
    "                break\n",
    "        #取max_round-1进行初始化\n",
    "        res = [0 for i in range(num_people)]\n",
    "        if max_round > 1:\n",
    "            for i in range(1,num_people+1):\n",
    "                curr = int(( i + ( (max_round-2)*num_people+i) ) * (max_round-1) / 2)\n",
    "                res[i-1] = curr\n",
    "        left_candies = int(candies - (1+(max_round-1)*num_people)*(max_round-1)*num_people/2)\n",
    "        #第i个人第max_round轮需要max_round*num_peoples+i\n",
    "        for i in range(1,num_people+1):\n",
    "            curr = (max_round-1)*num_people+i\n",
    "            if left_candies >= curr:\n",
    "                res[i-1] += curr\n",
    "                left_candies -= curr\n",
    "            else:\n",
    "                res[i-1] += left_candies\n",
    "                break\n",
    "\n",
    "        return res\n",
    "    \n",
    "candies = 5\n",
    "num_people = 2\n",
    "solution = Solution()\n",
    "solution.distributeCandies(candies,num_people)"
   ]
  },
  {
   "cell_type": "code",
   "execution_count": null,
   "metadata": {},
   "outputs": [],
   "source": []
  },
  {
   "cell_type": "code",
   "execution_count": null,
   "metadata": {},
   "outputs": [],
   "source": []
  },
  {
   "cell_type": "code",
   "execution_count": null,
   "metadata": {},
   "outputs": [],
   "source": []
  },
  {
   "cell_type": "code",
   "execution_count": null,
   "metadata": {},
   "outputs": [],
   "source": []
  },
  {
   "cell_type": "code",
   "execution_count": null,
   "metadata": {},
   "outputs": [],
   "source": []
  },
  {
   "cell_type": "code",
   "execution_count": null,
   "metadata": {},
   "outputs": [],
   "source": []
  }
 ],
 "metadata": {
  "kernelspec": {
   "display_name": "Python [conda env:root] *",
   "language": "python",
   "name": "conda-root-py"
  },
  "language_info": {
   "codemirror_mode": {
    "name": "ipython",
    "version": 3
   },
   "file_extension": ".py",
   "mimetype": "text/x-python",
   "name": "python",
   "nbconvert_exporter": "python",
   "pygments_lexer": "ipython3",
   "version": "3.7.3"
  },
  "varInspector": {
   "cols": {
    "lenName": 16,
    "lenType": 16,
    "lenVar": 40
   },
   "kernels_config": {
    "python": {
     "delete_cmd_postfix": "",
     "delete_cmd_prefix": "del ",
     "library": "var_list.py",
     "varRefreshCmd": "print(var_dic_list())"
    },
    "r": {
     "delete_cmd_postfix": ") ",
     "delete_cmd_prefix": "rm(",
     "library": "var_list.r",
     "varRefreshCmd": "cat(var_dic_list()) "
    }
   },
   "types_to_exclude": [
    "module",
    "function",
    "builtin_function_or_method",
    "instance",
    "_Feature"
   ],
   "window_display": false
  }
 },
 "nbformat": 4,
 "nbformat_minor": 2
}
