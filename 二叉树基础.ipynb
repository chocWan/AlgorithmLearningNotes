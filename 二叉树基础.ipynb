{
 "cells": [
  {
   "cell_type": "markdown",
   "metadata": {},
   "source": [
    "##### 概要\n",
    "###### 什么是树\n",
    "    - 任意两点，只有一条连线，没有回路，即所谓的无向图\n",
    "###### 什么是二叉树\n",
    "    - 每个节点最多只有两个分支\n",
    "###### 什么是满二叉树\n",
    "    - 高度为h，由2**h-1个节点构成的二叉树\n",
    "###### 什么是完全二叉树\n",
    "    - 深度为h，[0,h-1]层为满二叉树\n",
    "    - 第 h 层所有的结点都连续集中在最左边\n",
    "###### 什么是平衡二叉树\n",
    "    - 空树或左右两个子树的高度差绝对值不超过1，并且左右两个子树均为平衡二叉树\n",
    "###### 使用树的场景\n",
    "    - 数据检索（红黑树，B+数）；DOM解析；决策树；区块链的默克尔树\n",
    "###### 二叉树的前中后遍历以及层次遍历（递归和递推）\n",
    "###### 二叉树的构造（根据前中后遍历结果）\n",
    "###### 二叉树实战：\n",
    "    - 翻转二叉树\n",
    "    - 二叉树深度\n",
    "    - 二叉搜索树\n"
   ]
  },
  {
   "cell_type": "markdown",
   "metadata": {},
   "source": [
    "##### 树结构总体结构图"
   ]
  },
  {
   "cell_type": "code",
   "execution_count": 4,
   "metadata": {
    "ExecuteTime": {
     "end_time": "2020-03-05T14:37:30.672701Z",
     "start_time": "2020-03-05T14:37:30.666717Z"
    }
   },
   "outputs": [
    {
     "data": {
      "text/html": [
       "<img src=\"./images/tree_category.png\", width=300, heigth=200>\n"
      ],
      "text/plain": [
       "<IPython.core.display.HTML object>"
      ]
     },
     "metadata": {},
     "output_type": "display_data"
    }
   ],
   "source": [
    "%%html\n",
    "<img src=\"./images/tree_category.png\", width=300, heigth=200>"
   ]
  },
  {
   "cell_type": "code",
   "execution_count": 8,
   "metadata": {
    "ExecuteTime": {
     "end_time": "2020-02-29T10:41:39.014122Z",
     "start_time": "2020-02-29T10:41:39.002123Z"
    }
   },
   "outputs": [
    {
     "name": "stdout",
     "output_type": "stream",
     "text": [
      "\t\t\t 0\n",
      "\t\t 1 \t\t 2\n",
      "\t 3 \t\t 4 5 \t\t 6\n",
      "7 \t\t 8 9\n",
      "前序（根左右）遍历结果： 0137849256\n",
      "中序（左根右）遍历结果： 7381940526\n",
      "后序（左右根）遍历结果： 7839415620\n"
     ]
    }
   ],
   "source": [
    "#构造一个二叉树基类\n",
    "class TreeNode:\n",
    "    def __init__(self, x):\n",
    "        self.val = x\n",
    "        self.left = None\n",
    "        self.right = None\n",
    "        \n",
    "class Node():\n",
    "    def __init__(self,data):\n",
    "        self.data = data\n",
    "        self.left = None\n",
    "        self.right = None\n",
    "\n",
    "temp_nodes = [Node(i) for i in range(10)]\n",
    "print('\\t\\t\\t',0)\n",
    "temp_nodes[0].left = temp_nodes[1]\n",
    "temp_nodes[0].right = temp_nodes[2]\n",
    "print('\\t\\t',1,'\\t\\t',2)\n",
    "temp_nodes[1].left = temp_nodes[3]\n",
    "temp_nodes[1].right = temp_nodes[4]\n",
    "temp_nodes[2].left = temp_nodes[5]\n",
    "temp_nodes[2].right = temp_nodes[6]\n",
    "print('\\t',3,'\\t\\t',4,5,'\\t\\t',6)\n",
    "temp_nodes[3].left = temp_nodes[7]\n",
    "# temp_nodes[3].right = temp_nodes[8]\n",
    "temp_nodes[4].left = temp_nodes[9]\n",
    "print(7,'\\t\\t',8,9)\n",
    "print('前序（根左右）遍历结果：','0137849256')\n",
    "print('中序（左根右）遍历结果：','7381940526')\n",
    "print('后序（左右根）遍历结果：','7839415620')\n",
    "test_binary_tree = temp_nodes[0]"
   ]
  },
  {
   "cell_type": "code",
   "execution_count": 24,
   "metadata": {
    "ExecuteTime": {
     "end_time": "2020-02-29T10:53:20.556255Z",
     "start_time": "2020-02-29T10:53:20.548255Z"
    }
   },
   "outputs": [],
   "source": [
    "def prettyPrintTree(node, prefix=\"\", isLeft=True):\n",
    "    if not node:\n",
    "        print(\"Empty Tree\")\n",
    "        return\n",
    "\n",
    "    if node.right:\n",
    "        prettyPrintTree(node.right, prefix + (\"│   \" if isLeft else \"    \"), False)\n",
    "\n",
    "    print(prefix + (\"└── \" if isLeft else \"┌── \") + str(node.data))\n",
    "\n",
    "    if node.left:\n",
    "        prettyPrintTree(node.left, prefix + (\"    \" if isLeft else \"│   \"), True)\n"
   ]
  },
  {
   "cell_type": "code",
   "execution_count": 27,
   "metadata": {
    "ExecuteTime": {
     "end_time": "2020-02-29T10:53:49.372239Z",
     "start_time": "2020-02-29T10:53:49.364239Z"
    }
   },
   "outputs": [
    {
     "name": "stdout",
     "output_type": "stream",
     "text": [
      "│       ┌── 6\n",
      "│   ┌── 2\n",
      "│   │   └── 5\n",
      "└── 0\n",
      "    │   ┌── 4\n",
      "    │   │   └── 9\n",
      "    └── 1\n",
      "        └── 3\n",
      "            └── 7\n"
     ]
    }
   ],
   "source": [
    "prettyPrintTree(test_binary_tree)"
   ]
  },
  {
   "cell_type": "markdown",
   "metadata": {},
   "source": [
    "##### 二叉树的前序遍历"
   ]
  },
  {
   "cell_type": "code",
   "execution_count": 3,
   "metadata": {
    "ExecuteTime": {
     "end_time": "2020-02-01T03:14:11.984495Z",
     "start_time": "2020-02-01T03:14:11.972549Z"
    }
   },
   "outputs": [
    {
     "name": "stdout",
     "output_type": "stream",
     "text": [
      "[0, 1, 3, 7, 8, 4, 9, 2, 5, 6]\n"
     ]
    }
   ],
   "source": [
    "#二叉树的前序遍历 根左右 递归方式\n",
    "preorder_traversal_res = []\n",
    "def preorder_traversal(binary_tree):\n",
    "    if not binary_tree:\n",
    "        return\n",
    "    preorder_traversal_res.append(binary_tree.data)\n",
    "    preorder_traversal(binary_tree.left)\n",
    "    preorder_traversal(binary_tree.right)\n",
    "preorder_traversal(test_binary_tree)\n",
    "print(preorder_traversal_res)"
   ]
  },
  {
   "cell_type": "code",
   "execution_count": 33,
   "metadata": {
    "ExecuteTime": {
     "end_time": "2020-01-31T08:16:33.212915Z",
     "start_time": "2020-01-31T08:16:33.201951Z"
    }
   },
   "outputs": [
    {
     "name": "stdout",
     "output_type": "stream",
     "text": [
      "[0, 1, 3, 7, 8, 4, 9, 2, 5, 6]\n"
     ]
    }
   ],
   "source": [
    "#二叉树的前序遍历 根左右 队列方式\n",
    "preorder_traversal_res = []\n",
    "stack = []\n",
    "def preorder_traversal(binary_tree):\n",
    "    if binary_tree is None:\n",
    "        return\n",
    "    node = binary_tree\n",
    "    while node or stack:\n",
    "        while node:\n",
    "            #根节点的值入队\n",
    "            preorder_traversal_res.append(node.data)\n",
    "            #节点入栈\n",
    "            stack.append(node)\n",
    "            #迭代左节点\n",
    "            node = node.left\n",
    "        #弹出栈顶元素\n",
    "        node = stack.pop()\n",
    "        #迭代右节点\n",
    "        node = node.right\n",
    "preorder_traversal(test_binary_tree)\n",
    "print(preorder_traversal_res)"
   ]
  },
  {
   "cell_type": "markdown",
   "metadata": {},
   "source": [
    "##### 二叉树的中序遍历"
   ]
  },
  {
   "cell_type": "code",
   "execution_count": 39,
   "metadata": {
    "ExecuteTime": {
     "end_time": "2020-01-31T08:21:20.182768Z",
     "start_time": "2020-01-31T08:21:20.173827Z"
    }
   },
   "outputs": [
    {
     "name": "stdout",
     "output_type": "stream",
     "text": [
      "[7, 3, 8, 1, 9, 4, 0, 5, 2, 6]\n"
     ]
    }
   ],
   "source": [
    "#二叉树的中序遍历 左根右 递归方式\n",
    "inorder_traversal_res = []\n",
    "def inorder_traversal(binary_tree):\n",
    "    if not binary_tree:\n",
    "        return\n",
    "    inorder_traversal(binary_tree.left)\n",
    "    inorder_traversal_res.append(binary_tree.data)\n",
    "    inorder_traversal(binary_tree.right)\n",
    "inorder_traversal(test_binary_tree)\n",
    "print(inorder_traversal_res)"
   ]
  },
  {
   "cell_type": "code",
   "execution_count": 38,
   "metadata": {
    "ExecuteTime": {
     "end_time": "2020-01-31T08:20:41.006005Z",
     "start_time": "2020-01-31T08:20:40.995069Z"
    }
   },
   "outputs": [
    {
     "name": "stdout",
     "output_type": "stream",
     "text": [
      "[7, 3, 8, 1, 9, 4, 0, 5, 2, 6]\n"
     ]
    }
   ],
   "source": [
    "#二叉树的中序遍历 左根右 队列方式\n",
    "inorder_traversal_res = []\n",
    "stack = []\n",
    "def inorder_traversal(binary_tree):\n",
    "    if not binary_tree:\n",
    "        return\n",
    "    node = binary_tree\n",
    "    while node or stack:\n",
    "        #遍历左边节点\n",
    "        while node:\n",
    "            #节点入栈\n",
    "            stack.append(node)\n",
    "            #迭代下一左节点\n",
    "            node = node.left\n",
    "        node = stack.pop()\n",
    "        inorder_traversal_res.append(node.data)\n",
    "        node = node.right\n",
    "            \n",
    "inorder_traversal(test_binary_tree)\n",
    "print(inorder_traversal_res)"
   ]
  },
  {
   "cell_type": "markdown",
   "metadata": {},
   "source": [
    "##### 二叉树的后序遍历"
   ]
  },
  {
   "cell_type": "code",
   "execution_count": 89,
   "metadata": {
    "ExecuteTime": {
     "end_time": "2020-01-31T05:04:52.895337Z",
     "start_time": "2020-01-31T05:04:52.887379Z"
    }
   },
   "outputs": [
    {
     "name": "stdout",
     "output_type": "stream",
     "text": [
      "[7, 8, 3, 9, 4, 1, 5, 6, 2, 0]\n"
     ]
    }
   ],
   "source": [
    "#二叉树的后序遍历 左右根 递归方式\n",
    "postorder_traversal_res = []\n",
    "def postorder_traversal(binary_tree):\n",
    "    if not binary_tree:\n",
    "        return\n",
    "    postorder_traversal(binary_tree.left)\n",
    "    postorder_traversal(binary_tree.right)\n",
    "    postorder_traversal_res.append(binary_tree.data)\n",
    "postorder_traversal(test_binary_tree)\n",
    "print(postorder_traversal_res)"
   ]
  },
  {
   "cell_type": "code",
   "execution_count": 45,
   "metadata": {
    "ExecuteTime": {
     "end_time": "2020-01-31T08:34:09.861030Z",
     "start_time": "2020-01-31T08:34:09.851055Z"
    }
   },
   "outputs": [
    {
     "name": "stdout",
     "output_type": "stream",
     "text": [
      "[7, 8, 3, 9, 4, 1, 5, 6, 2, 0]\n"
     ]
    }
   ],
   "source": [
    "#二叉树的后序遍历 左右根 队列方式\n",
    "postorder_traversal_res = []\n",
    "#存储左右两个节点\n",
    "stack_lr = []\n",
    "#按左右根的顺序存储树节点\n",
    "stack_root = []\n",
    "def postorder_traversal(binary_tree):\n",
    "    if not binary_tree:\n",
    "        return\n",
    "    node = binary_tree\n",
    "    stack_lr.append(node)\n",
    "    while stack_lr:\n",
    "        node = stack_lr.pop()\n",
    "        if node.left:\n",
    "            stack_lr.append(node.left)\n",
    "        if node.right:\n",
    "            stack_lr.append(node.right)\n",
    "        stack_root.append(node)\n",
    "    while stack_root:\n",
    "        node = stack_root.pop()\n",
    "        postorder_traversal_res.append(node.data)\n",
    "    \n",
    "postorder_traversal(test_binary_tree)\n",
    "print(postorder_traversal_res)"
   ]
  },
  {
   "cell_type": "markdown",
   "metadata": {},
   "source": [
    "##### 二叉树的层次遍历"
   ]
  },
  {
   "cell_type": "code",
   "execution_count": 31,
   "metadata": {
    "ExecuteTime": {
     "end_time": "2020-02-26T15:23:39.016901Z",
     "start_time": "2020-02-26T15:23:39.004900Z"
    }
   },
   "outputs": [
    {
     "name": "stdout",
     "output_type": "stream",
     "text": [
      "[0, 1, 2, 3, 4, 5, 6, 7, 9]\n"
     ]
    }
   ],
   "source": [
    "#树的层次遍历\n",
    "level_traversal_res = []\n",
    "queue = []\n",
    "def level_traversal(binary_tree):\n",
    "    if not binary_tree:\n",
    "        return\n",
    "    node = binary_tree\n",
    "    queue.append(node)\n",
    "    while queue:\n",
    "        node = queue.pop(0)\n",
    "        if node:\n",
    "            level_traversal_res.append(node.data)\n",
    "        if node and node.left:queue.append(node.left)\n",
    "        if node and node.right:queue.append(node.right)\n",
    "        \n",
    "        \n",
    "    \n",
    "level_traversal(test_binary_tree)\n",
    "print(level_traversal_res)"
   ]
  },
  {
   "cell_type": "markdown",
   "metadata": {},
   "source": [
    "##### 二叉树的深度"
   ]
  },
  {
   "cell_type": "code",
   "execution_count": 36,
   "metadata": {
    "ExecuteTime": {
     "end_time": "2020-02-26T15:32:44.203120Z",
     "start_time": "2020-02-26T15:32:44.195153Z"
    }
   },
   "outputs": [
    {
     "data": {
      "text/plain": [
       "3"
      ]
     },
     "execution_count": 36,
     "metadata": {},
     "output_type": "execute_result"
    }
   ],
   "source": [
    "#树的深度\n",
    "level_traversal_res = []\n",
    "queue = []\n",
    "def depth_traversal(binary_tree):\n",
    "    if not binary_tree:return 0\n",
    "    depth_left = depth_traversal(binary_tree.left)+1\n",
    "    depth_right = depth_traversal(binary_tree.right)+1\n",
    "    return max(depth_left,depth_right)\n",
    "    \n",
    "depth_traversal(test_binary_tree)\n",
    "    \n",
    "    "
   ]
  },
  {
   "cell_type": "markdown",
   "metadata": {},
   "source": [
    "##### 构造最小/最大堆"
   ]
  },
  {
   "cell_type": "code",
   "execution_count": 1,
   "metadata": {
    "ExecuteTime": {
     "end_time": "2020-03-18T13:01:19.423758Z",
     "start_time": "2020-03-18T13:01:19.410790Z"
    },
    "code_folding": []
   },
   "outputs": [
    {
     "ename": "SyntaxError",
     "evalue": "can't assign to operator (<ipython-input-1-87a244255422>, line 10)",
     "output_type": "error",
     "traceback": [
      "\u001b[1;36m  File \u001b[1;32m\"<ipython-input-1-87a244255422>\"\u001b[1;36m, line \u001b[1;32m10\u001b[0m\n\u001b[1;33m    _i , left , right = i , 2*i+1 , 2*i=2\u001b[0m\n\u001b[1;37m                       ^\u001b[0m\n\u001b[1;31mSyntaxError\u001b[0m\u001b[1;31m:\u001b[0m can't assign to operator\n"
     ]
    }
   ],
   "source": [
    "#构造最小/最大堆 非递归\n",
    "arr = [7,5,3,9,4,6,1,8,2,10]\n",
    "def heapify_min(arr):\n",
    "    arr_size = len(arr)\n",
    "    #下到上，右到左，每个根元素与左右子元素对比\n",
    "    #遍历每一层\n",
    "    for i in range(arr_size//2,-1,-1):\n",
    "        while i < arr_size:\n",
    "            #当前临时根节点、左节点、右节点的索引\n",
    "            _i , left , right = i , 2*i+1 , 2*i=2\n",
    "            #与当前根节点的做引进行对比，小于则交换\n",
    "            if left < arr_size and arr[left] < arr[_i]:\n",
    "                _i = left\n",
    "            if right < arr_size and arr[right] < arr[_i]:\n",
    "                _i = right\n",
    "            #临时根节点与根节点不一致，则需要调换，并需要重新调整_i所在的节点\n",
    "            if _i != i:\n",
    "                arr[i],arr[_i] = arr[_i],arr[i]\n",
    "                i = _i\n",
    "            else:\n",
    "                break\n",
    "    return arr\n",
    "                \n",
    "print(heapify(arr))                "
   ]
  },
  {
   "cell_type": "code",
   "execution_count": 45,
   "metadata": {
    "ExecuteTime": {
     "end_time": "2020-02-01T04:44:35.344125Z",
     "start_time": "2020-02-01T04:44:35.336138Z"
    }
   },
   "outputs": [
    {
     "name": "stdout",
     "output_type": "stream",
     "text": [
      "[1, 2, 3, 5, 4, 6, 7, 8, 9, 10]\n"
     ]
    }
   ],
   "source": [
    "#构造最小/最大堆 非递归\n",
    "arr = [7,5,3,9,4,6,1,8,2,10]\n",
    "def heap_adjust(arr,arr_size,i):\n",
    "    _i ,left ,right = i ,2*i+1 ,2*i+2\n",
    "    if left < arr_size and arr[left] < arr[_i]:\n",
    "        _i = left\n",
    "    if right < arr_size and arr[right] < arr[_i]:\n",
    "        _i = right\n",
    "    if _i != i:\n",
    "        arr[i] ,arr[_i] = arr[_i] ,arr[i]\n",
    "        heap_adjust(arr,arr_size,_i)\n",
    "\n",
    "def heapify_min(arr):\n",
    "    arr_size = len(arr)\n",
    "    for i in range(arr_size // 2, -1 ,-1):\n",
    "        heap_adjust(arr,arr_size,i)\n",
    "    return arr\n",
    "print(heapify_min(arr))"
   ]
  },
  {
   "cell_type": "code",
   "execution_count": 60,
   "metadata": {
    "ExecuteTime": {
     "end_time": "2020-02-01T07:42:02.059279Z",
     "start_time": "2020-02-01T07:42:02.047294Z"
    }
   },
   "outputs": [
    {
     "name": "stdout",
     "output_type": "stream",
     "text": [
      "[1, 2, 3, 4, 7, 6, 5, 9, 8, 10]\n",
      "1\n",
      "[2, 4, 3, 8, 7, 6, 5, 9, 10]\n",
      "[1, 2, 3, 8, 4, 6, 5, 9, 10, 7]\n"
     ]
    }
   ],
   "source": [
    "#python 自带堆化方法\n",
    "import heapq\n",
    "heap = []\n",
    "arr = [7,5,3,9,4,6,1,8,2,10]\n",
    "#heapq.heappush 生成最小堆\n",
    "for i in arr:\n",
    "    heapq.heappush(heap,i)\n",
    "print(heap)\n",
    "#heapq.heappop()弹出堆中的最小元素，保持堆不变\n",
    "pop_item = heapq.heappop(heap)\n",
    "print(pop_item)\n",
    "print(heap)\n",
    "heapq.heappush(heap,pop_item)\n",
    "print(heap)"
   ]
  },
  {
   "cell_type": "code",
   "execution_count": 50,
   "metadata": {
    "ExecuteTime": {
     "end_time": "2020-02-01T07:12:29.938761Z",
     "start_time": "2020-02-01T07:12:29.930773Z"
    }
   },
   "outputs": [
    {
     "data": {
      "text/plain": [
       "[1, 2, 3, 5, 4, 6, 7, 8, 9, 10]"
      ]
     },
     "execution_count": 50,
     "metadata": {},
     "output_type": "execute_result"
    }
   ],
   "source": [
    "#heapq.heapify\n",
    "heapq.heapify(arr)\n",
    "arr"
   ]
  },
  {
   "cell_type": "code",
   "execution_count": 64,
   "metadata": {
    "ExecuteTime": {
     "end_time": "2020-02-01T07:46:05.419977Z",
     "start_time": "2020-02-01T07:46:05.407992Z"
    }
   },
   "outputs": [
    {
     "name": "stdout",
     "output_type": "stream",
     "text": [
      "[7, 5, 3]\n",
      "[3, 5, 7]\n",
      "[8, 9, 10]\n"
     ]
    }
   ],
   "source": [
    "#海量数据topK问题 最小堆方法 算法复杂度O(nlogK)，n为数据量，K为topK的值\n",
    "#快速排序，需要读入所有数据，内存是个问题，复杂度为nlogn\n",
    "#分治法，将n拆分为n//K，每个中取topK\n",
    "import heapq\n",
    "arr = [7,5,3,9,4,6,1,8,2,10]\n",
    "topK = 3\n",
    "arr_topK = arr[:topK]\n",
    "print(arr_topK)\n",
    "#先根据arr_topK建立最小堆 这里使用python内置的函数，同上述的heapify_min\n",
    "heapq.heapify(arr_topK)\n",
    "print(arr_topK)\n",
    "#大于堆顶的元素，入堆进行调整\n",
    "for i in arr[topK:]:\n",
    "    if i > arr_topK[0]:\n",
    "        arr_topK[0] = i\n",
    "    heapq.heapify(arr_topK)\n",
    "print(arr_topK)"
   ]
  },
  {
   "cell_type": "markdown",
   "metadata": {},
   "source": [
    "##### 翻转二叉树"
   ]
  },
  {
   "cell_type": "code",
   "execution_count": 52,
   "metadata": {
    "ExecuteTime": {
     "end_time": "2020-02-01T07:20:25.819398Z",
     "start_time": "2020-02-01T07:20:25.811409Z"
    }
   },
   "outputs": [],
   "source": [
    "#翻转二叉树\n",
    "def invert_binary_tree(node):\n",
    "    if not node:\n",
    "        return\n",
    "    node.left ,node.right = node.right ,node.left\n",
    "    invert_binary_tree(node.left)\n",
    "    invert_binary_tree(node.right)\n",
    "invert_binary_tree(test_binary_tree)\n"
   ]
  },
  {
   "cell_type": "code",
   "execution_count": null,
   "metadata": {},
   "outputs": [],
   "source": []
  },
  {
   "cell_type": "code",
   "execution_count": null,
   "metadata": {},
   "outputs": [],
   "source": []
  },
  {
   "cell_type": "code",
   "execution_count": null,
   "metadata": {},
   "outputs": [],
   "source": []
  },
  {
   "cell_type": "code",
   "execution_count": null,
   "metadata": {},
   "outputs": [],
   "source": []
  },
  {
   "cell_type": "code",
   "execution_count": null,
   "metadata": {},
   "outputs": [],
   "source": []
  },
  {
   "cell_type": "code",
   "execution_count": null,
   "metadata": {},
   "outputs": [],
   "source": []
  }
 ],
 "metadata": {
  "kernelspec": {
   "display_name": "Python [conda env:root] *",
   "language": "python",
   "name": "conda-root-py"
  },
  "language_info": {
   "codemirror_mode": {
    "name": "ipython",
    "version": 3
   },
   "file_extension": ".py",
   "mimetype": "text/x-python",
   "name": "python",
   "nbconvert_exporter": "python",
   "pygments_lexer": "ipython3",
   "version": "3.7.3"
  },
  "toc": {
   "base_numbering": 1,
   "nav_menu": {},
   "number_sections": true,
   "sideBar": true,
   "skip_h1_title": false,
   "title_cell": "Table of Contents",
   "title_sidebar": "Contents",
   "toc_cell": false,
   "toc_position": {
    "height": "430px",
    "left": "138px",
    "top": "230px",
    "width": "256px"
   },
   "toc_section_display": true,
   "toc_window_display": true
  },
  "varInspector": {
   "cols": {
    "lenName": 16,
    "lenType": 16,
    "lenVar": 40
   },
   "kernels_config": {
    "python": {
     "delete_cmd_postfix": "",
     "delete_cmd_prefix": "del ",
     "library": "var_list.py",
     "varRefreshCmd": "print(var_dic_list())"
    },
    "r": {
     "delete_cmd_postfix": ") ",
     "delete_cmd_prefix": "rm(",
     "library": "var_list.r",
     "varRefreshCmd": "cat(var_dic_list()) "
    }
   },
   "types_to_exclude": [
    "module",
    "function",
    "builtin_function_or_method",
    "instance",
    "_Feature"
   ],
   "window_display": false
  }
 },
 "nbformat": 4,
 "nbformat_minor": 2
}
