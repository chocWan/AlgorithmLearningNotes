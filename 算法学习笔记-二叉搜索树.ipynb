{
 "cells": [
  {
   "cell_type": "markdown",
   "metadata": {},
   "source": [
    "##### 学习概要\n",
    "###### 什么是二叉搜索树\n",
    "    - 简称BST\n",
    "    - 任意节点的值，要大于等于左子树所有节点的值，要小于等于右子树所有节点的值\n",
    "###### 二叉搜索树的常规操作\n",
    "    - 合法性\n",
    "    - 增删改查"
   ]
  },
  {
   "cell_type": "markdown",
   "metadata": {},
   "source": [
    "##### 合法性"
   ]
  },
  {
   "cell_type": "code",
   "execution_count": 3,
   "metadata": {
    "ExecuteTime": {
     "end_time": "2020-03-18T13:23:05.428258Z",
     "start_time": "2020-03-18T13:23:05.419281Z"
    }
   },
   "outputs": [],
   "source": [
    "class TreeNode:\n",
    "    def __init__(self, x):\n",
    "        self.val = x\n",
    "        self.left = None\n",
    "        self.right = None\n",
    "def is_valid_bst(root):\n",
    "    return is_valid(root,None,None)\n",
    "def is_valid(root,min_node,max_node):\n",
    "    if not root:return True\n",
    "    if min_node and root.val <= min_node.val:return False\n",
    "    if max_node and root.val >= max_node.val:return False\n",
    "    return is_valid(root.left,min_node,root) and is_valid(root.right,root,max_node)"
   ]
  },
  {
   "cell_type": "markdown",
   "metadata": {},
   "source": [
    "##### 查找一个数是否存在"
   ]
  },
  {
   "cell_type": "code",
   "execution_count": 4,
   "metadata": {
    "ExecuteTime": {
     "end_time": "2020-03-18T13:26:48.811174Z",
     "start_time": "2020-03-18T13:26:48.806188Z"
    }
   },
   "outputs": [],
   "source": [
    "def is_in_bst(root,target):\n",
    "    if not root:return False\n",
    "    if root.val == target:return True\n",
    "    #左树比根节点小，所以只可能在右树\n",
    "    if target > root.val:is_in_bst(root.right,target)\n",
    "    #右节点比根节点打，所以只可能在左树\n",
    "    if target < root.val:is_in_bst(root.left,target)"
   ]
  },
  {
   "cell_type": "markdown",
   "metadata": {},
   "source": [
    "##### 插入一个数"
   ]
  },
  {
   "cell_type": "code",
   "execution_count": 5,
   "metadata": {
    "ExecuteTime": {
     "end_time": "2020-03-19T02:56:12.866636Z",
     "start_time": "2020-03-19T02:56:12.860651Z"
    }
   },
   "outputs": [],
   "source": [
    "#先找再改\n",
    "#先找到要要插入的位置\n",
    "def insert_to_bst(root,val):\n",
    "    if not root:return TreeNode(val)\n",
    "    #BST中一般不插入已存在的元素\n",
    "    #if val == root.val:pass\n",
    "    #比根节点大，插入到右树\n",
    "    if val > root.val:\n",
    "        root.right = insert_to_bst(root.right,val)\n",
    "    #比根节点小，插入到左树\n",
    "    if val < root.val:\n",
    "        root.left = insert_to_bst(root.left,val)\n",
    "    return root"
   ]
  },
  {
   "cell_type": "markdown",
   "metadata": {},
   "source": [
    "##### 删除一个数"
   ]
  },
  {
   "cell_type": "code",
   "execution_count": 7,
   "metadata": {
    "ExecuteTime": {
     "end_time": "2020-03-19T03:12:23.983963Z",
     "start_time": "2020-03-19T03:12:23.974987Z"
    }
   },
   "outputs": [],
   "source": [
    "#先找再删\n",
    "def delete_bst_node(root,val):\n",
    "    if not root:return None\n",
    "    if val == root.val:\n",
    "        #如果找到的位置为最后一层，直接删除\n",
    "        if not root.right and root.left:return None\n",
    "        #如果找到的位置的节点，只有一个子节点，直接用子节点替换\n",
    "        if not root.right:return None\n",
    "        if not root.left:return None\n",
    "        #如果找到的位置的节点，有两个子节点，找到左树最大的值/右树最小的值 交换，再删掉最小/最大节点\n",
    "        if root.right and root.left:\n",
    "            #找到右子树的最小值的节点\n",
    "            min_node_val = get_min_node_val(root.right)\n",
    "            #用最小值替换点前节点的值\n",
    "            root.val = min_node_val.val\n",
    "            #删除最小值的节点\n",
    "            root.right = delete_bst_node(root.right,min_node_val)\n",
    "    if val > root.val:\n",
    "        root.right = delete_bst_node(root.right,val)\n",
    "    if val < root.val:\n",
    "        root.left = delete_bst_node(root.left,val)\n",
    "    return root\n",
    "\n",
    "def get_min_node_val(root):\n",
    "    #最小值一定出现在BST最左边\n",
    "    while root.left:\n",
    "        root = root.left\n",
    "    return root"
   ]
  },
  {
   "cell_type": "markdown",
   "metadata": {},
   "source": [
    "##### BST遍历框架"
   ]
  },
  {
   "cell_type": "code",
   "execution_count": 8,
   "metadata": {
    "ExecuteTime": {
     "end_time": "2020-03-19T03:14:16.056736Z",
     "start_time": "2020-03-19T03:14:16.049753Z"
    }
   },
   "outputs": [],
   "source": [
    "def BST(root,target):\n",
    "    if not root:\n",
    "        pass\n",
    "    if target == root:\n",
    "        pass\n",
    "    if target > root.val:\n",
    "        BST(root.right,target)\n",
    "    if target < root.val:\n",
    "        BST(root.left,target)"
   ]
  },
  {
   "cell_type": "code",
   "execution_count": null,
   "metadata": {},
   "outputs": [],
   "source": []
  }
 ],
 "metadata": {
  "kernelspec": {
   "display_name": "Python [conda env:root] *",
   "language": "python",
   "name": "conda-root-py"
  },
  "language_info": {
   "codemirror_mode": {
    "name": "ipython",
    "version": 3
   },
   "file_extension": ".py",
   "mimetype": "text/x-python",
   "name": "python",
   "nbconvert_exporter": "python",
   "pygments_lexer": "ipython3",
   "version": "3.7.3"
  },
  "toc": {
   "base_numbering": 1,
   "nav_menu": {},
   "number_sections": true,
   "sideBar": true,
   "skip_h1_title": false,
   "title_cell": "Table of Contents",
   "title_sidebar": "Contents",
   "toc_cell": false,
   "toc_position": {},
   "toc_section_display": true,
   "toc_window_display": false
  },
  "varInspector": {
   "cols": {
    "lenName": 16,
    "lenType": 16,
    "lenVar": 40
   },
   "kernels_config": {
    "python": {
     "delete_cmd_postfix": "",
     "delete_cmd_prefix": "del ",
     "library": "var_list.py",
     "varRefreshCmd": "print(var_dic_list())"
    },
    "r": {
     "delete_cmd_postfix": ") ",
     "delete_cmd_prefix": "rm(",
     "library": "var_list.r",
     "varRefreshCmd": "cat(var_dic_list()) "
    }
   },
   "types_to_exclude": [
    "module",
    "function",
    "builtin_function_or_method",
    "instance",
    "_Feature"
   ],
   "window_display": false
  }
 },
 "nbformat": 4,
 "nbformat_minor": 2
}
