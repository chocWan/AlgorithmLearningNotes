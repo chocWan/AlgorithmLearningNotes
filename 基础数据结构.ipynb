{
 "cells": [
  {
   "cell_type": "markdown",
   "metadata": {},
   "source": [
    "1 三种常用的数据结构<br>\n",
    "- 栈：\n",
    "    - 线性表，先进后出。单端进出，如杯子。实际应用如，系统栈，后入栈的先执行<br>\n",
    "- 队列：\n",
    "    - 线性表，先进先出。双端进出，如水管子。实际应用如，任务调度，先入队的先执行<br>\n",
    "- 哈希表：\n",
    "    - 存放数据的集合。根据（Key，Value）进行插入、查找、删除。本质是Key的索引<br>\n",
    "    - 实现方式有两种，开放寻址法和拉链法。<br>\n",
    "    - 开放寻址法：把表看做宾馆，一个房间只能有一张床，只能住一个人，如果房号冲突，则住隔壁的房间，依次类推<br>\n",
    "    - 拉链法：一个房间可以有多张床，可以住多个人，如果房号冲突，则加一个床<br>\n",
    "         \n",
    "2 简单实现及应用：<br>\n",
    "- 栈：括号匹配<br>\n",
    "- 队列：任务调度使用<br>\n",
    "- 哈希表：字符串匹配<br>"
   ]
  },
  {
   "cell_type": "code",
   "execution_count": 19,
   "metadata": {
    "ExecuteTime": {
     "end_time": "2020-01-29T12:10:06.532903Z",
     "start_time": "2020-01-29T12:10:06.524913Z"
    }
   },
   "outputs": [],
   "source": [
    "#栈 : 出栈，入栈，是否为空，长度\n",
    "class Stack():\n",
    "    def __init__(self):\n",
    "        self.stack = []\n",
    "    def is_empty(self):\n",
    "        return self.stack == []\n",
    "    def push(self,item):\n",
    "        self.stack.append(item)\n",
    "    def pop(self):\n",
    "        if self.is_empty():\n",
    "            raise IndexError('pop from empty stack!')\n",
    "        else:\n",
    "            return self.stack.pop()\n",
    "    def peek(self):\n",
    "        if not self.is_empty():\n",
    "            return self.stack[-1]\n",
    "        else:\n",
    "            raise Error('stakc is empty!')\n",
    "    def size(self):\n",
    "        return len(self.stack)\n",
    "    def to_string(self):\n",
    "        return ' '.join(self.stack)"
   ]
  },
  {
   "cell_type": "code",
   "execution_count": 45,
   "metadata": {
    "ExecuteTime": {
     "end_time": "2020-01-29T12:44:41.917680Z",
     "start_time": "2020-01-29T12:44:41.909690Z"
    }
   },
   "outputs": [
    {
     "name": "stdout",
     "output_type": "stream",
     "text": [
      "not matched first\n",
      "not matched end\n"
     ]
    }
   ],
   "source": [
    "#利用栈进行括号匹配检测\n",
    "test_str = '{[())hello wanchao)]}'\n",
    "left_bracket = '{[('\n",
    "right_bracket = '}])'\n",
    "stack = Stack()\n",
    "def check_bracket(sent):\n",
    "    for s in sent:\n",
    "        if s in left_bracket:\n",
    "            stack.push(s)\n",
    "        elif s in right_bracket:\n",
    "            if not stack.is_empty():\n",
    "                if left_bracket.index(stack.peek()) == right_bracket.index(s):\n",
    "                    stack.pop()\n",
    "                else:\n",
    "                    print('not matched first')\n",
    "                    break\n",
    "            else:\n",
    "                print('not matched second')\n",
    "                break\n",
    "    if not stack.is_empty():\n",
    "        print('not matched end')\n",
    "    else:\n",
    "        print('that is ok')\n",
    "\n",
    "check_bracket(test_str)"
   ]
  },
  {
   "cell_type": "code",
   "execution_count": 46,
   "metadata": {
    "ExecuteTime": {
     "end_time": "2020-01-29T12:50:32.522467Z",
     "start_time": "2020-01-29T12:50:32.514439Z"
    }
   },
   "outputs": [],
   "source": [
    "#队列：出队，入队，长度，是否为空，队收元素\n",
    "class Queue():\n",
    "    def __init__(self):\n",
    "        self.queue = []\n",
    "    def dequeue(self,item):\n",
    "        if self.queue:\n",
    "            a = self.queue[0]\n",
    "            self.queue.remove(a)\n",
    "            return a\n",
    "        else:\n",
    "            raise Error('dequeue from empty queue')\n",
    "    def enqueue(self,item):\n",
    "        self.queue.append(item)\n",
    "    def size():\n",
    "        return len(self.queue)\n",
    "    def is_empty(self):\n",
    "        return self.queue == []"
   ]
  },
  {
   "cell_type": "code",
   "execution_count": 48,
   "metadata": {
    "ExecuteTime": {
     "end_time": "2020-01-29T12:53:25.370492Z",
     "start_time": "2020-01-29T12:53:25.362503Z"
    }
   },
   "outputs": [
    {
     "name": "stdout",
     "output_type": "stream",
     "text": [
      "job_a\n",
      "job_b\n",
      "job_c\n"
     ]
    }
   ],
   "source": [
    "#利用队列进行任务调度\n",
    "job_a = 'job_a'\n",
    "job_b = 'job_b'\n",
    "job_c = 'job_c'\n",
    "queue = Queue()\n",
    "queue.enqueue(job_a)\n",
    "queue.enqueue(job_b)\n",
    "queue.enqueue(job_c)\n",
    "print(queue.dequeue(job_a))\n",
    "print(queue.dequeue(job_b))\n",
    "print(queue.dequeue(job_c))"
   ]
  },
  {
   "cell_type": "code",
   "execution_count": 85,
   "metadata": {
    "ExecuteTime": {
     "end_time": "2020-01-29T15:44:38.194263Z",
     "start_time": "2020-01-29T15:44:38.156642Z"
    },
    "code_folding": [
     54,
     87
    ]
   },
   "outputs": [
    {
     "name": "stdout",
     "output_type": "stream",
     "text": [
      "200->300->330,101,None,None,None,None,106->166->666,None,None,None,None,None,None,None,None,None,None,None,None,None,None,None,None,None,None,None,None,None,None,None,None,None,None,None,None,None,None,None,None,None,None,None,None,None,None,None,None,None,None,None,None,None,None,None,None,None,None,None,None,None,None,None,None,None,None,None,None,None,None,None,None,None,None,None,None,None,None,None,None,None,None,None,None,None,None,None,None,None,None,None,None,None,None,None,None,None,None,None,None,None\n",
      "200->330,101,None,None,None,None,106->166->666,None,None,None,None,None,None,None,None,None,None,None,None,None,None,None,None,None,None,None,None,None,None,None,None,None,None,None,None,None,None,None,None,None,None,None,None,None,None,None,None,None,None,None,None,None,None,None,None,None,None,None,None,None,None,None,None,None,None,None,None,None,None,None,None,None,None,None,None,None,None,None,None,None,None,None,None,None,None,None,None,None,None,None,None,None,None,None,None,None,None,None,None,None\n"
     ]
    }
   ],
   "source": [
    "#Hash：add , get , delete , to_string\n",
    "#Hash Function : % , input vaule must be a type of integer ； 拉链法\n",
    "num = 100\n",
    "\n",
    "class DicNode(object):\n",
    "    def __init__(self,data):\n",
    "        self.data = data\n",
    "        self.next_node = None\n",
    "    def set_next(self,node):\n",
    "        self.next_node = node\n",
    "    def get_next(self):\n",
    "        return self.next_node\n",
    "    def get(self):\n",
    "        return self.data\n",
    "    def equal(self,data):\n",
    "        return self.data == data\n",
    "    \n",
    "class Dic(object):\n",
    "    def __init__(self):\n",
    "        self.value = [None] * num\n",
    "    def add(self,data):        \n",
    "        #判断是否存在\n",
    "        if self.get(data):\n",
    "            raise Error('already exists')\n",
    "        #做一个hash变换\n",
    "        index = self.hash_func(data)\n",
    "        #创建拉链的链\n",
    "        node = DicNode(data)\n",
    "        #房间没有人住\n",
    "        if self.value[index] is None:\n",
    "            self.value[index] = node\n",
    "            return True\n",
    "        #房间有人住，加个床\n",
    "        else:\n",
    "            head = self.value[index]\n",
    "            while head.get_next() is not None:\n",
    "                head = head.get_next()\n",
    "            head.set_next(node)\n",
    "            return True\n",
    "        \n",
    "    def get(self,data):\n",
    "        #做一个hash变换\n",
    "        index = self.hash_func(data)\n",
    "        #遍历hash的拉链\n",
    "        if self.value[index] is None:\n",
    "            return False\n",
    "        else:\n",
    "            head = self.value[index]\n",
    "            while head and not head.equal(data):\n",
    "                head = head.get_next()\n",
    "            if head:\n",
    "                return head\n",
    "            else:\n",
    "                return False\n",
    "    \n",
    "    def delete(self,data):\n",
    "        #data是拉链的头，直接用拉链头的next_node替换成拉链头\n",
    "        #data不是拉链的头，遍历，每个节点（a）的next_node(b)是否为data\n",
    "        #用b的next_node替换a的next_node\n",
    "        if self.get(data):\n",
    "            index = self.hash_func(data)\n",
    "            head = self.value[index]\n",
    "            if head.equal(data):\n",
    "                self.value[index] = head.get_next()\n",
    "            else:\n",
    "                while not head.get_next().equal(data):\n",
    "                    head = head.get_next()\n",
    "                head.set_next(head.get_next().get_next())\n",
    "            return True\n",
    "        else:\n",
    "            return False\n",
    "        \n",
    "    def to_string(self):\n",
    "        #'1,2->22->222,3,4,6->66->666'\n",
    "        res = []\n",
    "        for head in self.value:\n",
    "            head_str = ''\n",
    "            if head is not None:\n",
    "                while head is not None:\n",
    "                    head_str += str(head.get())\n",
    "                    head = head.get_next()\n",
    "                    if head is not None:\n",
    "                        head_str += '->'\n",
    "                res.append(head_str)\n",
    "            else:\n",
    "                res.append('None')\n",
    "        return ','.join(res)\n",
    "    \n",
    "    def hash_func(self,data):\n",
    "        try:\n",
    "            return data % 10\n",
    "        except Error as e:\n",
    "            print('hash function is error')\n",
    "\n",
    "dic = Dic()\n",
    "dic.add(101)\n",
    "dic.add(200)\n",
    "dic.add(300)\n",
    "dic.add(330)\n",
    "dic.add(106)\n",
    "dic.add(166)\n",
    "dic.add(666)\n",
    "# dic.get(101).get()\n",
    "print(dic.to_string())\n",
    "dic.delete(300)\n",
    "print(dic.to_string())"
   ]
  },
  {
   "cell_type": "code",
   "execution_count": null,
   "metadata": {},
   "outputs": [],
   "source": []
  },
  {
   "cell_type": "code",
   "execution_count": null,
   "metadata": {},
   "outputs": [],
   "source": []
  },
  {
   "cell_type": "code",
   "execution_count": null,
   "metadata": {},
   "outputs": [],
   "source": []
  },
  {
   "cell_type": "code",
   "execution_count": null,
   "metadata": {},
   "outputs": [],
   "source": []
  },
  {
   "cell_type": "code",
   "execution_count": null,
   "metadata": {},
   "outputs": [],
   "source": []
  },
  {
   "cell_type": "code",
   "execution_count": null,
   "metadata": {},
   "outputs": [],
   "source": []
  },
  {
   "cell_type": "code",
   "execution_count": null,
   "metadata": {},
   "outputs": [],
   "source": []
  }
 ],
 "metadata": {
  "kernelspec": {
   "display_name": "Python [conda env:root] *",
   "language": "python",
   "name": "conda-root-py"
  },
  "language_info": {
   "codemirror_mode": {
    "name": "ipython",
    "version": 3
   },
   "file_extension": ".py",
   "mimetype": "text/x-python",
   "name": "python",
   "nbconvert_exporter": "python",
   "pygments_lexer": "ipython3",
   "version": "3.7.3"
  },
  "varInspector": {
   "cols": {
    "lenName": 16,
    "lenType": 16,
    "lenVar": 40
   },
   "kernels_config": {
    "python": {
     "delete_cmd_postfix": "",
     "delete_cmd_prefix": "del ",
     "library": "var_list.py",
     "varRefreshCmd": "print(var_dic_list())"
    },
    "r": {
     "delete_cmd_postfix": ") ",
     "delete_cmd_prefix": "rm(",
     "library": "var_list.r",
     "varRefreshCmd": "cat(var_dic_list()) "
    }
   },
   "types_to_exclude": [
    "module",
    "function",
    "builtin_function_or_method",
    "instance",
    "_Feature"
   ],
   "window_display": false
  }
 },
 "nbformat": 4,
 "nbformat_minor": 2
}
