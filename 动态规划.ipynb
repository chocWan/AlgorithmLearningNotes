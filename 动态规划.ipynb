{
 "cells": [
  {
   "cell_type": "markdown",
   "metadata": {},
   "source": [
    "### 概要\n",
    "1. 动态规划流程：\n",
    "    - 暴力递归\n",
    "    - 带备忘录的递归\n",
    "    - 迭代的动态规划\n",
    "2. 思考步骤：\n",
    "    - 找到状态，选择和base case\n",
    "    - 明确dp数组和函数的定义\n",
    "    - 寻找状态间的联系，明确状态转移方程\n",
    "3. 其他心得\n",
    "    - 动态规划的一般问题形式是求最值\n",
    "    - 动态规划问题的核心是穷举\n",
    "    - 通过子问题的最值得到原问题的最值\n",
    "    - 暴力穷举，存在重叠子问题\n",
    "    - 动态规划问题一定具备最优子结构\n",
    "    - 只有列出正确的状态转移方程，才能正确的穷举\n",
    "    - 最优子问题，子问题必须相互独立\n",
    "4. 算法实战\n",
    "    - 4.1 股票问题\n",
    "    - 4.2 背包问题\n",
    "    - 4.3 打家劫舍问题\n",
    "    - 4.4 零钱兑换问题\n",
    "    - 4.5 最小编辑距离\n",
    "    - 4.6 鸡蛋掉落问题\n",
    "    - 4.7 爬楼梯问题\n",
    "    - 4.8 博弈问题\n",
    "    - 4.9 最小重叠子区间\n",
    "    \n",
    "5. 本文主要参阅：\n",
    "    - 大神labuladong：https://labuladong.gitbook.io/algo/dong-tai-gui-hua-xi-lie/\n",
    "    - 力扣赛题：https://leetcode-cn.com/problems/"
   ]
  },
  {
   "cell_type": "markdown",
   "metadata": {},
   "source": [
    "### 股票问题-买卖股票的最佳时机（121，122，123，188）\n",
    "\n",
    "- 题目：  \n",
    "给定一个数组，它的第 i 个元素是一支给定股票第 i 天的价格。  \n",
    "如果你最多只允许完成一笔交易（即买入和卖出一支股票），设计一个算法来计算你所能获取的最大利润。  \n",
    "注意你不能在买入股票前卖出股票。  \n",
    "示例 1:  \n",
    "输入: [7,1,5,3,6,4]  \n",
    "输出: 5  \n",
    "解释: 在第 2 天（股票价格 = 1）的时候买入，在第 5 天（股票价格 = 6）的时候卖出，最大利润 = 6-1 = 5 。  \n",
    "     注意利润不能是 7-1 = 6, 因为卖出价格需要大于买入价格。  \n",
    "示例 2:  \n",
    "输入: [7,6,4,3,1]  \n",
    "输出: 0  \n",
    "解释: 在这种情况下, 没有交易完成, 所以最大利润为 0。  \n",
    "\n",
    "- 题目目标：\n",
    "     - 1 最多买一次，卖一次，注意，可以不买，但一定会卖，既然买了，卖掉的话，多少会回点本\n",
    "     - 2 分别在哪一天交易，利润最大\n",
    "\n",
    "- 解题思路：\n",
    "     - 1 状态：\n",
    "          - 天数\n",
    "          - 交易次数\n",
    "          - 是否持有股票\n",
    "     - 2 选择：\n",
    "          - 买或者不买，卖或者不卖，不买和不卖可算作同一种类型的选择，因为对状态无影响\n",
    "          - 即选择为：无操作，买入，卖出\n",
    "     - 3 base case:\n",
    "          - 到了交易的第一天或者交易次数用完\n",
    "     - 4 dp函数定义：\n",
    "          - dp[i][k][j] = p\n",
    "          - i表示交易的第i天\n",
    "          - k表示第i天最大可交易次数\n",
    "              - k-1表示第i-1天的最大可交易次数，因为i-1=>i，i的最大可交易次数>=k-1\n",
    "              - 因为最后一定会卖出，所以定义卖出一次算交易一次\n",
    "          - j表示：1=持有股票，0=没有股票\n",
    "          - p表示第i天进行k次交易其持有/没有股票时的最大利润\n",
    "     - 5 状态转移方程：\n",
    "          - dp[i][k][0]=max(dp[i-1][k][0]+0,dp[i-1][k-1][1]+prices[i])\n",
    "          - 含义：第i天没有股票=max(第i-1天进行了k次交易且没有股票+不交易，第i-1天持有股票+卖掉)\n",
    "          - dp[i][k][1]=max(dp[i-1][k][1]+0,dp[i-1][k][0]-prices[i])\n",
    "          - 含义：第i天持有股票=max(第i-1天进行了k次交易且持有股票+不交易，第i-1天进行了k-1次交易且没有股票+买入)\n",
    "          - base case:\n",
    "              - dp[-1][k][0] = 0\n",
    "              - 含义：第-1天可交易k次且没有股票，利润肯定为0\n",
    "              - dp[-1][k][1] = -inf\n",
    "              - 含义：第-1天可交易k次且持有股票，不可能，利润肯定为负无穷\n",
    "              - dp[-1][0][0] = 0\n",
    "              - 含义：第-1天可交易0次且没有股票，利润肯定为0\n",
    "              - dp[-1][0][1] = -inf\n",
    "              - 含义：第-1天可交易k次且持有股票，不可能，利润肯定为负无穷\n"
   ]
  },
  {
   "cell_type": "code",
   "execution_count": 67,
   "metadata": {
    "ExecuteTime": {
     "end_time": "2020-03-10T13:51:13.556233Z",
     "start_time": "2020-03-10T13:51:13.505333Z"
    }
   },
   "outputs": [
    {
     "data": {
      "text/plain": [
       "8"
      ]
     },
     "execution_count": 67,
     "metadata": {},
     "output_type": "execute_result"
    }
   ],
   "source": [
    "class Solution:\n",
    "    \n",
    "    def maxProfit(self, prices: List[int]) -> int:\n",
    "        if not prices:return 0\n",
    "        return self.solve_k(prices,float('inf'))\n",
    "    \n",
    "    #允许k次交易\n",
    "    def solve_k(self,prices,k):\n",
    "        n = len(prices)\n",
    "        if k >= (n//2):\n",
    "            return self.solve_inf(prices)\n",
    "        dp = [[[0,0] for i in range(k+1)] for i in range(n)]\n",
    "        for i in range(n):\n",
    "            for j in range(k,0,-1):\n",
    "                if i == 0:\n",
    "                    #第-1天最大可以交易次数为0\n",
    "#                     dp[i][k][0] = max(dp[-1][0][0]+0,dp[-1][0][1]+prices[i])\n",
    "#                     dp[i][k][1] = max(dp[-1][0][1]+0,dp[-1][0][0]-prices[i])\n",
    "                    dp[i][j][0] = max(0+0,float('-inf')+prices[i])\n",
    "                    dp[i][j][1] = max(float('-inf')+0,0-prices[i])\n",
    "                    continue\n",
    "                dp[i][j][0] = max(dp[i-1][j][0]+0,dp[i-1][j][1]+prices[i])\n",
    "                dp[i][j][1] = max(dp[i-1][j][1]+0,dp[i-1][j-1][0]-prices[i])\n",
    "        return dp[n-1][k][0]\n",
    "    \n",
    "    #交易次数没有限制\n",
    "    def solve_inf(self,prices):\n",
    "        n = len(prices)\n",
    "        dp = [[0,0] for i in range(n)]\n",
    "        for i in range(n):\n",
    "            if i == 0:\n",
    "                #第-1天最大可以交易次数为0\n",
    "#                 dp[i][0] = max(dp[-1][0]+0,dp[-1][1]+prices[i])\n",
    "#                 dp[i][1] = max(dp[-1][1]+0,dp[-1][0]-prices[i])\n",
    "                dp[i][0] = max(0+0,float('-inf')+prices[i])\n",
    "                dp[i][1] = max(float('-inf')+0,0-prices[i])\n",
    "                continue\n",
    "            dp[i][0] = max(dp[i-1][0]+0,dp[i-1][1]+prices[i])\n",
    "            dp[i][1] = max(dp[i-1][1]+0,dp[i-1][0]-prices[i])\n",
    "                \n",
    "        return dp[n-1][0]\n",
    "    \n",
    "    #交易次数没有限制，但是有冷冻费\n",
    "    def solve_inf_colddown(self,prices):\n",
    "        n = len(prices)\n",
    "        dp = [[0,0] for i in range(n)]\n",
    "        for i in range(n):\n",
    "            if i == 0:\n",
    "                #第-1天最大可以交易次数为0\n",
    "#                 dp[i][0] = max(dp[-1][0]+0,dp[-1][1]+prices[i])\n",
    "#                 dp[i][1] = max(dp[-1][1]+0,dp[-1][0]-prices[i])\n",
    "                dp[i][0] = max(0+0,float('-inf')+prices[i])\n",
    "                dp[i][1] = max(float('-inf')+0,0-prices[i])\n",
    "                continue\n",
    "            dp[i][0] = max(dp[i-1][0]+0,dp[i-1][1]+prices[i])\n",
    "            #根据题目要求，若当前有股票，必定是前天买入i-2->i\n",
    "            dp[i][1] = max(dp[i-1][1]+0,dp[i-2][0]-prices[i])\n",
    "                \n",
    "        return dp[n-1][0]\n",
    "    \n",
    "    #交易次数没有限制，但是每次交易有手续费\n",
    "    def solve_inf_fee(self,prices,fee):\n",
    "        n = len(prices)\n",
    "        dp = [[0,0] for i in range(n)]\n",
    "        for i in range(n):\n",
    "            if i == 0:\n",
    "                #第-1天最大可以交易次数为0\n",
    "#                 dp[i][0] = max(dp[-1][0]+0,dp[-1][1]+prices[i])\n",
    "#                 dp[i][1] = max(dp[-1][1]+0,dp[-1][0]-prices[i])\n",
    "                dp[i][0] = max(0+0,float('-inf')+prices[i])\n",
    "                dp[i][1] = max(float('-inf')+0,0-prices[i]-2)\n",
    "                continue\n",
    "            dp[i][0] = max(dp[i-1][0]+0,dp[i-1][1]+prices[i])\n",
    "            dp[i][1] = max(dp[i-1][1]+0,dp[i-1][0]-prices[i]-fee)\n",
    "                \n",
    "        return dp[n-1][0]\n",
    "                \n",
    "\n",
    "s = Solution()\n",
    "prices = [1, 3, 2, 8, 4, 9]\n",
    "s.solve_inf_fee(prices,2)"
   ]
  },
  {
   "cell_type": "markdown",
   "metadata": {},
   "source": [
    "### 零钱兑换 leetcode 322  \n",
    "- 题目\n",
    "给定不同面额的硬币 coins 和一个总金额 amount。  \n",
    "编写一个函数来计算可以凑成总金额所需的最少的硬币个数。如果没有任何一种硬币组合能组成总金额，返回 -1。  \n",
    "示例 1:  \n",
    "输入: coins = [1, 2, 5], amount = 11  \n",
    "输出: 3  \n",
    "解释: 11 = 5 + 5 + 1  \n",
    "示例 2:  \n",
    "输入: coins = [2], amount = 3  \n",
    "输出: -1  \n",
    "说明:  \n",
    "你可以认为每种硬币的数量是无限的。  \n",
    "- 解题目标\n",
    "- 解题思路"
   ]
  },
  {
   "cell_type": "code",
   "execution_count": 25,
   "metadata": {
    "ExecuteTime": {
     "end_time": "2020-02-12T13:28:47.627165Z",
     "start_time": "2020-02-12T13:28:47.617193Z"
    }
   },
   "outputs": [
    {
     "data": {
      "text/plain": [
       "-1"
      ]
     },
     "execution_count": 25,
     "metadata": {},
     "output_type": "execute_result"
    }
   ],
   "source": [
    "#问题：硬币个数最少\n",
    "#状态：amount\n",
    "#选择；amount-[1,2,5]\n",
    "#dp数组或递归函数：dp(amount)\n",
    "#备忘录：dict\n",
    "class Solution:\n",
    "    def coinChange(self, coins: List[int], amount: int) -> int:\n",
    "        memo = dict()\n",
    "        def solve(coins,amount):\n",
    "            if amount in memo:\n",
    "                return memo[amount]\n",
    "            if amount == 0:\n",
    "                return 0\n",
    "            if amount < 0:\n",
    "                return float('inf')\n",
    "            min_res = float('inf')\n",
    "            for coin in coins:\n",
    "                min_res = min(solve(coins,amount-coin)+1,min_res)\n",
    "                memo[amount] = min_res\n",
    "            return min_res\n",
    "        res = solve(coins,amount)\n",
    "        if res == float('inf'):return -1\n",
    "        else:return res\n",
    "        \n",
    "solution = Solution()\n",
    "solution.coinChange([2],3)\n",
    "        \n",
    "    "
   ]
  },
  {
   "cell_type": "markdown",
   "metadata": {},
   "source": [
    "编辑距离 leetcode 72\n",
    "给定两个单词 word1 和 word2，计算出将 word1 转换成 word2 所使用的最少操作数 。\n",
    "\n",
    "你可以对一个单词进行如下三种操作：\n",
    "\n",
    "插入一个字符\n",
    "删除一个字符\n",
    "替换一个字符\n",
    "示例 1:\n",
    "\n",
    "输入: word1 = \"horse\", word2 = \"ros\"\n",
    "输出: 3\n",
    "解释: \n",
    "horse -> rorse (将 'h' 替换为 'r')\n",
    "rorse -> rose (删除 'r')\n",
    "rose -> ros (删除 'e')\n",
    "示例 2:\n",
    "\n",
    "输入: word1 = \"intention\", word2 = \"execution\"\n",
    "输出: 5\n",
    "解释: \n",
    "intention -> inention (删除 't')\n",
    "inention -> enention (将 'i' 替换为 'e')\n",
    "enention -> exention (将 'n' 替换为 'x')\n",
    "exention -> exection (将 'n' 替换为 'c')\n",
    "exection -> execution (插入 'u')\n"
   ]
  },
  {
   "cell_type": "code",
   "execution_count": 36,
   "metadata": {
    "ExecuteTime": {
     "end_time": "2020-02-12T05:36:31.050118Z",
     "start_time": "2020-02-12T05:36:31.036193Z"
    }
   },
   "outputs": [
    {
     "data": {
      "text/plain": [
       "3"
      ]
     },
     "execution_count": 36,
     "metadata": {},
     "output_type": "execute_result"
    }
   ],
   "source": [
    "class Solution:\n",
    "    #将word1转换成word2\n",
    "    def minDistance(self, word1: str, word2: str) -> int:\n",
    "        #利用字典去除重复子问题\n",
    "        res = dict()\n",
    "        def dp(p1,p2):\n",
    "            if (p1,p2) in res:\n",
    "                return res[(p1,p2)]\n",
    "            #p1到达边界,返回p2+1,即将p2及之前的字符插入到p1\n",
    "            if p1 == -1:\n",
    "                return p2+1\n",
    "            #p2到达边界,返回p1+1,即将p1及之前的字符删除\n",
    "            if p2 == -1:\n",
    "                return p1+1\n",
    "            #word1[p1]==word1[p1]，跳过\n",
    "            if word1[p1] == word2[p2]:\n",
    "                res[(p1,p2)] = dp(p1-1,p2-1)\n",
    "            #word1[p1]！=word1[p1]，选择 插入；删除；替换 中最小的\n",
    "            else:\n",
    "                res[(p1,p2)] = min(dp(p1,p2-1),dp(p1-1,p2),dp(p1-1,p2-1))+1\n",
    "            \n",
    "            return res[(p1,p2)]\n",
    "        \n",
    "        return dp(len(word1)-1,len(word2)-1)\n",
    "\n",
    "word1 = 'sea'\n",
    "word2 = 'ate'\n",
    "solution = Solution()\n",
    "solution.minDistance(word1,word2)"
   ]
  },
  {
   "cell_type": "markdown",
   "metadata": {},
   "source": [
    "鸡蛋掉落 leetcode 887\n",
    "你将获得 K 个鸡蛋，并可以使用一栋从 1 到 N  共有 N 层楼的建筑。\n",
    "每个蛋的功能都是一样的，如果一个蛋碎了，你就不能再把它掉下去。\n",
    "你知道存在楼层 F ，满足 0 <= F <= N 任何从高于 F 的楼层落下的鸡蛋都会碎，从 F 楼层或比它低的楼层落下的鸡蛋都不会破。\n",
    "每次移动，你可以取一个鸡蛋（如果你有完整的鸡蛋）并把它从任一楼层 X 扔下（满足 1 <= X <= N）。\n",
    "你的目标是确切地知道 F 的值是多少。\n",
    "无论 F 的初始值如何，你确定 F 的值的最小移动次数是多少？\n",
    "\n",
    "示例 1：\n",
    "输入：K = 1, N = 2\n",
    "输出：2\n",
    "解释：\n",
    "鸡蛋从 1 楼掉落。如果它碎了，我们肯定知道 F = 0 。\n",
    "否则，鸡蛋从 2 楼掉落。如果它碎了，我们肯定知道 F = 1 。\n",
    "如果它没碎，那么我们肯定知道 F = 2 。\n",
    "因此，在最坏的情况下我们需要移动 2 次以确定 F 是多少。\n",
    "\n",
    "示例 2：\n",
    "输入：K = 2, N = 6\n",
    "输出：3\n",
    "\n",
    "示例 3：\n",
    "输入：K = 3, N = 14\n",
    "输出：4\n",
    "\n",
    "提示：\n",
    "1 <= K <= 100\n",
    "1 <= N <= 10000"
   ]
  },
  {
   "cell_type": "markdown",
   "metadata": {},
   "source": [
    "题目要求什么：\n",
    "题目-F 的值的最小移动次数\n",
    "解释-在最坏的情况下我们需要移动 2 次以确定 F 是多少\n",
    "最坏情况下F的最少移动次数\n",
    "穷举所有最坏情况下的扔鸡蛋次数，选择最小\n",
    "什么是最坏：鸡蛋碎在搜索区间穷尽的时候\n",
    "最坏怎么计算：鸡蛋碎或者不碎的时候，产生的移动次数，取最大\n",
    "\n",
    "状态：\n",
    "有哪些状态（K，N）；状态如果转移（碎-K-1；，不碎）\n",
    "选择：可以怎么选\n",
    "dp数组或递归函数\n",
    "备忘录"
   ]
  },
  {
   "cell_type": "code",
   "execution_count": 155,
   "metadata": {
    "ExecuteTime": {
     "end_time": "2020-02-13T07:58:00.789519Z",
     "start_time": "2020-02-13T07:58:00.731682Z"
    },
    "code_folding": []
   },
   "outputs": [
    {
     "data": {
      "text/plain": [
       "16"
      ]
     },
     "execution_count": 155,
     "metadata": {},
     "output_type": "execute_result"
    }
   ],
   "source": [
    "class Solution:\n",
    "    def superEggDrop(self, K: int, N: int) -> int:\n",
    "        memo = dict()\n",
    "        #利用二分查找\n",
    "        def solve2(num_egg,num_floor):\n",
    "            if num_egg == 1:return num_floor\n",
    "            if num_floor == 0:return 0\n",
    "            if (num_egg,num_floor) in memo:\n",
    "                return memo[(num_egg,num_floor)]\n",
    "            res = float('inf')\n",
    "            left,right = 1,num_floor\n",
    "            while left <= right:\n",
    "                mid = (left + right) // 2\n",
    "                broken = solve2(num_egg-1,mid-1)\n",
    "                not_broken = solve2(num_egg,num_floor-mid)\n",
    "                if broken > not_broken:\n",
    "                    right = mid - 1\n",
    "                    res = min(res,broken+1)\n",
    "                else:\n",
    "                    left = mid + 1\n",
    "                    res = min(res,not_broken+1)\n",
    "            memo[(num_egg,num_floor)] = res\n",
    "            return res\n",
    "                \n",
    "        \n",
    "        def solve(num_egg,num_floor):\n",
    "            #递归边界：只有一个鸡蛋时，只能一层一层往上找N，仍N次；没有鸡蛋时，返回0，因为没鸡蛋扔了\n",
    "            if num_egg == 1:return num_floor\n",
    "            if num_floor == 0:return num_floor\n",
    "            if (num_egg,num_floor) in memo:\n",
    "                return memo[(num_egg,num_floor)]\n",
    "            #递归方程\n",
    "            #穷举所有选择，每种选择下，每种状态产生的次数，取最大，然后，取每种选择的最小\n",
    "            res = float('inf')\n",
    "            for i in range(1,num_floor+1):\n",
    "                #每种状态（碎，不碎）产生的次数，取最大；扔一次加1\n",
    "                max_val = max(solve(num_egg-1,i-1),solve(num_egg,num_floor-i))+1\n",
    "                #每种选择下，取每种选择的最小\n",
    "                res = min(max_val,res)\n",
    "            memo[(num_egg,num_floor)] = res\n",
    "            return res\n",
    "        \n",
    "        return solve2(K,N)\n",
    "    \n",
    "solution = Solution()\n",
    "solution.superEggDrop(4,2000)"
   ]
  },
  {
   "cell_type": "markdown",
   "metadata": {
    "ExecuteTime": {
     "end_time": "2020-02-13T09:32:14.949697Z",
     "start_time": "2020-02-13T09:32:14.934738Z"
    }
   },
   "source": [
    "数组的每个索引做为一个阶梯，第 i个阶梯对应着一个非负数的体力花费值 cost[i](索引从0开始)。\n",
    "每当你爬上一个阶梯你都要花费对应的体力花费值，然后你可以选择继续爬一个阶梯或者爬两个阶梯。\n",
    "您需要找到达到楼层顶部的最低花费。在开始时，你可以选择从索引为 0 或 1 的元素作为初始阶梯。\n",
    "\n",
    "示例 1:\n",
    "输入: cost = [10, 15, 20]\n",
    "输出: 15\n",
    "解释: 最低花费是从cost[1]开始，然后走两步即可到阶梯顶，一共花费15。\n",
    "\n",
    "示例 2:\n",
    "输入: cost = [1, 100, 1, 1, 1, 100, 1, 1, 100, 1]\n",
    "输出: 6\n",
    "解释: 最低花费方式是从cost[0]开始，逐个经过那些1，跳过cost[3]，一共花费6。\n",
    "\n",
    "注意：\n",
    "cost的长度将会在 [2, 1000]。\n",
    "每一个 cost[i] 将会是一个Integer类型，范围为 [0, 999]"
   ]
  },
  {
   "cell_type": "markdown",
   "metadata": {},
   "source": [
    "定义dp函数或数组\n",
    "    一般是题目的直接目的\n",
    "    当前的最小花费\n",
    "    \n",
    "定义状态\n",
    "    可以变化的量\n",
    "    走一步还是两步\n",
    "    \n",
    "定义选择\n",
    "    每种状态的变化，可以做出的选择\n",
    "    min(前一步的花费，前两步的花费)+当前的花费\n",
    "    \n",
    "min(solve(),solve())+\n",
    "\n",
    "定义base case\n",
    "    p=-1 v=0\n"
   ]
  },
  {
   "cell_type": "code",
   "execution_count": 13,
   "metadata": {
    "ExecuteTime": {
     "end_time": "2020-02-16T12:37:35.465383Z",
     "start_time": "2020-02-16T12:37:35.450422Z"
    }
   },
   "outputs": [
    {
     "data": {
      "text/plain": [
       "15"
      ]
     },
     "execution_count": 13,
     "metadata": {},
     "output_type": "execute_result"
    }
   ],
   "source": [
    "class Solution:\n",
    "    def minCostClimbingStairs(self, cost: List[int]) -> int:\n",
    "        memo = dict()\n",
    "        def solve(cost,p):\n",
    "            if p >= len(cost):return 0\n",
    "            if p in memo:\n",
    "                return memo[p]\n",
    "            memo[p] = min(solve(cost,p+1),solve(cost,p+2))+cost[p]\n",
    "            return memo[p]\n",
    "            \n",
    "        return min(solve(cost,0),solve(cost,1))\n",
    "\n",
    "cost = [10,15,20]\n",
    "solution = Solution()\n",
    "solution.minCostClimbingStairs(cost)\n",
    "        "
   ]
  },
  {
   "cell_type": "markdown",
   "metadata": {},
   "source": [
    "亚历克斯和李用几堆石子在做游戏。偶数堆石子排成一行，每堆都有正整数颗石子 piles[i] 。\n",
    "游戏以谁手中的石子最多来决出胜负。石子的总数是奇数，所以没有平局。\n",
    "亚历克斯和李轮流进行，亚历克斯先开始。 每回合，玩家从行的开始或结束处取走整堆石头。 这种情况一直持续到没有更多的石子堆为止，此时手中石子最多的玩家获胜。\n",
    "假设亚历克斯和李都发挥出最佳水平，当亚历克斯赢得比赛时返回 true ，当李赢得比赛时返回 false 。\n",
    "\n",
    "示例：\n",
    "\n",
    "输入：[5,3,4,5]\n",
    "输出：true\n",
    "解释：\n",
    "亚历克斯先开始，只能拿前 5 颗或后 5 颗石子 。\n",
    "假设他取了前 5 颗，这一行就变成了 [3,4,5] 。\n",
    "如果李拿走前 3 颗，那么剩下的是 [4,5]，亚历克斯拿走后 5 颗赢得 10 分。\n",
    "如果李拿走后 5 颗，那么剩下的是 [3,4]，亚历克斯拿走后 4 颗赢得 9 分。\n",
    "这表明，取前 5 颗石子对亚历克斯来说是一个胜利的举动，所以我们返回 true 。\n",
    "\n",
    "提示：\n",
    "2 <= piles.length <= 500\n",
    "piles.length 是偶数。\n",
    "1 <= piles[i] <= 500\n",
    "sum(piles) 是奇数。\n"
   ]
  },
  {
   "cell_type": "markdown",
   "metadata": {},
   "source": [
    "定义dp数组\n",
    "dp[i][j] piles[i->j]中，两人的最佳挑选数量汇总\n",
    "dp[i][j][0] 为alex的；p[i][j][1] 为lee的\n",
    "\n",
    "定义状态\n",
    "石头堆数\n",
    "\n",
    "定义选择\n",
    "选左边，还是右边\n",
    "\n",
    "定义状态转移方程\n",
    "alex dp[i][j][0] = max(piles[i]+dp[i+1][j][1],piles[j]+dp[i][j-1][1])\n",
    "\n",
    "结果：\n",
    "dp[i][j][0] - dp[i][j][1]\n"
   ]
  },
  {
   "cell_type": "code",
   "execution_count": 24,
   "metadata": {
    "ExecuteTime": {
     "end_time": "2020-02-17T12:56:09.620934Z",
     "start_time": "2020-02-17T12:56:09.616942Z"
    }
   },
   "outputs": [],
   "source": [
    "from typing import List\n",
    "def print_list(lst):\n",
    "    for i in lst:\n",
    "        print(i)"
   ]
  },
  {
   "cell_type": "code",
   "execution_count": 31,
   "metadata": {
    "ExecuteTime": {
     "end_time": "2020-02-17T13:00:34.972485Z",
     "start_time": "2020-02-17T13:00:34.946555Z"
    }
   },
   "outputs": [
    {
     "data": {
      "text/plain": [
       "True"
      ]
     },
     "execution_count": 31,
     "metadata": {},
     "output_type": "execute_result"
    }
   ],
   "source": [
    "class Solution:\n",
    "    def stoneGame(self, piles: List[int]) -> bool:\n",
    "        \n",
    "        def solve(piles):\n",
    "            piles_len = len(piles)\n",
    "            #res[i][j] piles[i->j]中，两人的最佳挑选数量汇总\n",
    "            res = [[[0,0] for i in range(piles_len)] for j in range(piles_len)]\n",
    "            #base case 只有剩下一个石头堆的时候\n",
    "            for i in range(piles_len):\n",
    "                res[i][i][0] = piles[i]\n",
    "                res[i][i][1] = 0\n",
    "            #状态转移，迭代最优\n",
    "            for gap in range(2,piles_len+1):\n",
    "                for i in range(piles_len-gap+1):\n",
    "                    j = i+gap-1\n",
    "                    #alex选左边=当前选的，加下一轮选择的，下轮选择前lee先选，alex为后手\n",
    "                    left = piles[i]+res[i+1][j][1]\n",
    "                    #alex选右边\n",
    "                    right = piles[j]+res[i][j-1][1]\n",
    "                    #左边的大，则alex肯定选左边\n",
    "                    if left > right:\n",
    "                        res[i][j][0] = left\n",
    "                        res[i][j][1] = res[i+1][j][0]\n",
    "                    else:\n",
    "                        res[i][j][0] = right\n",
    "                        res[i][j][1] = res[i][j-1][0]\n",
    "            return True if res[0][piles_len-1][0] - res[0][piles_len-1][1] > 0 else False\n",
    "        \n",
    "        return solve(piles)\n",
    "\n",
    "piles = [5,3,4,5]\n",
    "solution = Solution()\n",
    "solution.stoneGame(piles)"
   ]
  },
  {
   "cell_type": "markdown",
   "metadata": {},
   "source": [
    "给定一个区间的集合，找到需要移除区间的最小数量，使剩余区间互不重叠。\n",
    "注意:\n",
    "可以认为区间的终点总是大于它的起点。\n",
    "区间 [1,2] 和 [2,3] 的边界相互“接触”，但没有相互重叠。\n",
    "示例 1:\n",
    "\n",
    "输入: [ [1,2], [2,3], [3,4], [1,3] ]\n",
    "输出: 1\n",
    "解释: 移除 [1,3] 后，剩下的区间没有重叠。\n",
    "\n",
    "示例 2:\n",
    "输入: [ [1,2], [1,2], [1,2] ]\n",
    "输出: 2\n",
    "解释: 你需要移除两个 [1,2] 来使剩下的区间没有重叠。\n",
    "\n",
    "示例 3:\n",
    "输入: [ [1,2], [2,3] ]\n",
    "输出: 0\n",
    "解释: 你不需要移除任何区间，因为它们已经是无重叠的了。\n"
   ]
  },
  {
   "cell_type": "code",
   "execution_count": 53,
   "metadata": {
    "ExecuteTime": {
     "end_time": "2020-02-17T14:21:18.382105Z",
     "start_time": "2020-02-17T14:21:18.362158Z"
    }
   },
   "outputs": [
    {
     "data": {
      "text/plain": [
       "3"
      ]
     },
     "execution_count": 53,
     "metadata": {},
     "output_type": "execute_result"
    }
   ],
   "source": [
    "class Solution:\n",
    "    def eraseOverlapIntervals(self, intervals: List[List[int]]) -> int:\n",
    "        def solve(intervals):\n",
    "            len_intervals = len(intervals)\n",
    "            count = 0\n",
    "            #按end从小到大排序\n",
    "            intervals.sort(key=lambda x:x[1])\n",
    "            #end往后找\n",
    "            temp_stt = intervals[0][0]\n",
    "            temp_end = intervals[0][1]\n",
    "            for i in range(1,len_intervals):\n",
    "                #相同的肯定要移除\n",
    "                if intervals[i][0] == temp_stt and intervals[i][1] == temp_end:\n",
    "                    count += 1\n",
    "                #如果下个区间的stt小于当前的temp_end，要移除\n",
    "                elif intervals[i][0] < temp_end:\n",
    "                    count += 1\n",
    "                else:\n",
    "                    temp_stt = intervals[i][0]\n",
    "                    temp_end = intervals[i][1]\n",
    "            return count\n",
    "        return solve(intervals)\n",
    "\n",
    "intervals = [ [1,2],[1,2], [1,4], [1,3] ]\n",
    "solution = Solution()\n",
    "solution.eraseOverlapIntervals(intervals)"
   ]
  },
  {
   "cell_type": "markdown",
   "metadata": {},
   "source": [
    "在二维空间中有许多球形的气球。\n",
    "对于每个气球，提供的输入是水平方向上，气球直径的开始和结束坐标。由于它是水平的，所以y坐标并不重要，因此只要知道开始和结束的x坐标就足够了。开始坐标总是小于结束坐标。平面内最多存在104个气球。\n",
    "\n",
    "一支弓箭可以沿着x轴从不同点完全垂直地射出。在坐标x处射出一支箭，若有一个气球的直径的开始和结束坐标为 xstart，xend， 且满足  xstart ≤ x ≤ xend，则该气球会被引爆。可以射出的弓箭的数量没有限制。 弓箭一旦被射出之后，可以无限地前进。我们想找到使得所有气球全部被引爆，所需的弓箭的最小数量。\n",
    "\n",
    "Example:\n",
    "\n",
    "输入:\n",
    "[[10,16], [2,8], [1,6], [7,12]]\n",
    "\n",
    "输出:\n",
    "2\n",
    "\n",
    "解释:\n",
    "对于该样例，我们可以在x = 6（射爆[2,8],[1,6]两个气球）和 x = 11（射爆另外两个气球）。\n"
   ]
  },
  {
   "cell_type": "code",
   "execution_count": 79,
   "metadata": {
    "ExecuteTime": {
     "end_time": "2020-02-18T13:34:43.463498Z",
     "start_time": "2020-02-18T13:34:43.426597Z"
    }
   },
   "outputs": [
    {
     "data": {
      "text/plain": [
       "2"
      ]
     },
     "execution_count": 79,
     "metadata": {},
     "output_type": "execute_result"
    }
   ],
   "source": [
    "class Solution:\n",
    "    def findMinArrowShots(self, points: List[List[int]]) -> int:\n",
    "        def solve(points):\n",
    "            #按end从小到大排\n",
    "            #初始要射n箭，存在一个重叠的区间，减一\n",
    "            #重叠的区间中，取最大\n",
    "            len_points = len(points)\n",
    "            count = len_points\n",
    "            if len_points <= 1:\n",
    "                return len_points\n",
    "            points.sort(key=lambda x:(x[1],x[0]))\n",
    "            temp_stt = points[0][0]\n",
    "            temp_end = points[0][1]\n",
    "            for i in range(1,len_points):\n",
    "                #位置相同，重叠\n",
    "                #stt小于temp_end，重叠，如果end大于temp_end，则temp_end=end\n",
    "                if temp_stt == points[i][0] and temp_end == points[i][1]:\n",
    "                    count -= 1\n",
    "                elif points[i][0] <= temp_end:\n",
    "                    count -= 1\n",
    "                    temp_end = min(temp_end,points[i][1])\n",
    "                    temp_stt = max(temp_stt,points[i][1])\n",
    "                else:\n",
    "                    temp_stt = points[i][0]\n",
    "                    temp_end = points[i][1]\n",
    "            return count\n",
    "        \n",
    "        return solve(points)\n",
    "    \n",
    "points = [[3,9],[7,12],[3,8],[6,8],[9,10],[2,9],[0,9],[3,9],[0,6],[2,8]]#[[1,2],[2,3],[3,4],[4,5]]#[[10,16], [2,8], [1,6], [7,12]]\n",
    "solution = Solution()\n",
    "solution.findMinArrowShots(points)"
   ]
  },
  {
   "cell_type": "markdown",
   "metadata": {},
   "source": [
    "假设你正在爬楼梯。需要 n 阶你才能到达楼顶。\n",
    "每次你可以爬 1 或 2 个台阶。你有多少种不同的方法可以爬到楼顶呢？\n",
    "注意：给定 n 是一个正整数。\n",
    "\n",
    "示例 1：\n",
    "输入： 2\n",
    "输出： 2\n",
    "解释： 有两种方法可以爬到楼顶。\n",
    "1.  1 阶 + 1 阶\n",
    "2.  2 阶\n",
    "\n",
    "示例 2：\n",
    "输入： 3\n",
    "输出： 3\n",
    "解释： 有三种方法可以爬到楼顶。\n",
    "1.  1 阶 + 1 阶 + 1 阶\n",
    "2.  1 阶 + 2 阶\n",
    "3.  2 阶 + 1 阶\n"
   ]
  },
  {
   "cell_type": "code",
   "execution_count": 20,
   "metadata": {
    "ExecuteTime": {
     "end_time": "2020-02-20T04:02:05.892165Z",
     "start_time": "2020-02-20T04:02:05.880165Z"
    }
   },
   "outputs": [
    {
     "data": {
      "text/plain": [
       "2"
      ]
     },
     "execution_count": 20,
     "metadata": {},
     "output_type": "execute_result"
    }
   ],
   "source": [
    "class Solution:\n",
    "    def climbStairs(self, n: int) -> int:\n",
    "        def solve(n):\n",
    "            if n <= 2:return n\n",
    "            pre = 2\n",
    "            prepre = 1\n",
    "            index = 3\n",
    "            res = 0\n",
    "            while index <= n:\n",
    "                res = prepre + pre\n",
    "                pre,prepre = res,pre\n",
    "                index += 1\n",
    "            return res\n",
    "        return solve(n)\n",
    "\n",
    "solution = Solution()\n",
    "solution.climbStairs(2)"
   ]
  },
  {
   "cell_type": "markdown",
   "metadata": {},
   "source": [
    "你是一个专业的小偷，计划偷窃沿街的房屋。每间房内都藏有一定的现金，影响你偷窃的唯一制约因素就是\n",
    "相邻的房屋装有相互连通的防盗系统，如果两间相邻的房屋在同一晚上被小偷闯入，系统会自动报警。\n",
    "\n",
    "给定一个代表每个房屋存放金额的非负整数数组，计算你在不触动警报装置的情况下，能够偷窃到的最高金额。\n",
    "\n",
    "示例 1:\n",
    "\n",
    "输入: [1,2,3,1]\n",
    "输出: 4\n",
    "解释: 偷窃 1 号房屋 (金额 = 1) ，然后偷窃 3 号房屋 (金额 = 3)。\n",
    "     偷窃到的最高金额 = 1 + 3 = 4 。\n",
    "     \n",
    "示例 2:\n",
    "输入: [2,7,9,3,1]\n",
    "输出: 12\n",
    "解释: 偷窃 1 号房屋 (金额 = 2), 偷窃 3 号房屋 (金额 = 9)，接着偷窃 5 号房屋 (金额 = 1)。\n",
    "     偷窃到的最高金额 = 2 + 9 + 1 = 12 。\n",
    "\n",
    "状态：偷窃金额，剩余房屋数\n",
    "选择：偷，不偷\n",
    "状态转移方程：\n",
    "base case:\n",
    "\n",
    "第一或第二个，肯定会偷\n",
    "下个或下下个，肯定回偷\n",
    "max(solve(i+2,nums),solve(i+3,nums))\n",
    "max(solve(0,nums),solve(1,nums))\n",
    "dp[i] 第i家时打劫的金额\n",
    "dp[i] = max(dp[i+1],dp[i+2]+nums[i]) : max(不打劫，打劫)"
   ]
  },
  {
   "cell_type": "code",
   "execution_count": 14,
   "metadata": {
    "ExecuteTime": {
     "end_time": "2020-02-20T13:12:25.236676Z",
     "start_time": "2020-02-20T13:12:25.221724Z"
    }
   },
   "outputs": [
    {
     "data": {
      "text/plain": [
       "12"
      ]
     },
     "execution_count": 14,
     "metadata": {},
     "output_type": "execute_result"
    }
   ],
   "source": [
    "class Solution:\n",
    "    def rob(self, nums: List[int]) -> int:\n",
    "        def solve(nums):\n",
    "            res = [0 for i in range(len(nums)+2)]\n",
    "            for i in range(len(nums)-1,-1,-1):\n",
    "                res[i] = max(res[i+1],res[i+2]+nums[i])\n",
    "            return res[0]\n",
    "        return solve(nums)\n",
    "cost = [2,7,9,3,1]\n",
    "solution = Solution()\n",
    "solution.rob(cost)"
   ]
  },
  {
   "cell_type": "markdown",
   "metadata": {},
   "source": [
    "你是一个专业的小偷，计划偷窃沿街的房屋，每间房内都藏有一定的现金。这个地方所有的房屋都围成一圈，这意味着第一个房屋和最后一个房屋是紧挨着的。同时，相邻的房屋装有相互连通的防盗系统，如果两间相邻的房屋在同一晚上被小偷闯入，系统会自动报警。\n",
    "\n",
    "给定一个代表每个房屋存放金额的非负整数数组，计算你在不触动警报装置的情况下，能够偷窃到的最高金额。\n",
    "\n",
    "示例 1:\n",
    "\n",
    "输入: [2,3,2]\n",
    "输出: 3\n",
    "解释: 你不能先偷窃 1 号房屋（金额 = 2），然后偷窃 3 号房屋（金额 = 2）, 因为他们是相邻的。\n",
    "示例 2:\n",
    "\n",
    "输入: [1,2,3,1]\n",
    "输出: 4\n",
    "解释: 你可以先偷窃 1 号房屋（金额 = 1），然后偷窃 3 号房屋（金额 = 3）。\n",
    "     偷窃到的最高金额 = 1 + 3 = 4 。\n",
    "\n",
    "假设，从第一个开始偷，则最大只能偷到倒数第二个\n",
    "假设，从第二个开始偷，则最大只能偷到倒数第一个\n",
    "max(solve(0,nums,flag=1),solve(1,nums,flag=2))\n",
    "max(solve(i+2,nums),solve(i+3,nums))"
   ]
  },
  {
   "cell_type": "code",
   "execution_count": 70,
   "metadata": {
    "ExecuteTime": {
     "end_time": "2020-02-20T08:07:18.095023Z",
     "start_time": "2020-02-20T08:07:18.077111Z"
    }
   },
   "outputs": [
    {
     "data": {
      "text/plain": [
       "15"
      ]
     },
     "execution_count": 70,
     "metadata": {},
     "output_type": "execute_result"
    }
   ],
   "source": [
    "class Solution:\n",
    "    def rob(self, nums: List[int]) -> int:\n",
    "        if not nums:return 0\n",
    "        if len(nums) <= 3:return max(nums)\n",
    "        memo = dict()\n",
    "        def solve(curr_idx,nums,flag):\n",
    "            if flag == '1' and curr_idx == len(nums)-2:return nums[curr_idx]\n",
    "            if flag == '1' and curr_idx >= len(nums)-1:return 0\n",
    "            if flag == '2' and curr_idx == len(nums)-1:return nums[curr_idx]\n",
    "            if flag == '2' and curr_idx >= len(nums):return 0\n",
    "            res = float('-inf')\n",
    "            for i in range(curr_idx+2,len(nums)):\n",
    "                res = max(solve(i,nums,flag),res)\n",
    "            res += nums[curr_idx]\n",
    "            return res\n",
    "        return max(solve(0,nums,flag='1'),solve(1,nums,flag='2'))\n",
    "cost = [1, 2, 3, 4, 5, 1, 2, 3, 4, 5]#13524#24135#13535\n",
    "solution = Solution()\n",
    "solution.rob(cost)"
   ]
  },
  {
   "cell_type": "code",
   "execution_count": 51,
   "metadata": {
    "ExecuteTime": {
     "end_time": "2020-02-20T07:48:55.552340Z",
     "start_time": "2020-02-20T07:48:55.546322Z"
    }
   },
   "outputs": [
    {
     "data": {
      "text/plain": [
       "'1-1'"
      ]
     },
     "execution_count": 51,
     "metadata": {},
     "output_type": "execute_result"
    }
   ],
   "source": [
    "'1' +'-'+ str(1)"
   ]
  },
  {
   "cell_type": "markdown",
   "metadata": {
    "ExecuteTime": {
     "end_time": "2020-02-22T13:00:54.295627Z",
     "start_time": "2020-02-22T13:00:54.284659Z"
    }
   },
   "source": [
    "给定字符串 s 和 t ，判断 s 是否为 t 的子序列。\n",
    "\n",
    "你可以认为 s 和 t 中仅包含英文小写字母。字符串 t 可能会很长（长度 ~= 500,000），而 s 是个短字符串（长度 <=100）。\n",
    "\n",
    "字符串的一个子序列是原始字符串删除一些（也可以不删除）字符而不改变剩余字符相对位置形成的新字符串。（例如，\"ace\"是\"abcde\"的一个子序列，而\"aec\"不是）。\n",
    "\n",
    "示例 1:\n",
    "s = \"abc\", t = \"ahbgdc\"\n",
    "\n",
    "返回 true.\n",
    "\n",
    "示例 2:\n",
    "s = \"axc\", t = \"ahbgdc\"\n",
    "\n",
    "返回 false.\n"
   ]
  },
  {
   "cell_type": "code",
   "execution_count": 35,
   "metadata": {
    "ExecuteTime": {
     "end_time": "2020-02-22T15:56:28.680901Z",
     "start_time": "2020-02-22T15:56:28.665942Z"
    }
   },
   "outputs": [
    {
     "data": {
      "text/plain": [
       "False"
      ]
     },
     "execution_count": 35,
     "metadata": {},
     "output_type": "execute_result"
    }
   ],
   "source": [
    "#s 第一个字符，遍历t 是否有，有则记录第一个位置 t = [i+:]\n",
    "#循环\n",
    "class Solution:\n",
    "    def __init__(self):\n",
    "        self.count = 0\n",
    "    def isSubsequence(self, s: str, t: str) -> bool:\n",
    "        def solve(s,t):\n",
    "            if not s or not t:return\n",
    "            stt = s[0]\n",
    "            for i in range(len(t)):\n",
    "                if t[i] == stt:\n",
    "                    self.count += 1\n",
    "                    solve(s[1:],t[i+1:])\n",
    "                    break\n",
    "        solve(s,t)\n",
    "        return len(s) == self.count\n",
    "    \n",
    "s = 'leeeeetcode'\n",
    "t = 'yyyyylyyyyyyyyyyyyyyyyyyyyyyyyyyyyyyyyyyyyyyyyyyyyyyyyyyyyyyyyyyyyyyyyyyyyyyyyyyyyyyyyyyyyyyyyyyyyyyyyyyyyyyyyyyyyyyyyyyyyyyyyyyyyyyyyyyyyyyyyyyyyyyyyyyyyyyyyyyyyyyyyyyyyyyyyyyyyyyyyyyyyyyyyyyyyyyyyyyyyyyyyyyyyyyyyyyyyyyyyyyyyyyyyyyyyyyyyyyyyyyyyyyyyyyyyyyyyyyyyyyyyyyyyyyyyyyyyyyyyyyyyyyyyyyyyyyyyyyyyyyyyyyyyyyyyyyyyyyyyyyyyyyyyyyyyyyyyyyyyyyyyyyyyyyyyyyyyyyyyyyyyyyyyyyyyyyyyyyyyyyyyyyyyyyyyyyyyyyeyyyyyyyyyyyyyyyyyyyyyyyyyyyyyyyyyyyyyyyyyyyyyyyyyyyyyyyyyyyyyyyyyyyyyyyyyyyyyyyyyyyyyyyyyyyyyyyyyyyyyyyyyyyyyyyyyyyyyyyyyyyyyyyyyyyyyyyyyyyyyyyyyyyyyyyyyyyyyyyyyyyyyyyyyyyyyyyyyyyyyyyyyyyyyyyyyyyyyyyyyyyyyyyyyyyyyyyyyyyyyyyyyyyyyyyyyyyyyyyyyyyyyyyyyyyyyyyyyyyyyyyyyyyyyyyyyyyyyyyyyyyyyyyyyyyyyyyyyyyyyyyyyyyyyyyyyyyyyyyyyyyyyyyyyyyyyyyyyyyyyyyyyyyyyyyyyyyyyyyyyyyyyyyyyyyyyyyyyyyyyyyyyyyyyyyyyyyyyyyyyyyyyyyyyyyyyyyyyyyyyyyyyyyyyyyyyyyyyyyyyyyyyyyyyyyyyyyyyyyyyyyyyyyyyyyyyyyyyyyyyyyyyyyyyyyyyyyyyyyyyyyyyyyyyyyyyyyyyyyyyyyyyyyyyyyyyyyyyyyyyyyyyyyyyyyyyyyyyyyyyyyyyyyyyyyyyyyyyyyyyyyyyyyyyyyyyyyyyyyyyyyyyyyyyyyyyyyyyyyyyyyyyyyyyyyyyyyyyyyyyyyyyyyyyyyyyyyyyyyyyyyyyyyyyyyyyyyyyyyyyyyyyyyyyyyyyyyyyyyyyyyyyyyyyyyyyyyyyyyyyyyyyyyyyyyyyyyyyyyyyyyyyyyyyyyyyyyyyyyyyyyyyyyyyyyyyyyyyyyyyyyyyyyyyyyyyyyyyyyyyyyyyyyyyyyyyyyyyyyyyyyyyyyyyyyyyyyyyyyyyyyyyyyyyyyyyyyyyyyyyyyyyyyyyyyyyyyyyyyyyyyyyyyyyyyyyyyyyyyyyyyyyyyyyyyyyyyyyyyyyyyyyyyyyyyyyyyyyyyyyyyyyyyyyyyyyyyyyyyyyyyyyyyyyyyyyyyyyyyyyyyyyyyyyyyyyyyyyyyyyyyyyyyyyyyyyyyyyyyyyyyyyyyyyyyyyyyyyyyyyyyyyyyyyyyyyyyyyyyyyyyyyyyyyyyyyyyyyyyyyyyyyyyyyyyyyyyyyyyyyyyyyyyyyyyyyyyyyyyyyyyyyyyyyyyyyyyyyyyyyyyyyyyyyyyyyyyyyyyyyyyyyyyyyyyyyyyyyyyyyyyyyyyyyyyyyyyyyyyyyyyyyyyyyyyyyyyyyyyyyyyyyyyyyyyyyyyyyyyyyyyyyyyyyyyyyyyyyyyyyyyyyyyyyyyyyyyyyyyyyyyyyyyyyyyyyyyyyyyeyyyyyyyyyyyyyyyyyyyyyyyyyyyyyyyyyyyyyyyyyyyyyyyyyyyyyyyyyyyyyyyyyyyyyyyyyyyyyyyyyyyyyyyyyyyyyyyyyyyyyyyyyyyyyyyyyyyyyyyyyyyyyyyyyyyyyyyyyyyyyyyyyyyyyyyyyyyyyyyyyyyyyyyyyyyyyyyyyyyyyyyyyyyyyyyyyyyyyyyyyyyyyyyyyyyyyyyyyyyyyyyyyyyyyyyyyyyyyyyyyyyyyyyyyyyyyyyyyyyyyyyyyyyyyyyyyyyyyyyyyyyyyyyyyyyyyyyyyyyyyyyyyyyyyyyyyyyyyyyyyyyyyyyyyyyyyyyyyyyyyyyyyyyyyyyyyyyyyyyyyyyyyyyyyyyyyyyyyyyyyyyyyyyyyyyyyyyyyyyyyyyyyyyyyyyyyyyyyyyyyyyyyyyyyyyyyyyyyyyyyyyyyyyyyyyyyyyyyyyyyyyyyyyyyyyyyyyyyyyyyyyyyyyyyyyyyyyyyyyyyyyyyyyyyyyyyyyyyyyyyyyyyyyyyyyyyyyyyyyyyyyyyyyyyyyyyyyyyyyyyyyyyyyyyyyyyyyyyyyyyyyyyyyyyyyyyyyyyyyyyyyyyyyyyyyyyyyyyyyyyyyyyyyyyyyyyyyyyyyyyyyyyyyyyyyyyyyyyyyyyyyyyyyyyyyyyyyyyyyyyyyyyyyyyyyyyyyyyyyyyyyyyyyyyyyyyyyyyyyyyyyyyyyyyyyyyyyyyyyyyyyyyyyyyyyyyyyyyyyyyyyyyyyyyyyyyyyyyyyyyyyyyyyyyyyyyyyyyyyyyyyyyyyyyyyyyyyyyyyyyyyyyyyyyyyyyyyyyyyyyyyyyyyyyyyyyyyyyyyyyyyyyyyyyyyyyyyyyyyyyyyyyyyyyyyyyyyyyyyyyyyyyyyyyyyyyyyyyyyyyyyyyyyyyyyyyyyyyyyyyyyyyyyyyyyyyyyyyyyyyyyyyyyyyyyyyyyyyyyyyyyyyyyyyyyyyyyyyyyyyyyyyyyyyyyyyyyyyyyyyyyyyyyyyyyyyyyyyyyyyyyyyyyyyyyyyyyyyyyyyyyyyyyyyyyyyyyyyyyyyyyyyyyyyyyyyyyyyyyyyyyyyyyyyyyyyyyyyyyyyyyyyyyyyyyyyyyyyyyyyyyyyyyyyyyyyyyyyyyyyyyyyyyyyyyyyyyyyyyyyyyyyyyyyyyyyyyyyyyyyyyyyyyyyyyyyyyyyyyyyyyyyyyyyyyyyyyyyyyyyyyyyyyyyyyyyyyyyyyyyyyyyyyyyyyyyyyyyyyyyyyyyyyyyyyyyyyyyyyyyyyyyyyyyyyyyyyyyyyyyyyyyyyyyyyyyyyyyyyyyyyyyyyyyyyyyyyyyyyyyyyyyyyyyyyyyyyyyyyyyyyyyyyyyyyyyyyyyyyyyyyyyyyyyyyyyyyyyyyyyyyyyyyyyyyyyyyyyyyyyyyyyyyyyyyyyyyyyyyyyyyyyyyyyyyyyyyyyyyyyyyyyyyyyyyyyyyyyyyyyyyyyyyyyyyyyyyyyyyyyyyyyyyyyyyyyyyyyyyyyyyyyyyyyyyyyyyyyyyyyyyyyyyyyyyyyyyyyyyyyyyyyyyyyyyyyyyyyyyyyyyyyyyyyyyyyyyyyyyyyyyyyyyyyyyyyyyyyyyyyyyyyyyyyyyyyyyyyyyyyyyyyyyyyyyyyyyyyyyyyyyyyyyyyyyyyyyyyyyyyyyyyyyyyyyyyyyyyyyyyyyyyyyyyyyyyyyyyyyyyyyyyyyyyyyyyyyyyyyyyyyyyyyyyyyyyyyyyyyyyyyyyyyyyyyyyyyyyyyyyyyyyyyyyyyyyyyyyyyyyyyyyyyyyyyyyyyyyyyyyyyyyyyyyyyyyyyyyyyyyyyyyyyyyyyyyyyyyyyeyyyyyyyyyyyyyyyyyyyyyyyyyyyyyyyyyyyyyyyyyyyyyyyyyyyyyyyyyyyyyyyyyyyyyyyyyyyyyyyyyyyyyyyyyyyyyyyyyyyyyyyyyyyyyyyyyyyyyyyyyyyyyyyyyyyyyyyyyyyyyyyyyyyyyyyyyyyyyyyyyyyyyyyyyyyyyyyyyyyyyyyyyyyyyyyyyyyyyyyyyyyyyyyyyyyyyyyyyyyyyyyyyyyyyyyyyyyyyyyyyyyyyyyyyyyyyyyyyyyyyyyyyyyyyyyyyyyyyyyyyyyyyyyyyyyyyyyyyyyyyyyyyyyyyyyyyyyyyyyyyyyyyyyyyyyyyyyyyyyyyyyyyyyyyyyyyyyyyyyyyyyyyyyyyyyyyyyyyyyyyyyyyyyyyyyyyyyyyyyyyyyyyyyyyyyyyyyyyyyyyyyyyyyyyyyyyyyyyyyyyyyyyyyyyyyyyyyyyyyyyyyyyyyyyyyyyyyyyyyyyyyyyyyyyyyyyyyyyyyyyyyyyyyyyyyyyyyyyyyyyyyyyyyyyyyyyyyyyyyyyyyyyyyyyyyyyyyyyyyyyyyyyyyyyyyyyyyyyyyyyyyyyyyyyyyyyyyyyyyyyyyyyyyyyyyyyyyyyyyyyyyyyyyyyyyyyyyyyyyyyyyyyyyyyyyyyyyyyyyyyyyyyyyyyyyyyyyyyyyyyyyyyyyyyyyyyyyyyyyyyyyyyyyyyyyyyyyyyyyyyyyyyyyyyyyyyyyyyyyyyyyyyyyyyyyyyyyyyyyyyyyyyyyyyyyyyyyyyyyyyyyyyyyyyyyyyyyyyyyyyyyyyyyyyyyyyyyyyyyyyyyyyyyyyyyyyyyyyyyyyyyyyyyyyyyyyyyyyyyyyyyyyyyyyyyyyyyyyyyyyyyyyyyyyyyyyyyyyyyyyyyyyyyyyyyyyyyyyyyyyyyyyyyyyyyyyyyyyyyyyyyyyyyyyyyyyyyyyyyyyyyyyyyyyyyyyyyyyyyyyyyyyyyyyyyyyyyyyyyyyyyyyyyyyyyyyyyyyyyyyyyyyyyyyyyyyyyyyyyyyyyyyyyyyyyyyyyyyyyyyyyyyyyyyyyyyyyyyyyyyyyyyyyyyyyyyyyyyyyyyyyyyyyyyyyyyyyyyyyyyyyyyyyyyyyyyyyyyyyyyyyyyyyyyyyyyyyyyyyyyyyyyyyyyyyyyyyyyyyyyyyyyyyyyyyyyyyyyyyyyyyyyyyyyyyyyyyyyyyyyyyyyyyyyyyyyyyyyyyyyyyyyyyyyyyyyyyyyyyyyyyyyyyyyyyyyyyyyyyyyyyyyyyyyyyyyyyyyyyyyyyyyyyyyyyyyyyyyyyyyyyyyyyyyyyyyyyyyyyyyyyyyyyyyyyyyyyyyyyyyyyyyyyyyyyyyyyyyyyyyyyyyyyyyyyyyyyyyyyyyyyyyyyyyyyyyyyyyyyyyyyyyyyyyyyyyyyyyyyyyyyyyyyyyyyyyyyyyyyyyyyyyyyyyyyyyyyyyyyyyyyyyyyyyyyyyyyyyyyyyyyyyyyyyyyyyyyyyyyyyyyyyyyyyyyyyyyyyyyyyyyyyyyyyyyyyyyyyyyyyyyyyyyyyyyyyyyyyyyyyyyyyyyyyyyyyyyyyyyyyyyyyyyyyyyyyyyyyyyyyyyyyyyyyyyyyyyyyyyyyyyyyyyyyyyyyyyyyyyyyyyyyyyyyyyyyyyyyyyyyyyyyyyyyyyyyyyyyyyyyyyyyyyyyyyyyyyyyyyyyyyyyyyyyyyyyyyyyyyyyyyyyyyyyyyyyyyyyyyyyyyyyyyyyyyyyyyyyyyyyyyyyyyyyyyyyyyyyyyyyyyyyyyyyyyyyyyyyyyyyyyyyyyyyyyyyyyyyyyyyyyyyyyyyyytyyyyyyyyyyyyyyyyyyyyyyyyyyyyyyyyyyyyyyyyyyyyyyyyyyyyyyyyyyyyyyyyyyyyyyyyyyyyyyyyyyyyyyyyyyyyyyyyyyyyyyyyyyyyyyyyyyyyyyyyyyyyyyyyyyyyyyyyyyyyyyyyyyyyyyyyyyyyyyyyyyyyyyyyyyyyyyyyyyyyyyyyyyyyyyyyyyyyyyyyyyyyyyyyyyyyyyyyyyyyyyyyyyyyyyyyyyyyyyyyyyyyyycyyyyyyyyyyyyyyyyyyyyyyyyyyyyyyyyyyyyyyyyyyyyyyyyyyyyyyyyyyyyyyyyyyyyyyyyyyyyyyyyyyyyyyyyyyyyyyyyyyyyyyyyyyyyyyyyyyyyyyyyyyyyyyyyyyyyyyyyyyyyyyyyyyyyyyyyyyyyyyyyyyyyyyyyyyyyyyyyyyyyyyyyyyyyyyyyyyyyyyyyyyyyyyyyyyyyyyyyyyyyyyyyyyyyyyyyyyyyyyyyyyyyyyyyyyyyyyyyyyyyyyyyyyyyyyyyyyyyyyyyyyyyyyyyyyyyyyyyyyyyyyyyyyyyyyyyyyyyyyyyyyyyyyyyyyyyyyyyyyyyyyyyyyyyyyyyyyyyyyyyyyyyyyyyyyyyyyyyyyyyyyyyyyyyyyyyyyyyyyyyyyyyyyyyyyyyyyyyyyyyyyyyyyyyyyyyyyyyyyyyyyyyyyyyyyyyyyyyyyyyyyyyyyyyyyyyyyyyyyyyyyyyyyyyyyyyyyyyyyyyyyyyyyyyyyyyyyyyyyyyyyyyyyyyyyyyyyyyyyyyyyyyyyyyyyyyyyyyyyyyyyyyyyyyyyyyyyyyyyyyyyyyyyyyyyyyyyyyyyyyyyyyyyyyyyyyyyyyyyyyyyyyyyyyyyyyyyyyyyyyyyyyyyyyyyyyyyyyyyyyyyyyyyyyyyyyyyyyyyyyyyyyyyyyyyyyyyyyyyyyyyyyyyyyyyyyyyyyyyyyyyyyyyyyyyyyyyyyyyyyyyyyyyyyyyyyyyyyyyyyyyyyyyyyyyyyyyyyyyyyyyyyyyyyyyyyyyyyyyyyyyyyyyyyyyyyyyyyyyyyyyyyyyyyyyyyyyyyyyyyyyyyyyyyyyyyyyyyyyyyyyyyyyyyyyyyyyyyyyyyyyyyyyyyyyyyyyyyyyyyyyyyyyyyyyyyyyyyyyyyyyyyyyyyyyyyyyyyyyyyyyyyyyyyyyyyyyyyyyyyyyyyyyyyyyyyyyyyyyyyyyyyyyyyyyyyyyyyyyyyyyyyyyyyyyyyyyyyyyyyyyyyyyyyyyyyyyyyyyyyyyyyyyyyyyyyyyyyyyyyyyyyyyyyyyyyyyyyyyyyyyyyyyyyyyyyyyyyyyyyyyyyyyyyyyyyyyyyyyyyyyyyyyyyyyyyyyyyyyyyyyyyyyyyyyyyyyyyyyyyyyyyyyyyyyyyyyyyyyyyyyyyyyyyyyyyyyyyyyyyyyyyyyyyyyyyyyyyyyyyyyyyyyyyyyyyyyyyyyyyyyyyyyyyyyyyyyyyyyyyyyyyyyyyyyyyyyyyyyyyyyyyyyyyyyyyyyyyyyyyyyyyyyyyyyyyyyyyyyyyoyyyyyyyyyyyyyyyyyyyyyyyyyyyyyyyyyyyyyyyyyyyyyyyyyyyyyyyyyyyyyyyyyyyyyyyyyyyyyyyyyyyyyyyyyyyyyyyyyyyyyyyyyyyyyyyyyyyyyyyyyyyyyyyyyyyyyyyyyyyyyyyyyyyyyyyyyyyyyyyyyyyyyyyyyyyyyyyyyyyyyyyyyyyyyyyyyyyyyyyyyyyyyyyyyyyyyyyyyyyyyyyyyyyyyyyyyyyyyyyyyyyyyyyyyyyyyyyyyyyyyyyyyyyyyyyyyyyyyyyyyyyyyyyyyyyyyyyyyyyyyyyyyyyyyyyyyyyyyyyyyyyyyyyyyyyyyyyyyyyyyyyyyyyyyyyyyyyyyyyyyyyyyyyyyyyyyyyyyyyyyyyyyyyyyyyyyyyyyyyyyyyyyyyyyyyyyyyyyyyyyyyyyyyyyyyyyyyyyyyyyyyyyyyyyyyyyyyyyyyyyyyyyyyyyyyyyyyyyyyyyyyyyyyyyyyyyyyyyyyyyyyyyyyyyyyyyyyyyyyyyyyyyyyyyyyyyyyyyyyyyyyyyyyyyyyyyyyyyyyyyyyyyyyyyyyyyyyyyyyyyyyyyyyyyyyyyyyyyyyyyyyyyyyyyyyyyyyyyyyyyyyyyyyyyyyyyyyyyyyyyyyyyyyyyyyyyyyyyyyyyyyyyyyyyyyyyyyyyyyyyyyyyyyyyyyyyyyyyyyyyyyyyyyyyyyyyyyyyyyyyyyyyyyyyyyyyyyyyyyyyyyyyyyyyyyyyyyyyyyyyyyyyyyyyyyyyyyyyyyyyyyyyyyyyyyyyyyyyyyyyyyyyyyyyyyyyyyyyyyyyyyyyyyyyyyyyyyyyyyyyyyyyyyyyyyyyyyyyyyyyyyyyyyyyyyyyyyyyyyyyyyyyyyyyyyyyyyyyyyyyyyyyyyyyyyyyyyyyyyyyyyyyyyyyyyyyyyyyyyyyyyyyyyyyyyyyyyyyyyyyyyyyyyyyyyyyyyyyyyyyyyyyyyyyyyyyyyyyyydyyyyyyyyyyyyyyyyyyyyyyyyyyyyyyyyyyyyyyyyyyyyyyyyyyyyyyyyyyyyyyyyyyyyyyyyyyyyyyyyyyyyyyyyyyyyyyyyyyyyyyyyyyyyyyyyyyyyyyyyyyyyyyyyyyyyyyyyyyyyyyyyyyyyyyyyyyyyyyyyyyyyyyyyyyyyyyyyyyyyyyyyyyyyyyyyyyyyyyyyyyyyyyyyyyyyyyyyyyyyyyyyyyyyyyyyyyyyyyyyyyyyyyyyyyyyyyyyyyyyyyyyyyyyyyyyyyyyyyyyyyyyyyyyyyyyyyyyyyyyyyyyyyyyyyyyyyyyyyyyyyyyyyyyyyyyyyyyyyyyyyyyyyyyyyyyyyyyyyyyyyyyyyyyyyyyyyyyyyyyyyyyyyyyyyyyyyyyyyyyyyyyyyyyyyyyyyyyyyyyyyyyyyyyyyyyyyyyyyyyyyyyyyyyyyyyyyyyyyyyyyyyyyyyyyyyyyyyyyyyyyyyyyyyyyyyyyyyyyyyyyyyyyyyyyyyyyyyyyyyyyyyyyyyyyyyyyyyyyyyyyyyyyyyyyyyyyyyyyyyyyyyyyyyyyyyyyyyyyyyyyyyyyyyyyyyyyyyyyyyyyyyyyyyyyyyyyyyyyyyyyyyyyyyyyyyyyyyyyyyyyyyyyyyyyyyyyyyyyyyyyyyyyyyyyyyyyyyyyyyyyyyyyyyyyyyyyyyyyyyyyyyyyyyyyyyyyyyyyyyyyyyyyyyyyyyyyyyyyyyyyyyyyyyyyyyyyyyyyyyyyyyyyyyyyyyyyyyyyyyyyyyyyyyyyyyyyyyyyyyyyyyyyyyyyyyyyyyyyyyyyyyyyyyyyyyyyyyyyyyyyyyyyyyyyyyyyyyyyyyyyyyyyyyyyyyyyyyyyyyyyyyyyyyyyyyyyyyyyyyyyyyyyyyyyyyyyyyyyyyyyyyyyyyyyyyyyyyyyyyyyyyyyyyyyyyyyyyyyyyyyyyyyyyyyyyyyyyyyyyyyyyyyyyyyyyyyyyyyyyyyyyyyyyyyyyyyyyyyyyyyyyyyyyyyyyyyyyyyyyyyyyyyyyyyyyyyyyyyyyyyyyyyyyyyyyyyyyyyyyyyyyyyyyyyyyyyyyyyyyyyyyyyyyyyyyyyyyyyyyyyyyyyyyyyyyyyyyyyyyyyyyyyyyyyyyyyyyyyyyyyyyyyyyyyyyyyyyyyyyyyyyyyyyyyyyyyyyyyyyyyyyyyyyyyyyyyyyyyyyyyyyyyyyyyyyyyyyyyyyyyyyyyyyyyyyyyyyyyyyyyyyyyyyyyyyyyyyyyyyyyyyyyyyyyyyyyyyyyyyyyyyyyyyyyyyyyyyyyyyyyyyyyyyyyyyyyyyyyyyyyyyyyyyyyyyyyyyyyyyyyyyyyyyyyyyyyyyyyyyyyyyyyyyyyyyyyyyyyyyyyyyyyyyyyyyyyyyyyyyyyyyyyyyyyyyyyyyyyyyyyyyyyyyyyyyyyyyyyyyyyyyyyyyyyyyyyyyyyyyyyyyyyyyyyyyyyyyyyyyyyyyyyyyyyyyyyyyyyyyyyyyyyeyyyyyyyyyyyyyyyyyyyyyyyyyyyyyyyyyyyyyyyyyyyyyyyyyyyyyyyyyyyyyyyyyyyyyyyyyyyyyyyyyyyyyyyyyyyyyyyyyyyyyyyyyyyyyyyyyyyyyyyyyyyyyyyyyyyyyyyyyyyyyyyyyyyyyyyyyyyyyyyyyyyyyyyyyyyyyyyyyyyyyyyyyyyyyyyyyyyyyyyyyyyyyyyyyyyyyyyyyyyyyyyyyyyyyyyyyyyyyyyyyyyyyyyyyyyyyyyyyyyyyyyyyyyyyyyyyyyyyyyyyyyyyyyyyyyyyyyyyyyyyyyyyyyyyyyyyyyyyyyyyyyyyyyyyyyyyyyyyyyyyyyyyyyyyyyyyyyyyyyyyyyyyyyyyyyyyyyyyyyyyyyyyyyyyyyyyyyyyyyyyyyyyyyyyyyyyyyyyyyyyyyyyyyyyyyyyyyyyyyyyyyyyyyyyyyyyyyyyyyyyyyyyyyyyyyy'\n",
    "solution = Solution()\n",
    "solution.isSubsequence(s,t)"
   ]
  },
  {
   "cell_type": "code",
   "execution_count": 4,
   "metadata": {
    "ExecuteTime": {
     "end_time": "2020-02-22T15:32:36.592810Z",
     "start_time": "2020-02-22T15:32:36.587825Z"
    }
   },
   "outputs": [
    {
     "data": {
      "text/plain": [
       "[]"
      ]
     },
     "execution_count": 4,
     "metadata": {},
     "output_type": "execute_result"
    }
   ],
   "source": [
    "a = [1]\n",
    "a[1:]"
   ]
  },
  {
   "cell_type": "code",
   "execution_count": null,
   "metadata": {},
   "outputs": [],
   "source": []
  },
  {
   "cell_type": "code",
   "execution_count": null,
   "metadata": {},
   "outputs": [],
   "source": []
  }
 ],
 "metadata": {
  "kernelspec": {
   "display_name": "Python 3",
   "language": "python",
   "name": "python3"
  },
  "language_info": {
   "codemirror_mode": {
    "name": "ipython",
    "version": 3
   },
   "file_extension": ".py",
   "mimetype": "text/x-python",
   "name": "python",
   "nbconvert_exporter": "python",
   "pygments_lexer": "ipython3",
   "version": "3.7.3"
  },
  "toc": {
   "base_numbering": 1,
   "nav_menu": {},
   "number_sections": true,
   "sideBar": true,
   "skip_h1_title": false,
   "title_cell": "Table of Contents",
   "title_sidebar": "Contents",
   "toc_cell": false,
   "toc_position": {},
   "toc_section_display": true,
   "toc_window_display": false
  },
  "varInspector": {
   "cols": {
    "lenName": 16,
    "lenType": 16,
    "lenVar": 40
   },
   "kernels_config": {
    "python": {
     "delete_cmd_postfix": "",
     "delete_cmd_prefix": "del ",
     "library": "var_list.py",
     "varRefreshCmd": "print(var_dic_list())"
    },
    "r": {
     "delete_cmd_postfix": ") ",
     "delete_cmd_prefix": "rm(",
     "library": "var_list.r",
     "varRefreshCmd": "cat(var_dic_list()) "
    }
   },
   "types_to_exclude": [
    "module",
    "function",
    "builtin_function_or_method",
    "instance",
    "_Feature"
   ],
   "window_display": false
  }
 },
 "nbformat": 4,
 "nbformat_minor": 2
}
