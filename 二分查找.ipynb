{
 "cells": [
  {
   "cell_type": "markdown",
   "metadata": {},
   "source": [
    "##### 学习概要\n",
    "###### 基础算法框架\n",
    "    - 多用于有序数组\n",
    "###### 寻找左侧边界的二分搜索\n",
    "###### 寻找右侧边界的二分搜索"
   ]
  },
  {
   "cell_type": "markdown",
   "metadata": {},
   "source": [
    "##### 基础算法框架\n",
    "    - 要求，找到arr中，是否存在数target，存在，返回索引，不存在，返回-1\n",
    "    - 过程：\n",
    "        - 搞两个指针left,right\n",
    "        - 取中间索引，mid = (left + right) // 2\n",
    "        - 比较arr[mid]和target\n",
    "        - 大于，right=mid\n",
    "        - 小于，left=mid\n",
    "        - 等于，返回mid"
   ]
  },
  {
   "cell_type": "code",
   "execution_count": 26,
   "metadata": {
    "ExecuteTime": {
     "end_time": "2020-03-29T09:35:24.237123Z",
     "start_time": "2020-03-29T09:35:24.225155Z"
    }
   },
   "outputs": [
    {
     "data": {
      "text/plain": [
       "3"
      ]
     },
     "execution_count": 26,
     "metadata": {},
     "output_type": "execute_result"
    }
   ],
   "source": [
    "def binary_search(arr,target):\n",
    "    left = 0\n",
    "    right = len(arr)-1\n",
    "    while left <= right:\n",
    "        mid = (left+right) // 2\n",
    "        if arr[mid] == target:\n",
    "            return mid\n",
    "        elif arr[mid] > target:\n",
    "            right = mid - 1\n",
    "        elif arr[mid] < target:\n",
    "            left = mid + 1\n",
    "    return -1\n",
    "\n",
    "binary_search([2,3,3,3,3,4,5,6],3)"
   ]
  },
  {
   "cell_type": "markdown",
   "metadata": {},
   "source": [
    "##### 寻找左侧边界的二分搜索\n",
    "    - arr=[2,3,3,3,3,4,5,6]，target=3，基础算法返回的3\n",
    "    - 要求：返回target对应的最左侧的索引，即1\n",
    "    - 过程：\n",
    "        - 参照“基础算法框架”\n",
    "        - 找到target = arr[mid]后，令right = mid，继续压缩左侧搜索空间，直到while终止\n",
    "        - 注意判断条件不能用left<=right，因为存在left==right，死循环了，所以right=len(arr)\n",
    "        - 注意right!=mid-1，因为right=len(arr)\n",
    "        - 判断arr[left] == target\n",
    "        - 相同，返回left\n",
    "        - 其他，返回-1"
   ]
  },
  {
   "cell_type": "code",
   "execution_count": 13,
   "metadata": {
    "ExecuteTime": {
     "end_time": "2020-03-29T09:24:20.970820Z",
     "start_time": "2020-03-29T09:24:20.962842Z"
    }
   },
   "outputs": [
    {
     "data": {
      "text/plain": [
       "1"
      ]
     },
     "execution_count": 13,
     "metadata": {},
     "output_type": "execute_result"
    }
   ],
   "source": [
    "def binary_left_search(arr,target):\n",
    "    left = 0\n",
    "    right = len(arr)\n",
    "    while left < right:\n",
    "        mid = (left + right) // 2\n",
    "        if arr[mid] == target:\n",
    "            right = mid\n",
    "        elif arr[mid] > target:\n",
    "            right = mid\n",
    "        elif arr[mid] < target:\n",
    "            left = mid + 1\n",
    "    return left if arr[left] == target else -1\n",
    "\n",
    "binary_left_search([2,3,3,3,3,4,5,6],3)"
   ]
  },
  {
   "cell_type": "markdown",
   "metadata": {},
   "source": [
    "##### 寻找右侧边界的二分搜索\n",
    "    - arr=[2,3,3,3,3,4,5,6]，target=3，基础算法返回的3\n",
    "    - 要求：返回target对应的最右侧的索引，即4\n",
    "    - 过程：\n",
    "        - 参照“基础算法框架”\n",
    "        - 找到target = arr[mid]后，left = mid+1，继续压缩左侧搜索空间，直到while终止\n",
    "        - 注意判断条件不能用left<=right，因为存在left==right，死循环了，所以right=len(arr)\n",
    "        - 注意arr[mid] == target时，left = mid + 1，而不是left = mid，为甚？因为原始的right==len(arr)\n",
    "        - 注意arr[mid] > target时，right = mid，为甚？因为原始的right==len(arr)\n",
    "        - 注意返回的是right-1，为甚？因为原始的right==len(arr)\n",
    "        - 判断arr[left] == target\n",
    "        - 相同，返回left\n",
    "        - 其他，返回-1"
   ]
  },
  {
   "cell_type": "code",
   "execution_count": 27,
   "metadata": {
    "ExecuteTime": {
     "end_time": "2020-03-29T09:36:23.278811Z",
     "start_time": "2020-03-29T09:36:23.268835Z"
    }
   },
   "outputs": [
    {
     "data": {
      "text/plain": [
       "4"
      ]
     },
     "execution_count": 27,
     "metadata": {},
     "output_type": "execute_result"
    }
   ],
   "source": [
    "def binary_right_search(arr,target):\n",
    "    left = 0\n",
    "    right = len(arr)\n",
    "    while left < right:\n",
    "        mid = (left + right) // 2\n",
    "        if arr[mid] == target:\n",
    "            left = mid + 1\n",
    "        elif arr[mid] > target:\n",
    "            right = mid\n",
    "        elif arr[mid] < target:\n",
    "            left = mid + 1\n",
    "    return right-1 if arr[right-1] == target else -1\n",
    "binary_right_search([2,3,3,3,3,4,5,6],3)"
   ]
  }
 ],
 "metadata": {
  "kernelspec": {
   "display_name": "Python [conda env:root] *",
   "language": "python",
   "name": "conda-root-py"
  },
  "language_info": {
   "codemirror_mode": {
    "name": "ipython",
    "version": 3
   },
   "file_extension": ".py",
   "mimetype": "text/x-python",
   "name": "python",
   "nbconvert_exporter": "python",
   "pygments_lexer": "ipython3",
   "version": "3.7.3"
  },
  "toc": {
   "base_numbering": 1,
   "nav_menu": {},
   "number_sections": true,
   "sideBar": true,
   "skip_h1_title": false,
   "title_cell": "Table of Contents",
   "title_sidebar": "Contents",
   "toc_cell": false,
   "toc_position": {},
   "toc_section_display": true,
   "toc_window_display": false
  },
  "varInspector": {
   "cols": {
    "lenName": 16,
    "lenType": 16,
    "lenVar": 40
   },
   "kernels_config": {
    "python": {
     "delete_cmd_postfix": "",
     "delete_cmd_prefix": "del ",
     "library": "var_list.py",
     "varRefreshCmd": "print(var_dic_list())"
    },
    "r": {
     "delete_cmd_postfix": ") ",
     "delete_cmd_prefix": "rm(",
     "library": "var_list.r",
     "varRefreshCmd": "cat(var_dic_list()) "
    }
   },
   "types_to_exclude": [
    "module",
    "function",
    "builtin_function_or_method",
    "instance",
    "_Feature"
   ],
   "window_display": false
  }
 },
 "nbformat": 4,
 "nbformat_minor": 2
}
