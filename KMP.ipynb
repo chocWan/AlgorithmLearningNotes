{
 "cells": [
  {
   "cell_type": "markdown",
   "metadata": {},
   "source": [
    "###### 学习概要\n",
    "1. 什么是KMP\n",
    "    - 一种字符串匹配的算法\n",
    "    - 约定pat为模式串，长度为M，txt为文本串，长度为N\n",
    "    - KMP算法的目的就是在txt中，找到是否有pat的字串，有，则返回开始索引，没有则返回-1\n",
    "2. 算法思想\n",
    "    - 基于pat，生成一个数组df\n",
    "    - 遍历txt匹配pat时，借助df，不走回头路，一遍到底\n",
    "3. 算法实现\n",
    "4. 算法应用\n",
    "5. 学习参阅"
   ]
  },
  {
   "cell_type": "markdown",
   "metadata": {},
   "source": [
    "###### KMP算法实现"
   ]
  },
  {
   "cell_type": "code",
   "execution_count": 21,
   "metadata": {
    "ExecuteTime": {
     "end_time": "2020-03-17T15:25:34.257736Z",
     "start_time": "2020-03-17T15:25:34.242776Z"
    }
   },
   "outputs": [
    {
     "data": {
      "text/plain": [
       "2"
      ]
     },
     "execution_count": 21,
     "metadata": {},
     "output_type": "execute_result"
    }
   ],
   "source": [
    "class KMP():\n",
    "    def __init__(self,pat):\n",
    "        self.pat = pat\n",
    "        self.M = len(pat)\n",
    "        #dp[3][ord('a')] = 4 代表当前状态为3，当前要匹配的字母为‘a’，下一状态为4\n",
    "        self.dp = self.get_pnext()\n",
    "    def get_pnext(self):\n",
    "        dp = [[0 for i in range(256)] for j in range(self.M)]\n",
    "        X = 0\n",
    "        dp[0][ord(self.pat[0])] = 1\n",
    "        for j in range(1,self.M):\n",
    "            for c in range(0,256):\n",
    "                dp[j][c] = dp[X][c]\n",
    "            dp[j][ord(self.pat[j])] = j+1\n",
    "            X = dp[j][ord(self.pat[j])]\n",
    "        return dp\n",
    "    def search(self,txt):\n",
    "        N = len(txt)\n",
    "        j = 0\n",
    "        for i in range(N):\n",
    "            j = self.dp[j][ord(txt[i])]\n",
    "            if j == self.M:\n",
    "                return i - self.M + 1\n",
    "        return -1\n",
    "    \n",
    "kmp = KMP(\"ABABA\")\n",
    "kmp.search(\"ACABABA\")"
   ]
  },
  {
   "cell_type": "markdown",
   "metadata": {},
   "source": [
    "######  算法应用"
   ]
  },
  {
   "cell_type": "code",
   "execution_count": null,
   "metadata": {},
   "outputs": [],
   "source": []
  },
  {
   "cell_type": "code",
   "execution_count": null,
   "metadata": {},
   "outputs": [],
   "source": []
  },
  {
   "cell_type": "code",
   "execution_count": null,
   "metadata": {},
   "outputs": [],
   "source": []
  },
  {
   "cell_type": "code",
   "execution_count": null,
   "metadata": {},
   "outputs": [],
   "source": []
  },
  {
   "cell_type": "code",
   "execution_count": null,
   "metadata": {},
   "outputs": [],
   "source": []
  },
  {
   "cell_type": "code",
   "execution_count": null,
   "metadata": {},
   "outputs": [],
   "source": []
  },
  {
   "cell_type": "code",
   "execution_count": null,
   "metadata": {},
   "outputs": [],
   "source": []
  },
  {
   "cell_type": "code",
   "execution_count": null,
   "metadata": {},
   "outputs": [],
   "source": []
  }
 ],
 "metadata": {
  "kernelspec": {
   "display_name": "Python [conda env:root] *",
   "language": "python",
   "name": "conda-root-py"
  },
  "language_info": {
   "codemirror_mode": {
    "name": "ipython",
    "version": 3
   },
   "file_extension": ".py",
   "mimetype": "text/x-python",
   "name": "python",
   "nbconvert_exporter": "python",
   "pygments_lexer": "ipython3",
   "version": "3.7.3"
  },
  "toc": {
   "base_numbering": 1,
   "nav_menu": {},
   "number_sections": true,
   "sideBar": true,
   "skip_h1_title": false,
   "title_cell": "Table of Contents",
   "title_sidebar": "Contents",
   "toc_cell": false,
   "toc_position": {},
   "toc_section_display": true,
   "toc_window_display": false
  },
  "varInspector": {
   "cols": {
    "lenName": 16,
    "lenType": 16,
    "lenVar": 40
   },
   "kernels_config": {
    "python": {
     "delete_cmd_postfix": "",
     "delete_cmd_prefix": "del ",
     "library": "var_list.py",
     "varRefreshCmd": "print(var_dic_list())"
    },
    "r": {
     "delete_cmd_postfix": ") ",
     "delete_cmd_prefix": "rm(",
     "library": "var_list.r",
     "varRefreshCmd": "cat(var_dic_list()) "
    }
   },
   "types_to_exclude": [
    "module",
    "function",
    "builtin_function_or_method",
    "instance",
    "_Feature"
   ],
   "window_display": false
  }
 },
 "nbformat": 4,
 "nbformat_minor": 2
}
