{
 "cells": [
  {
   "cell_type": "markdown",
   "metadata": {},
   "source": [
    "什么是算法\n",
    "  简而言之，利用计算机处理问题的方法。具体一点，算法是由控制结构（分支，循环，顺序）和原操作（一些数据类型的操作）两部分组成。\n",
    "什么是算法的时间复杂度和空间复杂度\n",
    "  是方法就有优劣，如干了多久，用了多少资源。算法的优劣的从时间和空间两个指标进行评估；\n",
    "  时间复杂度：这里并非指实际耗用的时间，因为，同一算法在不同性能的机器上运行，时间会有不同。实指汇编指令的条数\n",
    "  空间复杂度：占用内存空间的字节数\n",
    "如何表示算法的时间复杂度和空间复杂度\n",
    "  使用大O记号，表示最坏情况下的时空复杂度，忽略低阶幂和高阶幂的系数\n",
    "  主要看随着数据量的增大，时间和空间的变化情况"
   ]
  },
  {
   "cell_type": "code",
   "execution_count": null,
   "metadata": {},
   "outputs": [],
   "source": [
    "#常见的时间复杂度：O(1)<O(log2n)<O(n)<O(nlogn)<O(n^2)<O(n^3)<…<O(2^n)<O(n!)\n",
    "# O(1):基本语句执行的数量是一个常数，一般没有循环的话就是O(1)\n",
    "#   O(log2n)-O(n^3):多项式时间\n",
    "#   O(2^n)-O(n!):指数时间\n",
    "\n",
    "def O1():\n",
    "    a = 0;\n",
    "    #此处省略一万行代码\n",
    "    return a\n",
    "def Olog2n():\n",
    "    n = float('inf')\n",
    "    while(i<n):\n",
    "        i = i*2\n",
    "    return i\n",
    "def On():\n",
    "    n = float('inf')\n",
    "    for i in range(n):\n",
    "        a = 0\n",
    "        #此处省略一万行代码\n",
    "    return n\n",
    "def Onlog2n():\n",
    "    n = float('inf')\n",
    "    for i in range(n):\n",
    "        j = 0\n",
    "        while(j<i):\n",
    "            j = j*2\n",
    "    return n\n",
    "def On**2():\n",
    "    n = float('inf')\n",
    "    for i in range(n):\n",
    "        for j in range(i):\n",
    "            a = 0\n",
    "    return n\n",
    "def On**3():\n",
    "    n = float('inf')\n",
    "    for i in range(n):\n",
    "        for j in range(i):\n",
    "            for k in range(j):\n",
    "                a = 0\n",
    "    return n\n",
    "def O2**n():\n",
    "    n = float('inf')\n",
    "    "
   ]
  },
  {
   "cell_type": "markdown",
   "metadata": {},
   "source": [
    "如何分析算法的时间复杂度\n",
    "  具体步骤：\n",
    "    找出算法的基础语句：执行最多的语句，一般是循环或递归里面的\n",
    "    计算基础语句的数量级：只取最高幂，忽略低阶幂和高阶幂的系数，关注增长率\n",
    "    将数量级放入大O中"
   ]
  },
  {
   "cell_type": "markdown",
   "metadata": {},
   "source": [
    "如何分析算法的空间复杂度\n",
    "  具体步骤：\n",
    "    "
   ]
  },
  {
   "cell_type": "code",
   "execution_count": null,
   "metadata": {},
   "outputs": [],
   "source": []
  },
  {
   "cell_type": "code",
   "execution_count": null,
   "metadata": {},
   "outputs": [],
   "source": []
  },
  {
   "cell_type": "code",
   "execution_count": null,
   "metadata": {},
   "outputs": [],
   "source": []
  },
  {
   "cell_type": "code",
   "execution_count": null,
   "metadata": {},
   "outputs": [],
   "source": []
  },
  {
   "cell_type": "code",
   "execution_count": null,
   "metadata": {},
   "outputs": [],
   "source": []
  },
  {
   "cell_type": "code",
   "execution_count": null,
   "metadata": {},
   "outputs": [],
   "source": []
  },
  {
   "cell_type": "code",
   "execution_count": null,
   "metadata": {},
   "outputs": [],
   "source": []
  },
  {
   "cell_type": "code",
   "execution_count": null,
   "metadata": {},
   "outputs": [],
   "source": []
  },
  {
   "cell_type": "code",
   "execution_count": null,
   "metadata": {},
   "outputs": [],
   "source": []
  },
  {
   "cell_type": "code",
   "execution_count": null,
   "metadata": {},
   "outputs": [],
   "source": []
  },
  {
   "cell_type": "code",
   "execution_count": null,
   "metadata": {},
   "outputs": [],
   "source": []
  },
  {
   "cell_type": "code",
   "execution_count": null,
   "metadata": {},
   "outputs": [],
   "source": []
  },
  {
   "cell_type": "code",
   "execution_count": null,
   "metadata": {},
   "outputs": [],
   "source": []
  },
  {
   "cell_type": "code",
   "execution_count": null,
   "metadata": {},
   "outputs": [],
   "source": []
  },
  {
   "cell_type": "code",
   "execution_count": null,
   "metadata": {},
   "outputs": [],
   "source": []
  },
  {
   "cell_type": "code",
   "execution_count": null,
   "metadata": {},
   "outputs": [],
   "source": []
  },
  {
   "cell_type": "code",
   "execution_count": null,
   "metadata": {},
   "outputs": [],
   "source": []
  },
  {
   "cell_type": "code",
   "execution_count": null,
   "metadata": {},
   "outputs": [],
   "source": []
  },
  {
   "cell_type": "code",
   "execution_count": null,
   "metadata": {},
   "outputs": [],
   "source": []
  },
  {
   "cell_type": "code",
   "execution_count": null,
   "metadata": {},
   "outputs": [],
   "source": []
  },
  {
   "cell_type": "code",
   "execution_count": null,
   "metadata": {},
   "outputs": [],
   "source": []
  },
  {
   "cell_type": "code",
   "execution_count": null,
   "metadata": {},
   "outputs": [],
   "source": []
  }
 ],
 "metadata": {
  "kernelspec": {
   "display_name": "Python [conda env:root] *",
   "language": "python",
   "name": "conda-root-py"
  },
  "language_info": {
   "codemirror_mode": {
    "name": "ipython",
    "version": 3
   },
   "file_extension": ".py",
   "mimetype": "text/x-python",
   "name": "python",
   "nbconvert_exporter": "python",
   "pygments_lexer": "ipython3",
   "version": "3.7.3"
  },
  "varInspector": {
   "cols": {
    "lenName": 16,
    "lenType": 16,
    "lenVar": 40
   },
   "kernels_config": {
    "python": {
     "delete_cmd_postfix": "",
     "delete_cmd_prefix": "del ",
     "library": "var_list.py",
     "varRefreshCmd": "print(var_dic_list())"
    },
    "r": {
     "delete_cmd_postfix": ") ",
     "delete_cmd_prefix": "rm(",
     "library": "var_list.r",
     "varRefreshCmd": "cat(var_dic_list()) "
    }
   },
   "types_to_exclude": [
    "module",
    "function",
    "builtin_function_or_method",
    "instance",
    "_Feature"
   ],
   "window_display": false
  }
 },
 "nbformat": 4,
 "nbformat_minor": 2
}