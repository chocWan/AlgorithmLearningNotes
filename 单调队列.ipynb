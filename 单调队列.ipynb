{
 "nbformat": 4,
 "nbformat_minor": 2,
 "metadata": {
  "language_info": {
   "name": "python",
   "codemirror_mode": {
    "name": "ipython",
    "version": 3
   },
   "version": "3.7.3-final"
  },
  "orig_nbformat": 2,
  "file_extension": ".py",
  "mimetype": "text/x-python",
  "name": "python",
  "npconvert_exporter": "python",
  "pygments_lexer": "ipython3",
  "version": 3,
  "kernelspec": {
   "name": "python3",
   "display_name": "Python 3"
  }
 },
 "cells": [
  {
   "cell_type": "markdown",
   "metadata": {},
   "source": [
    "1. 什么是单调队列\n",
    "    - 队列中的元素递增或递减\n",
    "2. 算法思想\n",
    "    - 队列还是普通的队列\n",
    "    - 每次push的时候，把队列中小的元素删除；一定要明确这一点，并非存储所有的元素\n",
    "    - 算法实现\n",
    "3. 算法实战"
   ]
  },
  {
   "cell_type": "code",
   "execution_count": 12,
   "metadata": {},
   "outputs": [
    {
     "name": "stdout",
     "output_type": "stream",
     "text": "[1]\n[3]\n[3, 2]\n[4]\n4\n"
    }
   ],
   "source": [
    "#算法实现\n",
    "class Max_queue():\n",
    "    def __init__(self):\n",
    "        #递减的队列\n",
    "        self.q = []\n",
    "    #每次push的时候，把队列中，小于当前元素的值删除\n",
    "    def push(self,val):\n",
    "        while self.q and self.q[len(self.q)-1] < val:\n",
    "            self.q.pop()\n",
    "        self.q.append(val)\n",
    "    #弹出首元素时，只需要判断是否为最大的元素\n",
    "    def pop(self,val):\n",
    "        if self.q and self.q[0] == n:\n",
    "            self.q.pop(0)\n",
    "    def max(self):\n",
    "        return self.q[0] if self.q else -1\n",
    "\n",
    "mq = Max_queue()\n",
    "mq.push(1)\n",
    "print(mq.q)\n",
    "mq.push(3)\n",
    "print(mq.q)\n",
    "mq.push(2)\n",
    "print(mq.q)\n",
    "mq.push(4)\n",
    "print(mq.q)\n",
    "print(mq.max())"
   ]
  },
  {
   "cell_type": "markdown",
   "metadata": {},
   "source": [
    "- 算法实战 滑动窗口最大值 力扣239\n",
    "给定一个数组 nums，有一个大小为 k 的滑动窗口从数组的最左侧移动到数组的最右侧。你只可以看到在滑动窗口内的 k 个数字。滑动窗口每次只向右移动一位。\n",
    "\n",
    "返回滑动窗口中的最大值。\n",
    "\n",
    " \n",
    "\n",
    "示例:\n",
    "\n",
    "输入: nums = [1,3,-1,-3,5,3,6,7], 和 k = 3\n",
    "输出: [3,3,5,5,6,7] \n",
    "解释: \n",
    "\n",
    "  滑动窗口的位置                最大值\n",
    "---------------               -----\n",
    "[1  3  -1] -3  5  3  6  7       3\n",
    " 1 [3  -1  -3] 5  3  6  7       3\n",
    " 1  3 [-1  -3  5] 3  6  7       5\n",
    " 1  3  -1 [-3  5  3] 6  7       5\n",
    " 1  3  -1  -3 [5  3  6] 7       6\n",
    " 1  3  -1  -3  5 [3  6  7]      7\n",
    "\n",
    "提示：\n",
    "\n",
    "你可以假设 k 总是有效的，在输入数组不为空的情况下，1 ≤ k ≤ 输入数组的大小。\n"
   ]
  },
  {
   "cell_type": "code",
   "execution_count": 19,
   "metadata": {},
   "outputs": [],
   "source": [
    "from typing import List"
   ]
  },
  {
   "cell_type": "code",
   "execution_count": 23,
   "metadata": {},
   "outputs": [
    {
     "name": "stdout",
     "output_type": "stream",
     "text": "-1\n-3\n5\n3\n6\n7\n"
    },
    {
     "data": {
      "text/plain": "[3, 3, 5, 5, 6, 7]"
     },
     "execution_count": 23,
     "metadata": {},
     "output_type": "execute_result"
    }
   ],
   "source": [
    "\n",
    "class Max_queue():\n",
    "    def __init__(self):\n",
    "        #递减的队列\n",
    "        self.q = []\n",
    "    #每次push的时候，把队列中，小于当前元素的值删除\n",
    "    def push(self,val):\n",
    "        while self.q and self.q[len(self.q)-1] < val:\n",
    "            self.q.pop()\n",
    "        self.q.append(val)\n",
    "    #弹出首元素时，只需要判断是否为最大的元素\n",
    "    def pop(self,val):\n",
    "        if self.q and self.q[0] == val:\n",
    "            self.q.pop(0)\n",
    "    def max(self):\n",
    "        return self.q[0] if self.q else -1\n",
    "\n",
    "class Solution:\n",
    "    def maxSlidingWindow(self, nums: List[int], k: int) -> List[int]:\n",
    "        mq = Max_queue()\n",
    "        res = []\n",
    "        for i in range(len(nums)):\n",
    "            #前k个元素\n",
    "            if i < k-1:\n",
    "                mq.push(nums[i])\n",
    "            #向后滑动\n",
    "            else:\n",
    "                mq.push(nums[i])\n",
    "                res.append(mq.max())\n",
    "                #删除滑出滑窗的元素，[1,2,3,4]:[1,2,3]->[2,3,4]，mq中要删除1\n",
    "                mq.pop(nums[i-(k-1)])\n",
    "        return res\n",
    "\n",
    "s = Solution()\n",
    "nums = [1,3,-1,-3,5,3,6,7]\n",
    "k = 3\n",
    "s.maxSlidingWindow(nums,k)"
   ]
  },
  {
   "cell_type": "code",
   "execution_count": null,
   "metadata": {},
   "outputs": [],
   "source": []
  },
  {
   "cell_type": "code",
   "execution_count": null,
   "metadata": {},
   "outputs": [],
   "source": []
  },
  {
   "cell_type": "code",
   "execution_count": null,
   "metadata": {},
   "outputs": [],
   "source": []
  },
  {
   "cell_type": "code",
   "execution_count": null,
   "metadata": {},
   "outputs": [],
   "source": []
  },
  {
   "cell_type": "code",
   "execution_count": null,
   "metadata": {},
   "outputs": [],
   "source": []
  },
  {
   "cell_type": "code",
   "execution_count": null,
   "metadata": {},
   "outputs": [],
   "source": []
  },
  {
   "cell_type": "code",
   "execution_count": null,
   "metadata": {},
   "outputs": [],
   "source": []
  },
  {
   "cell_type": "code",
   "execution_count": null,
   "metadata": {},
   "outputs": [],
   "source": []
  },
  {
   "cell_type": "code",
   "execution_count": null,
   "metadata": {},
   "outputs": [],
   "source": []
  },
  {
   "cell_type": "code",
   "execution_count": null,
   "metadata": {},
   "outputs": [],
   "source": []
  },
  {
   "cell_type": "code",
   "execution_count": null,
   "metadata": {},
   "outputs": [],
   "source": []
  },
  {
   "cell_type": "code",
   "execution_count": null,
   "metadata": {},
   "outputs": [],
   "source": []
  }
 ]
}