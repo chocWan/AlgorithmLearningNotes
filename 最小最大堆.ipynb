{
 "cells": [
  {
   "cell_type": "markdown",
   "metadata": {},
   "source": [
    "##### 学习概要\n",
    "###### 什么是最小最大堆\n",
    "    - 最小最大堆，本质是二叉堆\n",
    "    - 二叉堆就是个堆嘛\n",
    "    - 堆是一类特殊的树，堆的通用特点就是父节点会大于或小于所有子节点\n",
    "    - 树是啥？任意两点，只有一条连线，没有回路，即所谓的无向图\n",
    "    - 最小最大堆是一个完全二叉树，堆总某个节点的值，总是小于/大于子节点的值\n",
    "    - 堆中，每个子树，也都符合堆的性质\n",
    "###### 如果构造最小最大堆\n",
    "###### 算法实战\n",
    "    - 海量数据topK问题\n",
    "    - 设计Twitter"
   ]
  },
  {
   "cell_type": "markdown",
   "metadata": {},
   "source": [
    "##### 构造最小/最大堆"
   ]
  },
  {
   "cell_type": "code",
   "execution_count": 4,
   "metadata": {
    "ExecuteTime": {
     "end_time": "2020-03-18T13:02:43.187101Z",
     "start_time": "2020-03-18T13:02:43.175132Z"
    }
   },
   "outputs": [
    {
     "name": "stdout",
     "output_type": "stream",
     "text": [
      "[1, 2, 3, 5, 4, 6, 7, 8, 9, 10]\n"
     ]
    }
   ],
   "source": [
    "#构造最小/最大堆 递归\n",
    "arr = [7,5,3,9,4,6,1,8,2,10]\n",
    "def heap_adjust(arr,arr_size,i):\n",
    "    _i ,left ,right = i ,2*i+1 ,2*i+2\n",
    "    if left < arr_size and arr[left] < arr[_i]:\n",
    "        _i = left\n",
    "    if right < arr_size and arr[right] < arr[_i]:\n",
    "        _i = right\n",
    "    if _i != i:\n",
    "        arr[i] ,arr[_i] = arr[_i] ,arr[i]\n",
    "        heap_adjust(arr,arr_size,_i)\n",
    "\n",
    "def heapify_min(arr):\n",
    "    arr_size = len(arr)\n",
    "    for i in range(arr_size // 2, -1 ,-1):\n",
    "        heap_adjust(arr,arr_size,i)\n",
    "    return arr\n",
    "print(heapify_min(arr))"
   ]
  },
  {
   "cell_type": "code",
   "execution_count": 3,
   "metadata": {
    "ExecuteTime": {
     "end_time": "2020-03-18T13:02:09.165920Z",
     "start_time": "2020-03-18T13:02:09.154947Z"
    }
   },
   "outputs": [
    {
     "name": "stdout",
     "output_type": "stream",
     "text": [
      "[1, 2, 3, 5, 4, 6, 7, 8, 9, 10]\n"
     ]
    }
   ],
   "source": [
    "#构造最小/最大堆 非递归\n",
    "arr = [7,5,3,9,4,6,1,8,2,10]\n",
    "def heapify_min(arr):\n",
    "    arr_size = len(arr)\n",
    "    #下到上，右到左，每个根元素与左右子元素对比\n",
    "    #遍历每一层\n",
    "    for i in range(arr_size//2,-1,-1):\n",
    "        while i < arr_size:\n",
    "            #当前临时根节点、左节点、右节点的索引\n",
    "            _i , left , right = i , 2*i+1 , 2*i+2\n",
    "            #与当前根节点的做引进行对比，小于则交换\n",
    "            if left < arr_size and arr[left] < arr[_i]:\n",
    "                _i = left\n",
    "            if right < arr_size and arr[right] < arr[_i]:\n",
    "                _i = right\n",
    "            #临时根节点与根节点不一致，则需要调换，并需要重新调整_i所在的节点\n",
    "            if _i != i:\n",
    "                arr[i],arr[_i] = arr[_i],arr[i]\n",
    "                i = _i\n",
    "            else:\n",
    "                break\n",
    "    return arr\n",
    "                \n",
    "print(heapify_min(arr))                "
   ]
  },
  {
   "cell_type": "markdown",
   "metadata": {},
   "source": [
    "##### python 自带堆化方法"
   ]
  },
  {
   "cell_type": "code",
   "execution_count": 5,
   "metadata": {
    "ExecuteTime": {
     "end_time": "2020-03-18T13:04:00.572765Z",
     "start_time": "2020-03-18T13:04:00.564824Z"
    }
   },
   "outputs": [
    {
     "name": "stdout",
     "output_type": "stream",
     "text": [
      "[1, 2, 3, 4, 7, 6, 5, 9, 8, 10]\n",
      "1\n",
      "[2, 4, 3, 8, 7, 6, 5, 9, 10]\n",
      "[1, 2, 3, 8, 4, 6, 5, 9, 10, 7]\n"
     ]
    }
   ],
   "source": [
    "import heapq\n",
    "heap = []\n",
    "arr = [7,5,3,9,4,6,1,8,2,10]\n",
    "#heapq.heappush 生成最小堆\n",
    "for i in arr:\n",
    "    heapq.heappush(heap,i)\n",
    "print(heap)\n",
    "#heapq.heappop()弹出堆中的最小元素，保持堆不变\n",
    "pop_item = heapq.heappop(heap)\n",
    "print(pop_item)\n",
    "print(heap)\n",
    "heapq.heappush(heap,pop_item)\n",
    "print(heap)"
   ]
  },
  {
   "cell_type": "code",
   "execution_count": 6,
   "metadata": {
    "ExecuteTime": {
     "end_time": "2020-03-18T13:04:18.208941Z",
     "start_time": "2020-03-18T13:04:18.198961Z"
    }
   },
   "outputs": [
    {
     "data": {
      "text/plain": [
       "[1, 2, 3, 5, 4, 6, 7, 8, 9, 10]"
      ]
     },
     "execution_count": 6,
     "metadata": {},
     "output_type": "execute_result"
    }
   ],
   "source": [
    "#heapq.heapify\n",
    "heapq.heapify(arr)\n",
    "arr"
   ]
  },
  {
   "cell_type": "markdown",
   "metadata": {},
   "source": [
    "##### 海量数据topK问题 最小堆方法\n",
    "- 最小堆方法 算法复杂度O(nlogK)，n为数据量，K为topK的值\n",
    "- 快速排序，需要读入所有数据，内存是个问题，复杂度为nlogn\n",
    "- 分治法，将n拆分为n//K，每个中取topK"
   ]
  },
  {
   "cell_type": "code",
   "execution_count": 9,
   "metadata": {
    "ExecuteTime": {
     "end_time": "2020-03-20T01:38:04.420710Z",
     "start_time": "2020-03-20T01:38:04.410736Z"
    }
   },
   "outputs": [
    {
     "name": "stdout",
     "output_type": "stream",
     "text": [
      "[7, 5, 3]\n",
      "[3, 5, 7]\n",
      "[8, 9, 10]\n"
     ]
    }
   ],
   "source": [
    "import heapq\n",
    "arr = [7,5,3,9,4,6,1,8,2,10]\n",
    "topK = 3\n",
    "arr_topK = arr[:topK]\n",
    "print(arr_topK)\n",
    "#先根据arr_topK建立最小堆 这里使用python内置的函数，同上述的heapify_min\n",
    "heapq.heapify(arr_topK)\n",
    "print(arr_topK)\n",
    "#大于堆顶的元素，入堆进行调整\n",
    "for i in arr[topK:]:\n",
    "    if i > arr_topK[0]:\n",
    "        arr_topK[0] = i\n",
    "    heapq.heapify(arr_topK)\n",
    "print(arr_topK)"
   ]
  },
  {
   "cell_type": "markdown",
   "metadata": {},
   "source": [
    "##### 设计Twitter\n",
    "- 题目背景：\n",
    "    - Twitter twitter = new Twitter();\n",
    "    - twitter.postTweet(1, 5);\n",
    "    - // ⽤户 1 发送了⼀条新推⽂ 5\n",
    "    - twitter.getNewsFeed(1);\n",
    "    - // return [5]， 因为⾃ ⼰是关注⾃ ⼰的\n",
    "    - twitter.follow(1, 2);\n",
    "    - // ⽤户 1 关注了⽤户 2\n",
    "    - twitter.postTweet(2, 6);\n",
    "    - // ⽤户2发送了⼀个新推⽂ (id = 6)\n",
    "    - twitter.getNewsFeed(1);\n",
    "    - // return [6, 5]\n",
    "    - // 解释： ⽤户 1 关注了⾃ ⼰和⽤户 2， 所以返回他们的最近推⽂\n",
    "    - // ⽽且 6 必须在 5 之前， 因为 6 是最近发送的\n",
    "    - twitter.unfollow(1, 2);\n",
    "    - // ⽤户 1 取消关注了⽤户 2\n",
    "    - twitter.getNewsFeed(1);\n",
    "    - // return [5]\n",
    "- 设计思路：有序链表+优先队列"
   ]
  },
  {
   "cell_type": "code",
   "execution_count": 2,
   "metadata": {
    "ExecuteTime": {
     "end_time": "2020-03-26T10:19:37.243471Z",
     "start_time": "2020-03-26T10:19:37.239486Z"
    }
   },
   "outputs": [],
   "source": [
    "import datetime\n",
    "import time\n",
    "import queue as Q"
   ]
  },
  {
   "cell_type": "code",
   "execution_count": 13,
   "metadata": {
    "ExecuteTime": {
     "end_time": "2020-03-26T13:41:04.122686Z",
     "start_time": "2020-03-26T13:41:04.100704Z"
    },
    "code_folding": [
     12,
     38,
     47,
     53,
     71
    ]
   },
   "outputs": [],
   "source": [
    "class Twitter():\n",
    "    def __init__(self):\n",
    "        self.users = dict()\n",
    "        \n",
    "    #user 发表⼀条 tweet 动态\n",
    "    def post_tweet(self,user_id,tweet_id,tweet_content):\n",
    "        if user_id not in self.users:\n",
    "            self.users[user_id] = User(user_id)\n",
    "        user = self.users[user_id]\n",
    "        user.post_tweet(tweet_id,tweet_content)\n",
    "        \n",
    "    #返回该 user 关注的⼈（包括他⾃⼰） 最近的动态 id，最多 10 条， ⽽且这些动态必须按从新到旧的时间线顺序排列。\n",
    "    def get_new_feed(self,user_id):\n",
    "        res = []\n",
    "        #没有此用户，直接返回\n",
    "        if user_id not in self.users:\n",
    "            return res\n",
    "        #找到该用户的粉丝用户\n",
    "        users = self.users[user_id].followed\n",
    "        #优先级队列，注意此处不要设置优先队列的长度\n",
    "        q = Q.PriorityQueue()\n",
    "        for u in users:\n",
    "            tweet = u.tweet_head\n",
    "            if not tweet:continue\n",
    "            #根据推文的时间戳的相反数作为优先级，值越小，越在前\n",
    "            q.put((0-tweet.time,tweet))\n",
    "        while not q.empty():\n",
    "            if len(res) == 10:break\n",
    "            #取出队首的推文\n",
    "            t = q.get()\n",
    "            res.append(t.id)\n",
    "            #如果队首推文有下个节点，加入到优先队列排序\n",
    "            if not t.next:\n",
    "                q.put((0-t.next.time,t.next))\n",
    "        return res\n",
    "    \n",
    "    #follower 关注 followee， 如果 Id 不存在则新建\n",
    "    def follow(self,follower_id,followee_id):\n",
    "        if follower_id not in self.users:\n",
    "            self.users[follower_id] = User(follower_id)\n",
    "        if followee_id not in self.users:\n",
    "            self.users[followee_id] = User(followee_id)\n",
    "        user = self.users[follower_id]\n",
    "        user.follow(followee_id)\n",
    "        \n",
    "    #follower 取关 followee， 如果 Id 不存在则什么都不做\n",
    "    def unfollow(self,follower_id,followee_id):\n",
    "        if follower_id not in self.users or followee_id not in self.users:\n",
    "            return\n",
    "        user = self.users[follower_id]\n",
    "        user.unfollow(followee_id)\n",
    "    \n",
    "class User():\n",
    "    def __init__(self,uid):\n",
    "        self.uid = uid\n",
    "        self.followed = set()\n",
    "        self.tweet_head = None\n",
    "        self.follow(uid)\n",
    "        \n",
    "    def post_tweet(self,tweet_id,tweet_content):\n",
    "        tweet = Tweet(tweet_id,tweet_content)\n",
    "        tweet.next,self.tweet_head = self.tweet_head,tweet.next\n",
    "    \n",
    "    def follow(self,user_id):\n",
    "        self.followed.add(user_id)\n",
    "        \n",
    "    def unfollow(self,user_id):\n",
    "        if user_id != self.uid:\n",
    "            self.followed.remove(user_id)\n",
    "    \n",
    "class Tweet():\n",
    "    def __init__(self,tid,content):\n",
    "        self.id = tid\n",
    "        self.content = content\n",
    "        self.time = time.time()\n",
    "        self.next = None\n",
    "\n",
    "        \n"
   ]
  },
  {
   "cell_type": "code",
   "execution_count": 9,
   "metadata": {
    "ExecuteTime": {
     "end_time": "2020-03-26T13:35:53.587467Z",
     "start_time": "2020-03-26T13:35:53.579524Z"
    }
   },
   "outputs": [
    {
     "name": "stdout",
     "output_type": "stream",
     "text": [
      "True\n",
      "(-1, 'c')\n",
      "(10.1, 'a')\n",
      "(10.2, 'v')\n"
     ]
    }
   ],
   "source": [
    "q = Q.PriorityQueue(3)\n",
    "q.put((10.1,'a'))\n",
    "q.put((-1,'c'))\n",
    "q.put((10.2,'v'))\n",
    "print(q.full())\n",
    "while not q.empty():\n",
    "    print(q.get())"
   ]
  },
  {
   "cell_type": "code",
   "execution_count": null,
   "metadata": {},
   "outputs": [],
   "source": []
  },
  {
   "cell_type": "code",
   "execution_count": null,
   "metadata": {},
   "outputs": [],
   "source": []
  },
  {
   "cell_type": "code",
   "execution_count": null,
   "metadata": {},
   "outputs": [],
   "source": []
  },
  {
   "cell_type": "code",
   "execution_count": null,
   "metadata": {},
   "outputs": [],
   "source": []
  },
  {
   "cell_type": "code",
   "execution_count": null,
   "metadata": {},
   "outputs": [],
   "source": []
  },
  {
   "cell_type": "code",
   "execution_count": null,
   "metadata": {},
   "outputs": [],
   "source": []
  },
  {
   "cell_type": "code",
   "execution_count": null,
   "metadata": {},
   "outputs": [],
   "source": []
  }
 ],
 "metadata": {
  "kernelspec": {
   "display_name": "Python [conda env:root] *",
   "language": "python",
   "name": "conda-root-py"
  },
  "language_info": {
   "codemirror_mode": {
    "name": "ipython",
    "version": 3
   },
   "file_extension": ".py",
   "mimetype": "text/x-python",
   "name": "python",
   "nbconvert_exporter": "python",
   "pygments_lexer": "ipython3",
   "version": "3.7.3"
  },
  "toc": {
   "base_numbering": 1,
   "nav_menu": {},
   "number_sections": true,
   "sideBar": true,
   "skip_h1_title": false,
   "title_cell": "Table of Contents",
   "title_sidebar": "Contents",
   "toc_cell": false,
   "toc_position": {},
   "toc_section_display": true,
   "toc_window_display": false
  },
  "varInspector": {
   "cols": {
    "lenName": 16,
    "lenType": 16,
    "lenVar": 40
   },
   "kernels_config": {
    "python": {
     "delete_cmd_postfix": "",
     "delete_cmd_prefix": "del ",
     "library": "var_list.py",
     "varRefreshCmd": "print(var_dic_list())"
    },
    "r": {
     "delete_cmd_postfix": ") ",
     "delete_cmd_prefix": "rm(",
     "library": "var_list.r",
     "varRefreshCmd": "cat(var_dic_list()) "
    }
   },
   "types_to_exclude": [
    "module",
    "function",
    "builtin_function_or_method",
    "instance",
    "_Feature"
   ],
   "window_display": false
  }
 },
 "nbformat": 4,
 "nbformat_minor": 2
}
