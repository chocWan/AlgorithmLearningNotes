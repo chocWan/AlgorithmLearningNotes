{
 "cells": [
  {
   "cell_type": "markdown",
   "metadata": {},
   "source": [
    "##### 学习概要\n",
    "###### 是什么\n",
    "    - 就是一个多叉树的遍历\n",
    "    - 算法框架\n",
    "###### 适用场景\n",
    "###### 算法思想\n",
    "###### 算法实战\n",
    "    - 全排列\n",
    "    - n皇后"
   ]
  },
  {
   "cell_type": "markdown",
   "metadata": {},
   "source": [
    "##### 回溯算法框架"
   ]
  },
  {
   "cell_type": "code",
   "execution_count": 2,
   "metadata": {
    "ExecuteTime": {
     "end_time": "2020-03-29T08:41:35.943341Z",
     "start_time": "2020-03-29T08:41:35.939352Z"
    },
    "scrolled": true
   },
   "outputs": [],
   "source": [
    "res = []\n",
    "def backtrack(路径，选择列表):\n",
    "    if 满足结束条件；\n",
    "        res.append(路径)\n",
    "        return\n",
    "    for 选择 in 选择列表：\n",
    "        做选择\n",
    "        backtrack(路径，选择列表)\n",
    "        撤销选择\n"
   ]
  },
  {
   "cell_type": "markdown",
   "metadata": {},
   "source": [
    "##### 全排列"
   ]
  },
  {
   "cell_type": "code",
   "execution_count": 16,
   "metadata": {
    "ExecuteTime": {
     "end_time": "2020-03-05T15:23:38.704632Z",
     "start_time": "2020-03-05T15:23:38.694659Z"
    }
   },
   "outputs": [
    {
     "data": {
      "text/plain": [
       "[[1, 2, 3], [1, 3, 2], [2, 1, 3], [2, 3, 1], [3, 1, 2], [3, 2, 1]]"
      ]
     },
     "execution_count": 16,
     "metadata": {},
     "output_type": "execute_result"
    }
   ],
   "source": [
    "class Solution:\n",
    "    def permute(self, nums: List[int]) -> List[List[int]]:\n",
    "        self.res = []\n",
    "        self.backtrack(nums,[])\n",
    "        return self.res\n",
    "        \n",
    "    def backtrack(self,nums,track):\n",
    "        #结束条件\n",
    "        if len(track) == len(nums):\n",
    "            self.res.append([i for i in track])\n",
    "            return\n",
    "        #选择列表\n",
    "        for i in nums:\n",
    "            #做选择\n",
    "            if i in track:\n",
    "                continue\n",
    "            track.append(i)\n",
    "            self.backtrack(nums,track)\n",
    "            track.pop()\n",
    "            \n",
    "s = Solution()\n",
    "nums = [1,2,3]\n",
    "s.permute(nums)"
   ]
  },
  {
   "cell_type": "markdown",
   "metadata": {},
   "source": [
    "##### n皇后问题"
   ]
  },
  {
   "cell_type": "code",
   "execution_count": 8,
   "metadata": {},
   "outputs": [
    {
     "data": {
      "text/plain": [
       "[['.Q..', '...Q', 'Q...', '..Q.'], ['..Q.', 'Q...', '...Q', '.Q..']]"
      ]
     },
     "execution_count": 8,
     "metadata": {},
     "output_type": "execute_result"
    }
   ],
   "source": [
    "class Solution:\n",
    "    def totalNQueens(self, n: int) -> int:\n",
    "        self.visited = [[0 for i in range(n)] for j in range(n)]\n",
    "        self.res = []\n",
    "        self.width = n\n",
    "        board = [['.' for i in range(n)] for j in range(n)]\n",
    "        self.solve(0,board)\n",
    "        return self.res\n",
    "        \n",
    "    def is_valid(self,row,col,width,board):\n",
    "        #不能同一列\n",
    "        for i in range(width):\n",
    "            if board[i][col] == 'Q' or board[row][i] == 'Q':\n",
    "                return False\n",
    "        #不能在正左上方\n",
    "        _col = col\n",
    "        for i in range(row,-1,-1):\n",
    "            if _col >= 0 and board[i][_col] == 'Q':\n",
    "                return False\n",
    "            _col -= 1\n",
    "        #不能在正左下方\n",
    "        _col = col\n",
    "        for i in range(row,width):\n",
    "            if _col >= 0 and board[i][_col] == 'Q':\n",
    "                return False\n",
    "            _col -= 1\n",
    "        #不能在正右上方\n",
    "        _col = col\n",
    "        for i in range(row,-1,-1):\n",
    "            if _col <= width-1 and board[i][_col] == 'Q':\n",
    "                return False\n",
    "            _col += 1\n",
    "        #不能在正右下方\n",
    "        _col = col\n",
    "        for i in range(row,width):\n",
    "            if _col <= width-1 and board[i][_col] == 'Q':\n",
    "                return False\n",
    "            _col += 1\n",
    "        return True\n",
    "\n",
    "    def solve(self,row,board):\n",
    "        #满足结束条件，记录路径\n",
    "        if row == self.width:\n",
    "            self.res.append([''.join(i) for i in board])\n",
    "            return\n",
    "        #可选择路径\n",
    "        for col in range(self.width):\n",
    "            #做选择\n",
    "            if not self.is_valid(row,col,self.width,board):\n",
    "                continue\n",
    "            board[row][col] = 'Q'\n",
    "            #向前遍历\n",
    "            self.solve(row+1,board)\n",
    "            #回溯\n",
    "            board[row][col] = '.'\n",
    "            \n",
    "s = Solution()\n",
    "s.totalNQueens(4)\n",
    "# a = [\n",
    "# ['.', 'Q', '.', '.'],\n",
    "# ['.', '.', '.', 'Q'],\n",
    "# ['Q', '.', '.', '.'],\n",
    "# ['.', '.', '.', '.'],\n",
    "# ]\n",
    "# s.is_valid(3,2,4,a)\n",
    "            "
   ]
  },
  {
   "cell_type": "code",
   "execution_count": null,
   "metadata": {},
   "outputs": [],
   "source": []
  },
  {
   "cell_type": "code",
   "execution_count": null,
   "metadata": {},
   "outputs": [],
   "source": []
  }
 ],
 "metadata": {
  "kernelspec": {
   "display_name": "Python 3",
   "language": "python",
   "name": "python3"
  },
  "language_info": {
   "codemirror_mode": {
    "name": "ipython",
    "version": 3
   },
   "file_extension": ".py",
   "mimetype": "text/x-python",
   "name": "python",
   "nbconvert_exporter": "python",
   "pygments_lexer": "ipython3",
   "version": "3.7.3"
  },
  "toc": {
   "base_numbering": 1,
   "nav_menu": {},
   "number_sections": true,
   "sideBar": true,
   "skip_h1_title": false,
   "title_cell": "Table of Contents",
   "title_sidebar": "Contents",
   "toc_cell": false,
   "toc_position": {},
   "toc_section_display": true,
   "toc_window_display": false
  },
  "varInspector": {
   "cols": {
    "lenName": 16,
    "lenType": 16,
    "lenVar": 40
   },
   "kernels_config": {
    "python": {
     "delete_cmd_postfix": "",
     "delete_cmd_prefix": "del ",
     "library": "var_list.py",
     "varRefreshCmd": "print(var_dic_list())"
    },
    "r": {
     "delete_cmd_postfix": ") ",
     "delete_cmd_prefix": "rm(",
     "library": "var_list.r",
     "varRefreshCmd": "cat(var_dic_list()) "
    }
   },
   "types_to_exclude": [
    "module",
    "function",
    "builtin_function_or_method",
    "instance",
    "_Feature"
   ],
   "window_display": false
  }
 },
 "nbformat": 4,
 "nbformat_minor": 2
}
