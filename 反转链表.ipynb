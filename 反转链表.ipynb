{
 "cells": [
  {
   "cell_type": "markdown",
   "metadata": {},
   "source": [
    "##### 学习概要\n",
    "###### 反转链表\n",
    "    - 迭代\n",
    "    - 递归\n",
    "###### 反转链表的前N个节点\n",
    "###### 反转链表的一部分"
   ]
  },
  {
   "cell_type": "markdown",
   "metadata": {},
   "source": [
    "##### 反转链表-迭代\n",
    "    - 关键点：用p_node记录当前节点，用pre记录前一节点"
   ]
  },
  {
   "cell_type": "code",
   "execution_count": 30,
   "metadata": {
    "ExecuteTime": {
     "end_time": "2020-03-27T03:34:45.839358Z",
     "start_time": "2020-03-27T03:34:45.830342Z"
    }
   },
   "outputs": [],
   "source": [
    "class ListNode():\n",
    "    def __init__(self,val):\n",
    "        self.val = val\n",
    "        self.next = None\n",
    "        \n",
    "def get_head():\n",
    "    head = ListNode(1)\n",
    "    head.next = ListNode(2)\n",
    "    head.next.next = ListNode(3)\n",
    "    head.next.next.next = ListNode(4)\n",
    "    head.next.next.next.next = ListNode(5)\n",
    "    return head\n",
    "\n",
    "def print_listnode(head):\n",
    "    while head:\n",
    "        print(head.val)\n",
    "        head = head.next\n"
   ]
  },
  {
   "cell_type": "code",
   "execution_count": 31,
   "metadata": {
    "ExecuteTime": {
     "end_time": "2020-03-27T03:34:47.443570Z",
     "start_time": "2020-03-27T03:34:47.435591Z"
    }
   },
   "outputs": [
    {
     "name": "stdout",
     "output_type": "stream",
     "text": [
      "5\n",
      "4\n",
      "3\n",
      "2\n",
      "1\n"
     ]
    }
   ],
   "source": [
    "def reverse_listnode(head):\n",
    "    if not head:return head\n",
    "    pre = None\n",
    "    p_node = head\n",
    "    p_next = p_node.next\n",
    "    while p_node:\n",
    "        p_node.next = pre\n",
    "        pre = p_node\n",
    "        p_node = p_next\n",
    "        if p_node:\n",
    "            p_next = p_node.next\n",
    "    return pre\n",
    "print_listnode(reverse_listnode(get_head()))"
   ]
  },
  {
   "cell_type": "markdown",
   "metadata": {},
   "source": [
    "##### 反转链表-递归\n",
    "    - 先递归到最后，用last记录\n",
    "    - 从后往前，反转节点\n",
    "    - 返回last"
   ]
  },
  {
   "cell_type": "code",
   "execution_count": 43,
   "metadata": {
    "ExecuteTime": {
     "end_time": "2020-03-27T07:54:58.617651Z",
     "start_time": "2020-03-27T07:54:58.609663Z"
    }
   },
   "outputs": [
    {
     "name": "stdout",
     "output_type": "stream",
     "text": [
      "5\n",
      "4\n",
      "3\n",
      "2\n",
      "1\n"
     ]
    }
   ],
   "source": [
    "def reverse_listnode(head):\n",
    "    if not head or not head.next:\n",
    "        return head\n",
    "    #新的头节点，即最后一个节点\n",
    "    last = reverse_listnode(head.next)\n",
    "    #当前节点的下个节点的下个节点=当前节点，即反转\n",
    "    head.next.next = head\n",
    "    #当前节点的下个节点置为None\n",
    "    head.next = None\n",
    "    return last\n",
    "\n",
    "print_listnode(reverse_listnode(get_head()))"
   ]
  },
  {
   "cell_type": "markdown",
   "metadata": {},
   "source": [
    "##### 合并两个链表"
   ]
  },
  {
   "cell_type": "code",
   "execution_count": 113,
   "metadata": {
    "ExecuteTime": {
     "end_time": "2020-03-28T15:44:01.659093Z",
     "start_time": "2020-03-28T15:44:01.651114Z"
    }
   },
   "outputs": [
    {
     "name": "stdout",
     "output_type": "stream",
     "text": [
      "1\n",
      "2\n",
      "3\n",
      "4\n",
      "5\n",
      "1\n",
      "2\n",
      "3\n",
      "4\n",
      "5\n"
     ]
    }
   ],
   "source": [
    "def merge_two_listnode(a,b):\n",
    "    h = ListNode(0)\n",
    "    t = h\n",
    "    while a:\n",
    "        t.next = a\n",
    "        a = a.next\n",
    "        t = t.next \n",
    "        if not a:\n",
    "            t.next = b\n",
    "            \n",
    "    return h.next\n",
    "\n",
    "print_listnode(merge_two_listnode(get_head(),get_head()))"
   ]
  },
  {
   "cell_type": "markdown",
   "metadata": {},
   "source": [
    "##### 反转链表的前N个节点-迭代"
   ]
  },
  {
   "cell_type": "code",
   "execution_count": 128,
   "metadata": {
    "ExecuteTime": {
     "end_time": "2020-03-28T15:46:54.099213Z",
     "start_time": "2020-03-28T15:46:54.088243Z"
    }
   },
   "outputs": [
    {
     "name": "stdout",
     "output_type": "stream",
     "text": [
      "3\n",
      "2\n",
      "1\n",
      "4\n",
      "5\n"
     ]
    }
   ],
   "source": [
    "def reverse_topn_listnode(head,n):\n",
    "    pre = None\n",
    "    pnode = head\n",
    "    pnext = pnode.next\n",
    "    while pnode:\n",
    "        if n == 0:\n",
    "            pre = merge_two_listnode(pre,pnode)\n",
    "            break\n",
    "        pnode.next = pre\n",
    "        pre = pnode\n",
    "        pnode = pnext\n",
    "        n -= 1\n",
    "        if pnode:\n",
    "            pnext = pnode.next\n",
    "    return pre\n",
    "\n",
    "print_listnode(reverse_topn_listnode(get_head(),3))"
   ]
  },
  {
   "cell_type": "markdown",
   "metadata": {},
   "source": [
    "##### 反转链表的前N个节点-递归\n",
    "    - 以head为起点，找到前N个节点，反转，并接上后续无需反转的节点"
   ]
  },
  {
   "cell_type": "code",
   "execution_count": 130,
   "metadata": {
    "ExecuteTime": {
     "end_time": "2020-03-28T15:49:10.644154Z",
     "start_time": "2020-03-28T15:49:10.636176Z"
    }
   },
   "outputs": [
    {
     "name": "stdout",
     "output_type": "stream",
     "text": [
      "4\n",
      "3\n",
      "2\n",
      "1\n",
      "5\n"
     ]
    }
   ],
   "source": [
    "def reverse_topn_listnode(head,n):\n",
    "    global rest_nodes\n",
    "    if n == 1:\n",
    "        rest_nodes = head.next\n",
    "        return head\n",
    "    last = reverse_topn_listnode(head.next,n-1)\n",
    "    head.next.next = head\n",
    "    head.next = rest_nodes\n",
    "    return last\n",
    "    \n",
    "print_listnode(reverse_topn_listnode(get_head(),4))    "
   ]
  },
  {
   "cell_type": "markdown",
   "metadata": {},
   "source": [
    "##### 反转链表的一部分-迭代"
   ]
  },
  {
   "cell_type": "code",
   "execution_count": 140,
   "metadata": {
    "ExecuteTime": {
     "end_time": "2020-03-28T16:06:26.528834Z",
     "start_time": "2020-03-28T16:06:26.516971Z"
    }
   },
   "outputs": [
    {
     "name": "stdout",
     "output_type": "stream",
     "text": [
      "4\n",
      "3\n",
      "2\n"
     ]
    }
   ],
   "source": [
    "def reverse_between(head,m,n):\n",
    "    pre = None\n",
    "    pnode = head\n",
    "    pnext = pnode.next\n",
    "    gap = n - m\n",
    "    while pnode and gap > 0:\n",
    "        if m > 0:\n",
    "            pnode = pnext\n",
    "            pnext = pnode.next\n",
    "        if m <= 0:\n",
    "            pnode.next = pre\n",
    "            pre = pnode\n",
    "            pnode = pnext\n",
    "            if pnode:\n",
    "                pnext = pnode.next\n",
    "            gap -= 1\n",
    "            \n",
    "        m -= 1\n",
    "    \n",
    "        \n",
    "    return pre\n",
    "\n",
    "print_listnode(reverse_between(get_head(),1,4))"
   ]
  },
  {
   "cell_type": "markdown",
   "metadata": {},
   "source": [
    "##### 反转链表的一部分-递归"
   ]
  },
  {
   "cell_type": "code",
   "execution_count": 131,
   "metadata": {
    "ExecuteTime": {
     "end_time": "2020-03-28T15:49:37.585858Z",
     "start_time": "2020-03-28T15:49:37.578877Z"
    }
   },
   "outputs": [
    {
     "name": "stdout",
     "output_type": "stream",
     "text": [
      "1\n",
      "4\n",
      "3\n",
      "2\n",
      "5\n"
     ]
    }
   ],
   "source": [
    "def reverse_between(head,m,n):\n",
    "    if m == 1:\n",
    "        return reverse_topn_listnode(head,n)\n",
    "    head.next = reverse_between(head.next,m-1,n-1)\n",
    "    return head\n",
    "print_listnode(reverse_between(get_head(),2,4))"
   ]
  },
  {
   "cell_type": "code",
   "execution_count": null,
   "metadata": {},
   "outputs": [],
   "source": []
  },
  {
   "cell_type": "code",
   "execution_count": null,
   "metadata": {},
   "outputs": [],
   "source": []
  }
 ],
 "metadata": {
  "kernelspec": {
   "display_name": "Python [conda env:root] *",
   "language": "python",
   "name": "conda-root-py"
  },
  "language_info": {
   "codemirror_mode": {
    "name": "ipython",
    "version": 3
   },
   "file_extension": ".py",
   "mimetype": "text/x-python",
   "name": "python",
   "nbconvert_exporter": "python",
   "pygments_lexer": "ipython3",
   "version": "3.7.3"
  },
  "toc": {
   "base_numbering": 1,
   "nav_menu": {},
   "number_sections": true,
   "sideBar": true,
   "skip_h1_title": false,
   "title_cell": "Table of Contents",
   "title_sidebar": "Contents",
   "toc_cell": false,
   "toc_position": {},
   "toc_section_display": true,
   "toc_window_display": false
  },
  "varInspector": {
   "cols": {
    "lenName": 16,
    "lenType": 16,
    "lenVar": 40
   },
   "kernels_config": {
    "python": {
     "delete_cmd_postfix": "",
     "delete_cmd_prefix": "del ",
     "library": "var_list.py",
     "varRefreshCmd": "print(var_dic_list())"
    },
    "r": {
     "delete_cmd_postfix": ") ",
     "delete_cmd_prefix": "rm(",
     "library": "var_list.r",
     "varRefreshCmd": "cat(var_dic_list()) "
    }
   },
   "types_to_exclude": [
    "module",
    "function",
    "builtin_function_or_method",
    "instance",
    "_Feature"
   ],
   "window_display": false
  }
 },
 "nbformat": 4,
 "nbformat_minor": 2
}
