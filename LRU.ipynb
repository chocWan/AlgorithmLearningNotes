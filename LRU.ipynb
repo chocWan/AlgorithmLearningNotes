{
 "cells": [
  {
   "cell_type": "markdown",
   "metadata": {},
   "source": [
    "##### 学习概要\n",
    "###### 什么是LRU\n",
    "    - Least Recent Used\n",
    "    - 缓存淘汰算法的一种常用策略\n",
    "    - 最近使用的数据是最有用的，很久都没有使用的数据是无用的，内存满了以后，优先删除无用的数据\n",
    "    - 也可以说是一种特殊的数据结构，设capacity为最大容量，put存，get取，没有返回-1\n",
    "    - put和get的时间复杂度均为O(1)\n",
    "###### 算法思想\n",
    "    - 哈希双向链表，双向链表和哈希表的结合，这样才能保证O(1)\n",
    "    - get(val)\n",
    "        - key不存在，返回-1\n",
    "        - key存在，返回val，将key对应的Node提到开头\n",
    "    - put(val)\n",
    "        - 根据val，组合一个新Node\n",
    "        - key存在\n",
    "            - 删除（hash和nodeList均删除）\n",
    "            - Node插入nodeList到开头\n",
    "        - key不存在\n",
    "            - 若cache已满\n",
    "                - 删除末尾（hash和nodeList均删除）\n",
    "            - Node插入nodeList到开头，hash中新建一个映射\n",
    "###### 算法实现"
   ]
  },
  {
   "cell_type": "markdown",
   "metadata": {},
   "source": [
    "##### LRU结构示意图"
   ]
  },
  {
   "cell_type": "code",
   "execution_count": 7,
   "metadata": {
    "ExecuteTime": {
     "end_time": "2020-03-22T15:10:31.102954Z",
     "start_time": "2020-03-22T15:10:31.082956Z"
    }
   },
   "outputs": [
    {
     "data": {
      "text/html": [
       "<img src=\"./images/LRU.png\", width=400, heigth=600>\n"
      ],
      "text/plain": [
       "<IPython.core.display.HTML object>"
      ]
     },
     "metadata": {},
     "output_type": "display_data"
    }
   ],
   "source": [
    "%%html\n",
    "<img src=\"./images/LRU.png\", width=400, heigth=600>"
   ]
  },
  {
   "cell_type": "markdown",
   "metadata": {},
   "source": [
    "##### 算法实现"
   ]
  },
  {
   "cell_type": "code",
   "execution_count": 1,
   "metadata": {
    "ExecuteTime": {
     "end_time": "2020-03-22T12:36:52.345214Z",
     "start_time": "2020-03-22T12:36:52.340232Z"
    }
   },
   "outputs": [],
   "source": [
    "#双向链表的节点\n",
    "class Node():\n",
    "    def __init__(self,k,v):\n",
    "        self.k = k\n",
    "        self.v = v\n",
    "        self.next = None\n",
    "        self.prev = None"
   ]
  },
  {
   "cell_type": "code",
   "execution_count": 5,
   "metadata": {
    "ExecuteTime": {
     "end_time": "2020-03-22T15:10:14.326695Z",
     "start_time": "2020-03-22T15:10:14.310732Z"
    }
   },
   "outputs": [],
   "source": [
    "#双向链表\n",
    "class DoubleList():\n",
    "    def __init__(self):\n",
    "        #作为表头的临时存储变量\n",
    "        self._head = None\n",
    "        \n",
    "    def add_first(self,key,val):\n",
    "        node = Node(key,val)\n",
    "        if self.is_empty():\n",
    "            #空链表\n",
    "            self._head = node\n",
    "        else:\n",
    "            #将node的next指向_head，作为头结点\n",
    "            node.next = self._head\n",
    "            #将_head的prev指向node\n",
    "            self._head.prev = node\n",
    "            #此时node为首节点，将_head指向node\n",
    "            self._head = node\n",
    "            \n",
    "    def remove(self,node):\n",
    "        #为空，直接返回\n",
    "        #不为空\n",
    "        #判断_head是否为item\n",
    "        #是，直接删除，并将_head的next作为_head\n",
    "        #否，遍历_head.next，node_i相等，将node_i-1的next更新为node_i+1，node_i+1的prev更新为node_i-1\n",
    "        if self.is_empty():\n",
    "            return\n",
    "        curr = self._head\n",
    "        if curr.k == node.k:\n",
    "            #链表中只有这一个节点\n",
    "            if not curr.next:\n",
    "                self._head = None\n",
    "            else:\n",
    "                self._head = self._head.next\n",
    "                self._head.prev = None\n",
    "        else:\n",
    "            while curr:\n",
    "                if curr.k == node.k:\n",
    "                    curr.prev.next = curr.next\n",
    "                    curr.next.prev = curr.prev\n",
    "                    return\n",
    "                curr = curr.next\n",
    "            \n",
    "    def removeLast(self):\n",
    "        if self.is_empty():\n",
    "            return None\n",
    "        #只有一个节点\n",
    "        del_key = None\n",
    "        if not self._head.next:\n",
    "            del_key = self._head.key\n",
    "            self._head = None\n",
    "        else:\n",
    "            curr = self._head\n",
    "            while curr:\n",
    "                #最后一个节点\n",
    "                if not curr.next:\n",
    "                    del_key = curr.key\n",
    "                    curr.prev.next = None\n",
    "                curr = curr.next\n",
    "        return del_key\n",
    "        \n",
    "    def size(self):\n",
    "        if self.is_empty():\n",
    "            return 0\n",
    "        count = 1\n",
    "        while self._head.next:\n",
    "            count += 1\n",
    "        return count\n",
    "    \n",
    "    def is_empty(self):\n",
    "        if not self._head:return True\n",
    "        else:return False"
   ]
  },
  {
   "cell_type": "code",
   "execution_count": 6,
   "metadata": {
    "ExecuteTime": {
     "end_time": "2020-03-22T15:10:16.347736Z",
     "start_time": "2020-03-22T15:10:16.335737Z"
    }
   },
   "outputs": [],
   "source": [
    "#LRU\n",
    "class LRUCache():\n",
    "    def __init__(self,capacity):\n",
    "        self.capacity = capacity\n",
    "        self.map = dict()\n",
    "        self.cache = DoubleList()\n",
    "    def get(self,key):\n",
    "        if key not in self.map:\n",
    "            return -1\n",
    "        val = self.map[key].val\n",
    "        #利用put方法将key对应的node提前\n",
    "        self.put(key,val)\n",
    "        return val\n",
    "    def put(self,key,val):\n",
    "        #根据key，val创建一个节点node\n",
    "        #如果key在map中\n",
    "        #DoubleList中删除key对应的节点，map更新key的值为node\n",
    "        #如果key不在map中\n",
    "        #DoubleList末尾新增node，map新增node\n",
    "        node = Node(key,val)\n",
    "        if key in self.map:\n",
    "            self.cache.remove(node)\n",
    "            self.cache.add_first(node)\n",
    "            self.map[key] = node\n",
    "        else:\n",
    "            if self.cache.size() == self.capacity:\n",
    "                del_key = self.cache.removeLast()\n",
    "                self.map.pop(del_key)\n",
    "            self.cache.add_first(node)\n",
    "            self.map[key] = node"
   ]
  },
  {
   "cell_type": "code",
   "execution_count": null,
   "metadata": {},
   "outputs": [],
   "source": []
  },
  {
   "cell_type": "code",
   "execution_count": null,
   "metadata": {},
   "outputs": [],
   "source": []
  }
 ],
 "metadata": {
  "kernelspec": {
   "display_name": "Python [conda env:root] *",
   "language": "python",
   "name": "conda-root-py"
  },
  "language_info": {
   "codemirror_mode": {
    "name": "ipython",
    "version": 3
   },
   "file_extension": ".py",
   "mimetype": "text/x-python",
   "name": "python",
   "nbconvert_exporter": "python",
   "pygments_lexer": "ipython3",
   "version": "3.7.3"
  },
  "toc": {
   "base_numbering": 1,
   "nav_menu": {},
   "number_sections": true,
   "sideBar": true,
   "skip_h1_title": false,
   "title_cell": "Table of Contents",
   "title_sidebar": "Contents",
   "toc_cell": false,
   "toc_position": {},
   "toc_section_display": true,
   "toc_window_display": false
  },
  "varInspector": {
   "cols": {
    "lenName": 16,
    "lenType": 16,
    "lenVar": 40
   },
   "kernels_config": {
    "python": {
     "delete_cmd_postfix": "",
     "delete_cmd_prefix": "del ",
     "library": "var_list.py",
     "varRefreshCmd": "print(var_dic_list())"
    },
    "r": {
     "delete_cmd_postfix": ") ",
     "delete_cmd_prefix": "rm(",
     "library": "var_list.r",
     "varRefreshCmd": "cat(var_dic_list()) "
    }
   },
   "types_to_exclude": [
    "module",
    "function",
    "builtin_function_or_method",
    "instance",
    "_Feature"
   ],
   "window_display": false
  }
 },
 "nbformat": 4,
 "nbformat_minor": 2
}
