{
 "cells": [
  {
   "cell_type": "markdown",
   "metadata": {},
   "source": [
    "1. 什么是图\n",
    "    - 见“算法学习笔记4-图论”\n",
    "2. 什么是图搜索\n",
    "    - 定义：按照某种顺序，访问“图”中的所有节点\n",
    "    - 顺序：深度优先；广度优先\n",
    "3. 深度优先\n",
    "    - 过程：\n",
    "    - 实战：N皇后问题；骑士游历问题\n",
    "4. 广度优先\n",
    "    - 过程\n",
    "    - 实战：种子填充法：八数码问题"
   ]
  },
  {
   "cell_type": "code",
   "execution_count": 2,
   "metadata": {
    "ExecuteTime": {
     "end_time": "2020-03-05T14:38:50.375546Z",
     "start_time": "2020-03-05T14:38:50.368568Z"
    }
   },
   "outputs": [
    {
     "data": {
      "text/html": [
       "示例图\n",
       "<img src=\"./images/graph_search.png\", width=300, heigth=200>\n"
      ],
      "text/plain": [
       "<IPython.core.display.HTML object>"
      ]
     },
     "metadata": {},
     "output_type": "display_data"
    }
   ],
   "source": [
    "%%html\n",
    "示例图\n",
    "<img src=\"./images/graph_search.png\", width=300, heigth=200>"
   ]
  },
  {
   "cell_type": "markdown",
   "metadata": {},
   "source": [
    "- 深度优先-过程\n",
    "- 深度优先遍历过程，ans为队列，记录遍历顺序，rest为栈，记录未遍历的节点：\n",
    "\n",
    "\n",
    "- V1开始，ans.append(V1)                        | ans=[V1],rest=[]\n",
    "- 找到V1的两个子节点V2 V3                       | ans=[V1],rest=[3,2]\n",
    "- V2开始，rest.pop()；ans.append(V2)                | ans=[V1,V2],rest=[3]\n",
    "- 找到V2的三个节点V1 V4 V5；ans包含V1，排除掉          | ans=[V1,V2],rest=[3,5,4]\n",
    "- V4开始，rest.pop()；ans.append(V4)                | ans=[V1,V2,V4],rest=[3,5]\n",
    "- 找到V4的两个节点V2 V8；ans包含V2，排除掉            | ans=[V1,V2,V4],rest=[3,5,8]\n",
    "- V8开始；ans.append(V8)                        | ans=[V1,V2,V4,V8],rest=[3,5]\n",
    "- 找到V8的两个节点V4 V5；ans包含V4，排除掉            | ans=[V1,V2,V4,V8],rest=[3,5,5]\n",
    "- V5开始，rest.pop()；ans.append(V5)                | ans=[V1,V2,V4,V8,V5],rest=[3,5]\n",
    "- 找到V5的两个节点V2 V8；ans包含V2 V8，结束，往回找      | ans=[V1,V2,V4,V8,V5],rest=[3,5]\n",
    "- V5开始，rest.pop()，ans包含V5，跳过               | ans=[V1,V2,V4,V8,V5],rest=[3]\n",
    "- V3开始，rest.pop()，ans.append(V3)                | ans=[V1,V2,V4,V8,V5,V3],rest=[]\n",
    "- 找到V3的三个节点V1 V6 V7；ans包含V1，排除掉          | ans=[V1,V2,V4,V8,V5,V3],rest=[7,6]\n",
    "- V6开始，rest.pop，ans.append(V6)                 | ans=[V1,V2,V4,V8,V5,V3,V6],rest=[7]\n",
    "- 找到V6的两个节点V3 V7；ans包含V3，排除掉            | ans=[V1,V2,V4,V8,V5,V3,V6],rest=[7]\n",
    "- V7开始，res.pop()，ans.append(V7)                 | ans=[V1,V2,V4,V8,V5,V3,V6,V7],rest=[]\n",
    "- len(ans) == len(graph) 结束\n",
    "\n",
    "void DFS(v):\n",
    "    visited_nodes[v] = true\n",
    "    for i in v的邻接点：\n",
    "        if !visited_nodes[i]:\n",
    "            DFS(i)"
   ]
  },
  {
   "cell_type": "markdown",
   "metadata": {},
   "source": [
    "2 深度优先-实战-N皇后问题 leetcode 51\n",
    "n 皇后问题研究的是如何将 n 个皇后放置在 n×n 的棋盘上，并且使皇后彼此之间不能相互攻击。\n",
    "给定一个整数 n，返回所有不同的 n 皇后问题的解决方案。\n",
    "即：网格中的棋子，八个方向的直线上的格子，不允许有放棋子\n",
    "\n",
    "每一种解法包含一个明确的 n 皇后问题的棋子放置方案，该方案中 'Q' 和 '.' 分别代表了皇后和空位。\n",
    "\n",
    "示例:\n",
    "\n",
    "输入: 4\n",
    "输出: [\n",
    "// 解法 1\n",
    " [\".Q..\",  \n",
    "  \"...Q\",\n",
    "  \"Q...\",\n",
    "  \"..Q.\"],\n",
    "  \n",
    "// 解法 2\n",
    " [\"..Q.\",  \n",
    "  \"Q...\",\n",
    "  \"...Q\",\n",
    "  \".Q..\"]\n",
    "]\n",
    "解释: 4 皇后问题存在两个不同的解法。\n",
    "\n"
   ]
  },
  {
   "cell_type": "code",
   "execution_count": 98,
   "metadata": {
    "ExecuteTime": {
     "end_time": "2020-02-09T04:43:31.812589Z",
     "start_time": "2020-02-09T04:43:31.796634Z"
    },
    "code_folding": []
   },
   "outputs": [
    {
     "name": "stdout",
     "output_type": "stream",
     "text": [
      ". Q . .\n",
      ". . . Q\n",
      "Q . . .\n",
      ". . Q .\n",
      "-------\n",
      ". . Q .\n",
      "Q . . .\n",
      ". . . Q\n",
      ". Q . .\n",
      "-------\n"
     ]
    }
   ],
   "source": [
    "res = []\n",
    "\n",
    "def solve_queen(n):\n",
    "    board = [['.' for i in range(n)] for j in range(n)]\n",
    "    backtrack(board,0)\n",
    "\n",
    "def backtrack(board,row):\n",
    "    n = len(board)\n",
    "    #出发结束条件\n",
    "    if row == n:\n",
    "        _res = [''.join(i) for i in board]\n",
    "        res.append(_res)\n",
    "        return\n",
    "    \n",
    "    for col in range(n):\n",
    "        #排除不合法的选择\n",
    "        valid_res = is_valid(board,row,col)\n",
    "        if not valid_res:\n",
    "            continue\n",
    "        #做选择\n",
    "        board[row][col] = 'Q'\n",
    "#         print(row,col,board)\n",
    "        #进入下一决策\n",
    "        backtrack(board,row+1)\n",
    "        #撤销选择\n",
    "        board[row][col] = '.'\n",
    "\n",
    "def is_valid(board,row,col):\n",
    "    #列是否有\n",
    "    for i in range(len(board)):\n",
    "        if board[i][col] == 'Q':\n",
    "            return False\n",
    "    \n",
    "    #斜线上是否有皇后\n",
    "    for i in range(len(board)):\n",
    "        for j in range(len(board)):\n",
    "            if board[i][j] == 'Q' and abs(get_slope(i,j,row,col)) == 1:\n",
    "                return False\n",
    "    \n",
    "    return True\n",
    "\n",
    "def get_slope(x1,y1,x2,y2):\n",
    "    if y1 == y2:\n",
    "        return 0\n",
    "    slope = (x1-x2) / (y1-y2)\n",
    "    return slope\n",
    "\n",
    "            \n",
    "solve_queen(4)\n",
    "for i in range(len(res)):\n",
    "    for j in range(len(res[i])):\n",
    "        print(' '.join(res[i][j]))\n",
    "    print(len(' '.join(res[i][j]))*'-')"
   ]
  },
  {
   "cell_type": "markdown",
   "metadata": {},
   "source": [
    "3 广度优先-过程\n",
    "广度优先遍历过程，ans为队列，记录遍历顺序，rest为队列，记录未遍历的节点：\n",
    "\n",
    "V1开始 | ans=[V1],rest=[]\n",
    "找到V1的两个子节点 | ans=[V1],rest=[V2,V3]\n",
    "V2开始，rest.pop(0) | ans=[V1，V2],rest=[V3]\n",
    "找到V2的三个节点V1 V4 V5，ans已包含V1，排除掉| ans=[V1，V2],rest=[V3，V4，V5]\n",
    "V3开始，rest.pop(0)| ans=[V1，V2，V3],rest=[V4，V5]\n",
    "找到V3的三个节点V1 V6 V7，ans已包含V1，排除掉| ans=[V1，V2，V3],rest=[V4，V5，V6，V7]\n",
    "V4开始，rest.pop(0)| ans=[V1，V2，V3，V4],rest=[V5，V6，V7]\n",
    "找到V4的两个节点V2 V8，ans已包含V2，排除掉| ans=[V1，V2，V3，V4],rest=[V5，V6，V7，V8]\n",
    "V5开始，rest.pop(0)|ans=[V1，V2，V3，V4，V5],rest=[V6，V7，V8]\n",
    "找到V5的两个节点V2 V8，ans已包含V2 V8，排除掉|ans=[V1，V2，V3，V4，V5],rest=[V6，V7，V8]\n",
    "V6开始，rest.pop(0)|ans=[V1，V2，V3，V4，V5，V6],rest=[V7，V8]\n",
    "找到V6的两个节点V3 V7，ans已包含V3，排除掉|ans=[V1，V2，V3，V4，V5，V6],rest=[V7，V8，V7]\n",
    "V7开始，rest.pop(0)|ans=[V1，V2，V3，V4，V5，V6，V7],rest=[V8，V7]\n",
    "找到V7的两个节点V3 V6，ans已包含V3 V6，排除掉|ans=[V1，V2，V3，V4，V5，V6，V7],rest=[V8，V7]\n",
    "V8开始，rest.pop(0)|ans=[V1，V2，V3，V4，V5，V6，V7，V8],rest=[V7]\n",
    "len(ans) == len(graph) 结束\n",
    "\n",
    "void BFS(v):\n",
    "    visited_nodes[v] = true\n",
    "    Q = []\n",
    "    Q.append(v)\n",
    "    whiel Q:\n",
    "        i = Q.pop(0)\n",
    "        if !visited_nodes[i]:\n",
    "            Q.append(i)\n"
   ]
  },
  {
   "cell_type": "markdown",
   "metadata": {},
   "source": [
    "3 广度优先-实战-岛屿数量 leetcode\n",
    "\n",
    "给定一个由 '1'（陆地）和 '0'（水）组成的的二维网格，计算岛屿的数量。一个岛被水包围，并且它是通过水平方向或垂直方向上相邻的陆地连接而成的。你可以假设网格的四个边均被水包围。\n",
    "\n",
    "示例 1:\n",
    "\n",
    "输入:\n",
    "11110\n",
    "11010\n",
    "11000\n",
    "00000\n",
    "\n",
    "输出: 1\n",
    "示例 2:\n",
    "\n",
    "输入:\n",
    "11000\n",
    "11000\n",
    "00100\n",
    "00011\n",
    "\n",
    "输出: 3\n",
    "\n",
    "问题分析：\n",
    "任给一个点，入队\n",
    "判断上下左右的4个点是否均为0，并且4个点中值为1的点，入队\n",
    "\n"
   ]
  },
  {
   "cell_type": "code",
   "execution_count": 185,
   "metadata": {
    "ExecuteTime": {
     "end_time": "2020-02-09T15:26:07.043706Z",
     "start_time": "2020-02-09T15:26:07.015781Z"
    }
   },
   "outputs": [
    {
     "name": "stdout",
     "output_type": "stream",
     "text": [
      "[[True, True, True, True, False], [True, True, False, True, False], [True, True, False, False, False], [False, False, False, False, False]]\n"
     ]
    },
    {
     "data": {
      "text/plain": [
       "1"
      ]
     },
     "execution_count": 185,
     "metadata": {},
     "output_type": "execute_result"
    }
   ],
   "source": [
    "class Solution:\n",
    "    def __init__(self):\n",
    "        self.grid_width = 0\n",
    "        self.grid_height = 0\n",
    "        self.grid_arr = None\n",
    "        self.visited = None\n",
    "        self.ans = 0\n",
    "\n",
    "    def get_wh_nodes(self,w,h):\n",
    "        res_arr = []\n",
    "        #上\n",
    "        if h-1 >= 0 and self.grid_arr[w][h-1] == '1' and not self.visited[w][h-1]:\n",
    "            self.visited[w][h-1] = True\n",
    "            res_arr.append([w,h-1])\n",
    "        #下\n",
    "        if h+1 < self.grid_height and self.grid_arr[w][h+1] == '1' and not self.visited[w][h+1]:\n",
    "            self.visited[w][h+1] = True\n",
    "            res_arr.append([w,h+1])\n",
    "        #左\n",
    "        if w-1 >= 0 and self.grid_arr[w-1][h] == '1' and not self.visited[w-1][h]:\n",
    "            self.visited[w-1][h] = True\n",
    "            res_arr.append([w-1,h])\n",
    "        #右\n",
    "        if w+1 < self.grid_width and self.grid_arr[w+1][h] == '1' and not self.visited[w+1][h]:\n",
    "            self.visited[w+1][h] = True\n",
    "            res_arr.append([w+1,h])\n",
    "        \n",
    "        return res_arr\n",
    "    \n",
    "    def numIslands(self, grid: List[List[str]]) -> int:\n",
    "        #初始化\n",
    "        self.grid_width = len(grid)\n",
    "        self.grid_height = len(grid[0])\n",
    "        self.grid_arr = grid\n",
    "        self.visited = [[False for col in range(self.grid_height)]for row in range(self.grid_width)]\n",
    "        #找到岛屿，向周围扩散，知道遇到水\n",
    "        for row in range(self.grid_width):\n",
    "            for col in range(self.grid_height):\n",
    "                if self.grid_arr[row][col] == '1' and not self.visited[row][col]:\n",
    "                    self.visited[row][col] = True\n",
    "                    wh_res = self.get_wh_nodes(row,col)\n",
    "                    while wh_res:\n",
    "                        w_h = wh_res.pop(0)\n",
    "                        _wh_res = self.get_wh_nodes(w_h[0],w_h[1])\n",
    "                        for i in _wh_res:\n",
    "                            wh_res.append(i)\n",
    "                    #岛屿加一\n",
    "                    print(self.visited)\n",
    "                    self.ans += 1\n",
    "        return self.ans\n",
    "        \n",
    "\n",
    "ttt = Solution()\n",
    "inp = [\n",
    "    [\"1\",\"1\",\"1\",\"1\",\"0\"],\n",
    "    [\"1\",\"1\",\"0\",\"1\",\"0\"],\n",
    "    [\"1\",\"1\",\"0\",\"0\",\"0\"],\n",
    "    [\"0\",\"0\",\"0\",\"0\",\"0\"]\n",
    "]\n",
    "ttt.numIslands(inp)"
   ]
  },
  {
   "cell_type": "markdown",
   "metadata": {},
   "source": [
    "3 广度优先-实战-被围绕的区域 leetcode 130\n",
    "\n",
    "给定一个二维的矩阵，包含 'X' 和 'O'（字母 O）。\n",
    "\n",
    "找到所有被 'X' 围绕的区域，并将这些区域里所有的 'O' 用 'X' 填充。\n",
    "\n",
    "示例:\n",
    "\n",
    "X X X X\n",
    "X O O X\n",
    "X X O X\n",
    "X O X X\n",
    "运行你的函数后，矩阵变为：\n",
    "\n",
    "X X X X\n",
    "X X X X\n",
    "X X X X\n",
    "X O X X\n",
    "解释:\n",
    "\n",
    "被围绕的区间不会存在于边界上，换句话说，任何边界上的 'O' 都不会被填充为 'X'。 任何不在边界上，或不与边界上的 'O' 相连的 'O' 最终都会被填充为 'X'。如果两个元素在水平或垂直方向相邻，则称它们是“相连”的。\n"
   ]
  },
  {
   "cell_type": "code",
   "execution_count": 21,
   "metadata": {
    "ExecuteTime": {
     "end_time": "2020-02-10T08:11:39.564129Z",
     "start_time": "2020-02-10T08:11:39.559105Z"
    }
   },
   "outputs": [],
   "source": [
    "\n"
   ]
  },
  {
   "cell_type": "code",
   "execution_count": 46,
   "metadata": {
    "ExecuteTime": {
     "end_time": "2020-02-10T08:33:19.273553Z",
     "start_time": "2020-02-10T08:33:19.245627Z"
    }
   },
   "outputs": [],
   "source": [
    "\n",
    "class Solution:\n",
    "    def __init__(self):\n",
    "        self.board = None\n",
    "        self.board_width = 0\n",
    "        self.board_height = 0\n",
    "        self.visited = None\n",
    "        self.board_marked = []\n",
    "    \n",
    "    def get_ref_nodes(self,row,col):\n",
    "        res = []\n",
    "        #上\n",
    "        if row-1 >= 0 and self.board[row-1][col] == 'O' and not self.visited[row-1][col]:\n",
    "            self.visited[row-1][col] = True\n",
    "            res.append([row-1,col])\n",
    "        #下\n",
    "        if row+1 <= self.board_width-1 and self.board[row+1][col] == 'O' and not self.visited[row+1][col]:\n",
    "            self.visited[row+1][col] = True\n",
    "            res.append([row+1,col])\n",
    "        #左\n",
    "        if col-1 >= 0 and self.board[row][col-1] == 'O' and not self.visited[row][col-1]:\n",
    "            self.visited[row][col-1] = True\n",
    "            res.append([row,col-1])\n",
    "        #右\n",
    "        if col+1 <= self.board_height-1 and self.board[row][col+1] == 'O' and not self.visited[row][col+1]:\n",
    "            self.visited[row][col+1] = True\n",
    "            res.append([row,col+1])\n",
    "        \n",
    "        return res\n",
    "        \n",
    "    \n",
    "    def solve(self, board: List[List[str]]) -> None:\n",
    "        if not board:\n",
    "            return\n",
    "        #初始化\n",
    "        self.board = board\n",
    "        self.board_width = len(self.board)\n",
    "        self.board_height = len(self.board[0])\n",
    "        self.visited = [[False for col in range(self.board_height)] for row in range(self.board_width)]\n",
    "        #遍历所有点，排除边界点，排除visited为True的点\n",
    "        for row in range(1,self.board_width-1):\n",
    "            for col in range(1,self.board_height-1):\n",
    "                if self.board[row][col] == 'O' and not self.visited[row][col]:\n",
    "                    self.visited[row][col] = True\n",
    "                    ref_nodes_cache = []\n",
    "                    ref_nodes_cache.append([row,col])\n",
    "                    ref_nodes = self.get_ref_nodes(row,col)\n",
    "                    while ref_nodes:\n",
    "                        node_o = ref_nodes.pop(0)\n",
    "                        ref_nodes_cache.append(node_o)\n",
    "                        _ref_nodes = self.get_ref_nodes(node_o[0],node_o[1])\n",
    "                        for node in _ref_nodes:\n",
    "                            ref_nodes.append(node)\n",
    "                            \n",
    "                    print(ref_nodes_cache)\n",
    "                    flag = True\n",
    "                    for ref_node in ref_nodes_cache:\n",
    "                        #是否有边界点\n",
    "                        if 0 in ref_node or (self.board_width-1) in ref_node or (self.board_height-1) in ref_node:\n",
    "                            flag = False\n",
    "                            break\n",
    "                    if flag:\n",
    "                        self.board_marked\n",
    "                        for ref_node in ref_nodes_cache:\n",
    "                            self.board[ref_node[0]][ref_node[1]] = 'X'\n",
    "                            \n",
    "\n"
   ]
  },
  {
   "cell_type": "code",
   "execution_count": 48,
   "metadata": {
    "ExecuteTime": {
     "end_time": "2020-02-10T08:33:52.290638Z",
     "start_time": "2020-02-10T08:33:52.281663Z"
    }
   },
   "outputs": [
    {
     "name": "stdout",
     "output_type": "stream",
     "text": [
      "[[1, 2]]\n",
      "[[1, 4]]\n",
      "[[2, 1]]\n",
      "[[2, 3]]\n",
      "['X', 'O', 'X', 'O', 'X', 'O']\n",
      "['O', 'X', 'X', 'X', 'X', 'X']\n",
      "['X', 'X', 'X', 'O', 'X', 'O']\n",
      "['O', 'X', 'O', 'X', 'O', 'X']\n"
     ]
    }
   ],
   "source": [
    "inp = [\n",
    "    [\"X\",\"O\",\"X\",\"O\",\"X\",\"O\"],\n",
    "    [\"O\",\"X\",\"O\",\"X\",\"O\",\"X\"],\n",
    "    [\"X\",\"O\",\"X\",\"O\",\"X\",\"O\"],\n",
    "    [\"O\",\"X\",\"O\",\"X\",\"O\",\"X\"]\n",
    "]\n",
    "ttt = Solution()\n",
    "ttt.solve(inp)\n",
    "for i in inp:\n",
    "    print(i)"
   ]
  },
  {
   "cell_type": "code",
   "execution_count": null,
   "metadata": {},
   "outputs": [],
   "source": []
  },
  {
   "cell_type": "code",
   "execution_count": null,
   "metadata": {},
   "outputs": [],
   "source": []
  },
  {
   "cell_type": "code",
   "execution_count": null,
   "metadata": {},
   "outputs": [],
   "source": []
  },
  {
   "cell_type": "code",
   "execution_count": null,
   "metadata": {},
   "outputs": [],
   "source": []
  },
  {
   "cell_type": "code",
   "execution_count": null,
   "metadata": {},
   "outputs": [],
   "source": []
  },
  {
   "cell_type": "code",
   "execution_count": null,
   "metadata": {},
   "outputs": [],
   "source": []
  },
  {
   "cell_type": "code",
   "execution_count": null,
   "metadata": {},
   "outputs": [],
   "source": []
  },
  {
   "cell_type": "code",
   "execution_count": null,
   "metadata": {},
   "outputs": [],
   "source": []
  },
  {
   "cell_type": "code",
   "execution_count": null,
   "metadata": {},
   "outputs": [],
   "source": []
  },
  {
   "cell_type": "code",
   "execution_count": null,
   "metadata": {},
   "outputs": [],
   "source": []
  },
  {
   "cell_type": "code",
   "execution_count": null,
   "metadata": {},
   "outputs": [],
   "source": []
  },
  {
   "cell_type": "code",
   "execution_count": null,
   "metadata": {},
   "outputs": [],
   "source": []
  },
  {
   "cell_type": "code",
   "execution_count": null,
   "metadata": {},
   "outputs": [],
   "source": []
  },
  {
   "cell_type": "code",
   "execution_count": null,
   "metadata": {},
   "outputs": [],
   "source": []
  }
 ],
 "metadata": {
  "kernelspec": {
   "display_name": "Python [conda env:root] *",
   "language": "python",
   "name": "conda-root-py"
  },
  "language_info": {
   "codemirror_mode": {
    "name": "ipython",
    "version": 3
   },
   "file_extension": ".py",
   "mimetype": "text/x-python",
   "name": "python",
   "nbconvert_exporter": "python",
   "pygments_lexer": "ipython3",
   "version": "3.7.3"
  },
  "varInspector": {
   "cols": {
    "lenName": 16,
    "lenType": 16,
    "lenVar": 40
   },
   "kernels_config": {
    "python": {
     "delete_cmd_postfix": "",
     "delete_cmd_prefix": "del ",
     "library": "var_list.py",
     "varRefreshCmd": "print(var_dic_list())"
    },
    "r": {
     "delete_cmd_postfix": ") ",
     "delete_cmd_prefix": "rm(",
     "library": "var_list.r",
     "varRefreshCmd": "cat(var_dic_list()) "
    }
   },
   "types_to_exclude": [
    "module",
    "function",
    "builtin_function_or_method",
    "instance",
    "_Feature"
   ],
   "window_display": false
  }
 },
 "nbformat": 4,
 "nbformat_minor": 2
}
