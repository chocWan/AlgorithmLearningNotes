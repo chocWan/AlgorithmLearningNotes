{
 "cells": [
  {
   "cell_type": "markdown",
   "metadata": {},
   "source": [
    "##### 学习概要\n",
    "###### 快慢指针\n",
    "    - 场景：解决链表中的问题\n",
    "    - 链表中是否有环\n",
    "    - 已知链表中有环，返回环的起始位置\n",
    "    - 寻找链表的中点\n",
    "    - 寻找链表倒数第K个元素\n",
    "###### 左右指针\n",
    "    - 场景：解决字符串或数组中的查找问题，如二分查找"
   ]
  },
  {
   "cell_type": "markdown",
   "metadata": {},
   "source": [
    "##### 快慢指针-链表中是否有环"
   ]
  },
  {
   "cell_type": "code",
   "execution_count": 7,
   "metadata": {
    "ExecuteTime": {
     "end_time": "2020-03-29T10:10:14.388374Z",
     "start_time": "2020-03-29T10:10:14.381356Z"
    }
   },
   "outputs": [],
   "source": [
    "class ListNode():\n",
    "    def __init__(self,val):\n",
    "        self.val = val\n",
    "        self.next = None\n",
    "        \n",
    "def get_head():\n",
    "    l1 = ListNode(1)\n",
    "    l2 = ListNode(2)\n",
    "    l1.next = l2\n",
    "    l3 = ListNode(3)\n",
    "    l2.next = l3\n",
    "    l4 = ListNode(4)\n",
    "    l3.next = l4\n",
    "    l5 = ListNode(5)\n",
    "    l4.next = l5\n",
    "    l6 = ListNode(6)\n",
    "    l5.next = l6\n",
    "    l6.next = l3\n",
    "    return l1\n",
    "\n",
    "def print_listnode(head):\n",
    "    while head:\n",
    "        print(head.val)\n",
    "        head = head.next\n",
    "        \n",
    "# print_listnode(get_head())"
   ]
  },
  {
   "cell_type": "code",
   "execution_count": 8,
   "metadata": {
    "ExecuteTime": {
     "end_time": "2020-03-29T10:10:15.761264Z",
     "start_time": "2020-03-29T10:10:15.754287Z"
    }
   },
   "outputs": [
    {
     "data": {
      "text/plain": [
       "True"
      ]
     },
     "execution_count": 8,
     "metadata": {},
     "output_type": "execute_result"
    }
   ],
   "source": [
    "def has_cycle(head):\n",
    "    fast = slow = head\n",
    "    while fast and fast.next:\n",
    "        fast = fast.next.next\n",
    "        slow = slow.next\n",
    "        if fast == slow:\n",
    "            return True\n",
    "    return False\n",
    "\n",
    "has_cycle(get_head())"
   ]
  },
  {
   "cell_type": "markdown",
   "metadata": {},
   "source": [
    "##### 快慢指针-已知链表中有环，返回环的起始位置\n",
    "    - 假设在点k处，fast==slow，\n",
    "    - 那么从起点走m步，从k点走m步，两者相遇，即为起点"
   ]
  },
  {
   "cell_type": "code",
   "execution_count": 13,
   "metadata": {
    "ExecuteTime": {
     "end_time": "2020-03-29T10:23:57.396956Z",
     "start_time": "2020-03-29T10:23:57.385986Z"
    }
   },
   "outputs": [
    {
     "data": {
      "text/plain": [
       "3"
      ]
     },
     "execution_count": 13,
     "metadata": {},
     "output_type": "execute_result"
    }
   ],
   "source": [
    "def get_cycle_sidx(head):\n",
    "    fast = slow = head\n",
    "    while fast and fast.next:\n",
    "        fast = fast.next.next\n",
    "        slow = slow.next\n",
    "        if fast == slow:\n",
    "            break\n",
    "    fast = head\n",
    "    while fast != slow:\n",
    "        fast = fast.next\n",
    "        slow = slow.next\n",
    "    return slow\n",
    "\n",
    "get_cycle_sidx(get_head()).val"
   ]
  },
  {
   "cell_type": "code",
   "execution_count": null,
   "metadata": {},
   "outputs": [],
   "source": []
  },
  {
   "cell_type": "code",
   "execution_count": null,
   "metadata": {},
   "outputs": [],
   "source": []
  },
  {
   "cell_type": "code",
   "execution_count": null,
   "metadata": {},
   "outputs": [],
   "source": []
  },
  {
   "cell_type": "code",
   "execution_count": null,
   "metadata": {},
   "outputs": [],
   "source": []
  },
  {
   "cell_type": "code",
   "execution_count": null,
   "metadata": {},
   "outputs": [],
   "source": []
  }
 ],
 "metadata": {
  "kernelspec": {
   "display_name": "Python [conda env:root] *",
   "language": "python",
   "name": "conda-root-py"
  },
  "language_info": {
   "codemirror_mode": {
    "name": "ipython",
    "version": 3
   },
   "file_extension": ".py",
   "mimetype": "text/x-python",
   "name": "python",
   "nbconvert_exporter": "python",
   "pygments_lexer": "ipython3",
   "version": "3.7.3"
  },
  "toc": {
   "base_numbering": 1,
   "nav_menu": {},
   "number_sections": true,
   "sideBar": true,
   "skip_h1_title": false,
   "title_cell": "Table of Contents",
   "title_sidebar": "Contents",
   "toc_cell": false,
   "toc_position": {},
   "toc_section_display": true,
   "toc_window_display": false
  },
  "varInspector": {
   "cols": {
    "lenName": 16,
    "lenType": 16,
    "lenVar": 40
   },
   "kernels_config": {
    "python": {
     "delete_cmd_postfix": "",
     "delete_cmd_prefix": "del ",
     "library": "var_list.py",
     "varRefreshCmd": "print(var_dic_list())"
    },
    "r": {
     "delete_cmd_postfix": ") ",
     "delete_cmd_prefix": "rm(",
     "library": "var_list.r",
     "varRefreshCmd": "cat(var_dic_list()) "
    }
   },
   "types_to_exclude": [
    "module",
    "function",
    "builtin_function_or_method",
    "instance",
    "_Feature"
   ],
   "window_display": false
  }
 },
 "nbformat": 4,
 "nbformat_minor": 2
}
